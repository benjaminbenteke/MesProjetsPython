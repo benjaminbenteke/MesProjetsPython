{
 "cells": [
  {
   "cell_type": "markdown",
   "metadata": {},
   "source": [
    "# STRUCTURE DE DONNEES: SEQUENCE"
   ]
  },
  {
   "cell_type": "markdown",
   "metadata": {},
   "source": [
    "## Liste, String and Tuples"
   ]
  },
  {
   "cell_type": "markdown",
   "metadata": {},
   "source": [
    "### List"
   ]
  },
  {
   "cell_type": "code",
   "execution_count": 91,
   "metadata": {},
   "outputs": [
    {
     "name": "stdout",
     "output_type": "stream",
     "text": [
      "[1, 5, 2] sa taille est: 3\n",
      "['benteke', 'benjamin', 'Idriss', 'Arnaud'] sa taille est: 4\n",
      "['a', 1] sa taille est: 2\n",
      "[[1, 5, 2], ['benteke', 'benjamin', 'Idriss', 'Arnaud'], ['a', 1]] sa taille est: 3\n"
     ]
    }
   ],
   "source": [
    "list_1=[1,5,2] ## liste numérique\n",
    "list_2=['benteke','benjamin','Idriss','Arnaud'] ## liste alphabetique\n",
    "list_3=['a',1] ## liste alphabetique-numerique\n",
    "list_4=[list_1,list_2,list_3] # liste de listes\n",
    "list_5=[] # liste vide\n",
    "print(list_1, 'sa taille est:', len(list_1))\n",
    "print(list_2, 'sa taille est:', len(list_2))\n",
    "print(list_3, 'sa taille est:', len(list_3))\n",
    "print(list_4, 'sa taille est:', len(list_4))\n"
   ]
  },
  {
   "cell_type": "markdown",
   "metadata": {},
   "source": [
    "## Tuple\n",
    "Un tuple est immutable c'est-à-dire on ne peut pas le modifier."
   ]
  },
  {
   "cell_type": "code",
   "execution_count": 92,
   "metadata": {},
   "outputs": [
    {
     "name": "stdout",
     "output_type": "stream",
     "text": [
      "(1, 2, 4) sa taille est: 3\n",
      "('a', 'k') sa taille est: 2\n",
      "(1, 'b') sa taille est: 2\n"
     ]
    }
   ],
   "source": [
    "tup_1=(1,2,4)\n",
    "tup_2=('a','k')\n",
    "tup_3=(1,'b')\n",
    "print(tup_1, 'sa taille est:' , len(tup_1))\n",
    "print(tup_2, 'sa taille est:' , len(tup_2))\n",
    "print(tup_3, 'sa taille est:' , len(tup_3))"
   ]
  },
  {
   "cell_type": "markdown",
   "metadata": {},
   "source": [
    "## String"
   ]
  },
  {
   "cell_type": "code",
   "execution_count": 93,
   "metadata": {},
   "outputs": [
    {
     "name": "stdout",
     "output_type": "stream",
     "text": [
      "b\n",
      "e\n",
      "e\n",
      "k\n"
     ]
    }
   ],
   "source": [
    "nom='benteke'\n",
    "print(nom[0]) # 1ere lettre\n",
    "print(nom[1]) # 2eme lettre\n",
    "print(nom[-1]) # derniere lettre\n",
    "print(nom[-2]) # avant derniere lettre"
   ]
  },
  {
   "cell_type": "markdown",
   "metadata": {},
   "source": [
    "## Définition: SEQUENCE\n",
    "Une séquence est un ensemble d'éléments ordonnés."
   ]
  },
  {
   "cell_type": "raw",
   "metadata": {},
   "source": [
    "Les listes, Les tuples et les strings sont de structures de données qui forment de sequences. Dans une sequence chaque élément a un indexe."
   ]
  },
  {
   "cell_type": "markdown",
   "metadata": {},
   "source": [
    "## Indexing:\n",
    "Cette technique permet directement d'acceder à un élément de notre sequence (List, Tuple et String)"
   ]
  },
  {
   "cell_type": "code",
   "execution_count": 94,
   "metadata": {},
   "outputs": [],
   "source": [
    "list_2=['benteke','Abalo','Idriss','Arnaud']"
   ]
  },
  {
   "cell_type": "code",
   "execution_count": 95,
   "metadata": {},
   "outputs": [
    {
     "name": "stdout",
     "output_type": "stream",
     "text": [
      "benteke\n",
      "Abalo\n",
      "Arnaud\n",
      "Idriss\n"
     ]
    }
   ],
   "source": [
    "print(list_2[0]) # 1er element de list_2\n",
    "print(list_2[1]) # 2eme element de list_2\n",
    "print(list_2[-1]) # dernier élément de list_2\n",
    "print(list_2[-2]) # Avant dernier élément de list_2"
   ]
  },
  {
   "cell_type": "markdown",
   "metadata": {},
   "source": [
    "# Slicing (equivalent a la fonction range):\n",
    "Permet d'acceder à un ensemble d'elements de notre sequence en indiquant un ensemble d'indexes."
   ]
  },
  {
   "cell_type": "markdown",
   "metadata": {},
   "source": [
    "### Forme generale: \n",
    "###### list[debut:fin:pas] avec debut,fin et pas des indexe."
   ]
  },
  {
   "cell_type": "code",
   "execution_count": 96,
   "metadata": {},
   "outputs": [
    {
     "name": "stdout",
     "output_type": "stream",
     "text": [
      "['benteke', 'Abalo', 'Idriss']\n",
      "['Idriss', 'Arnaud']\n"
     ]
    }
   ],
   "source": [
    "print(list_2[0:3]) # print(list_2[:3])\n",
    "print(list_2[2:])"
   ]
  },
  {
   "cell_type": "raw",
   "metadata": {},
   "source": [
    "Pour ne pas se perdre dans le sciling, il faut toujours considerer le chiffre pointé comme indexe +1 car python \n",
    "compte à partir de 0."
   ]
  },
  {
   "cell_type": "code",
   "execution_count": 97,
   "metadata": {},
   "outputs": [
    {
     "name": "stdout",
     "output_type": "stream",
     "text": [
      "['Abalo', 'Idriss', 'Arnaud']\n",
      "['Arnaud', 'Idriss', 'Abalo', 'benteke']\n",
      "['benteke', 'Idriss']\n"
     ]
    }
   ],
   "source": [
    "print(list_2[1:4:1])\n",
    "print(list_2[::-1]) # inversion des éléments\n",
    "print(list_2[::2]) #print(list_2[0:4:2])"
   ]
  },
  {
   "cell_type": "markdown",
   "metadata": {},
   "source": [
    "### Importances\n",
    "L'indexing nous permet de bien modifier les éléments d'une sequence (cas de list)."
   ]
  },
  {
   "cell_type": "code",
   "execution_count": 98,
   "metadata": {},
   "outputs": [
    {
     "name": "stdout",
     "output_type": "stream",
     "text": [
      "benteke\n",
      "['Longau', 'Abalo', 'Idriss', 'Arnaud']\n"
     ]
    }
   ],
   "source": [
    "print(list_2[0])\n",
    "list_2[0]='Longau'\n",
    "print(list_2)"
   ]
  },
  {
   "cell_type": "markdown",
   "metadata": {},
   "source": [
    "### Nota:\n",
    "les strings et les tuples ne sont pas modifiables."
   ]
  },
  {
   "cell_type": "markdown",
   "metadata": {},
   "source": [
    "# Methodes sur les sequence"
   ]
  },
  {
   "cell_type": "markdown",
   "metadata": {},
   "source": [
    "## Actions sur une liste"
   ]
  },
  {
   "cell_type": "markdown",
   "metadata": {},
   "source": [
    "### Ajouter d'un élément"
   ]
  },
  {
   "cell_type": "code",
   "execution_count": 99,
   "metadata": {},
   "outputs": [
    {
     "data": {
      "text/plain": [
       "['Longau', 'Abalo', 'Idriss', 'Arnaud']"
      ]
     },
     "execution_count": 99,
     "metadata": {},
     "output_type": "execute_result"
    }
   ],
   "source": [
    "list_2"
   ]
  },
  {
   "cell_type": "code",
   "execution_count": 100,
   "metadata": {},
   "outputs": [
    {
     "data": {
      "text/plain": [
       "['Longau', 'Abalo', 'Idriss', 'Arnaud', 'Cyrille']"
      ]
     },
     "execution_count": 100,
     "metadata": {},
     "output_type": "execute_result"
    }
   ],
   "source": [
    "list_2.append('Cyrille') ## Append('nom de l'element a ajouter) permet d'ajouter un element à list_2 juste à la fin\n",
    "list_2"
   ]
  },
  {
   "cell_type": "code",
   "execution_count": 101,
   "metadata": {},
   "outputs": [
    {
     "data": {
      "text/plain": [
       "['Longau', 'Abalo', 'Nguepi', 'Idriss', 'Arnaud', 'Cyrille']"
      ]
     },
     "execution_count": 101,
     "metadata": {},
     "output_type": "execute_result"
    }
   ],
   "source": [
    "list_2.insert(2,'Nguepi') # permet d'ajouter Nguepi à lindexe 2\n",
    "list_2"
   ]
  },
  {
   "cell_type": "markdown",
   "metadata": {},
   "source": [
    "## Ajout d'une liste à une autre liste"
   ]
  },
  {
   "cell_type": "code",
   "execution_count": 102,
   "metadata": {},
   "outputs": [
    {
     "data": {
      "text/plain": [
       "['Junior', 'Yvan', 'Rigobert']"
      ]
     },
     "execution_count": 102,
     "metadata": {},
     "output_type": "execute_result"
    }
   ],
   "source": [
    "etudiant=['Junior','Yvan','Rigobert']\n",
    "etudiant"
   ]
  },
  {
   "cell_type": "raw",
   "metadata": {},
   "source": [
    "On veut ajout la liste etudiant à la list_2: "
   ]
  },
  {
   "cell_type": "code",
   "execution_count": 103,
   "metadata": {},
   "outputs": [
    {
     "data": {
      "text/plain": [
       "['Longau',\n",
       " 'Abalo',\n",
       " 'Nguepi',\n",
       " 'Idriss',\n",
       " 'Arnaud',\n",
       " 'Cyrille',\n",
       " 'Junior',\n",
       " 'Yvan',\n",
       " 'Rigobert']"
      ]
     },
     "execution_count": 103,
     "metadata": {},
     "output_type": "execute_result"
    }
   ],
   "source": [
    "list_2.extend(etudiant)\n",
    "list_2"
   ]
  },
  {
   "cell_type": "markdown",
   "metadata": {},
   "source": [
    "### taille d'une liste"
   ]
  },
  {
   "cell_type": "code",
   "execution_count": 104,
   "metadata": {},
   "outputs": [
    {
     "data": {
      "text/plain": [
       "9"
      ]
     },
     "execution_count": 104,
     "metadata": {},
     "output_type": "execute_result"
    }
   ],
   "source": [
    "len(list_2)"
   ]
  },
  {
   "cell_type": "markdown",
   "metadata": {},
   "source": [
    "## Tri d'une liste (tri selon l'ordre alphabetique, en cas numérique croissant ou décroissant)"
   ]
  },
  {
   "cell_type": "code",
   "execution_count": 105,
   "metadata": {},
   "outputs": [
    {
     "data": {
      "text/plain": [
       "['Abalo',\n",
       " 'Arnaud',\n",
       " 'Cyrille',\n",
       " 'Idriss',\n",
       " 'Junior',\n",
       " 'Longau',\n",
       " 'Nguepi',\n",
       " 'Rigobert',\n",
       " 'Yvan']"
      ]
     },
     "execution_count": 105,
     "metadata": {},
     "output_type": "execute_result"
    }
   ],
   "source": [
    "list_2.sort() # Ordre Alphabétique ou list_2.sort(reverse=False)\n",
    "list_2"
   ]
  },
  {
   "cell_type": "code",
   "execution_count": 106,
   "metadata": {},
   "outputs": [
    {
     "data": {
      "text/plain": [
       "['Yvan',\n",
       " 'Rigobert',\n",
       " 'Nguepi',\n",
       " 'Longau',\n",
       " 'Junior',\n",
       " 'Idriss',\n",
       " 'Cyrille',\n",
       " 'Arnaud',\n",
       " 'Abalo']"
      ]
     },
     "execution_count": 106,
     "metadata": {},
     "output_type": "execute_result"
    }
   ],
   "source": [
    "list_2.sort(reverse=True) # L'ordre anti-alphabétique\n",
    "list_2"
   ]
  },
  {
   "cell_type": "markdown",
   "metadata": {},
   "source": [
    "### Nota:\n",
    "Pour le tri alphabétique, la premiere lettre de chaque mot doit étre soit majuscule ou miniscule.\n",
    "Dans tous les cas, attention avec Majuscule et miniscules, espaces et d'autres caracteres speciaux, tenez bien soin de ça."
   ]
  },
  {
   "cell_type": "code",
   "execution_count": 107,
   "metadata": {},
   "outputs": [
    {
     "data": {
      "text/plain": [
       "[2, 5, 8, 9, 10, 45, 88, 25]"
      ]
     },
     "execution_count": 107,
     "metadata": {},
     "output_type": "execute_result"
    }
   ],
   "source": [
    "nombre=[2,5,8,9,10,45,88,25]\n",
    "nombre"
   ]
  },
  {
   "cell_type": "code",
   "execution_count": 108,
   "metadata": {},
   "outputs": [
    {
     "data": {
      "text/plain": [
       "[2, 5, 8, 9, 10, 25, 45, 88]"
      ]
     },
     "execution_count": 108,
     "metadata": {},
     "output_type": "execute_result"
    }
   ],
   "source": [
    "nombre.sort() # ordre croissant\n",
    "nombre"
   ]
  },
  {
   "cell_type": "code",
   "execution_count": 109,
   "metadata": {},
   "outputs": [
    {
     "data": {
      "text/plain": [
       "[88, 45, 25, 10, 9, 8, 5, 2]"
      ]
     },
     "execution_count": 109,
     "metadata": {},
     "output_type": "execute_result"
    }
   ],
   "source": [
    "nombre.sort(reverse=True) # Ordre décroissant\n",
    "nombre"
   ]
  },
  {
   "cell_type": "markdown",
   "metadata": {},
   "source": [
    "## Compatage d'apparition d'un élément dans une liste"
   ]
  },
  {
   "cell_type": "code",
   "execution_count": 111,
   "metadata": {},
   "outputs": [
    {
     "name": "stdout",
     "output_type": "stream",
     "text": [
      "1\n",
      "0\n"
     ]
    }
   ],
   "source": [
    "print(list_2.count('Idriss'))\n",
    "print(list_2.count('benteke'))"
   ]
  },
  {
   "cell_type": "raw",
   "metadata": {},
   "source": [
    "D'autres methodes: pop, remove, clear"
   ]
  },
  {
   "cell_type": "markdown",
   "metadata": {},
   "source": [
    "## Utilisation de structures de controles (if et for) dans une liste"
   ]
  },
  {
   "cell_type": "code",
   "execution_count": 123,
   "metadata": {},
   "outputs": [
    {
     "data": {
      "text/plain": [
       "['benteke', 'benjamin', 'Idriss', 'Arnaud']"
      ]
     },
     "execution_count": 123,
     "metadata": {},
     "output_type": "execute_result"
    }
   ],
   "source": [
    "list_2=['benteke','benjamin','Idriss','Arnaud'] \n",
    "list_2"
   ]
  },
  {
   "cell_type": "markdown",
   "metadata": {},
   "source": [
    "### if"
   ]
  },
  {
   "cell_type": "code",
   "execution_count": 124,
   "metadata": {},
   "outputs": [
    {
     "name": "stdout",
     "output_type": "stream",
     "text": [
      "d'accord\n"
     ]
    }
   ],
   "source": [
    "if 'Idriss' in list_2:\n",
    "    print(\"d'accord\")\n",
    "else:\n",
    "    print(\"Attendez, je vais l'ajouté\")"
   ]
  },
  {
   "cell_type": "code",
   "execution_count": 125,
   "metadata": {},
   "outputs": [
    {
     "name": "stdout",
     "output_type": "stream",
     "text": [
      "c'est bien\n"
     ]
    }
   ],
   "source": [
    "if 'ben' in list_2:\n",
    "    print(\"qu'il sorte\")\n",
    "else:\n",
    "    print(\"c'est bien\")"
   ]
  },
  {
   "cell_type": "markdown",
   "metadata": {},
   "source": [
    "### for"
   ]
  },
  {
   "cell_type": "markdown",
   "metadata": {},
   "source": [
    "Pour affichier tous les éléménts d'une liste"
   ]
  },
  {
   "cell_type": "code",
   "execution_count": 126,
   "metadata": {},
   "outputs": [
    {
     "name": "stdout",
     "output_type": "stream",
     "text": [
      "benteke\n",
      "benjamin\n",
      "Idriss\n",
      "Arnaud\n"
     ]
    }
   ],
   "source": [
    "for k in list_2:\n",
    "    print(k)"
   ]
  },
  {
   "cell_type": "raw",
   "metadata": {},
   "source": [
    "Pour Affichier chaque element d'une liste et son index on fait:"
   ]
  },
  {
   "cell_type": "code",
   "execution_count": 127,
   "metadata": {},
   "outputs": [
    {
     "name": "stdout",
     "output_type": "stream",
     "text": [
      "0 benteke\n",
      "1 benjamin\n",
      "2 Idriss\n",
      "3 Arnaud\n"
     ]
    }
   ],
   "source": [
    "for index,nom in enumerate(list_2):\n",
    "    print(index,nom)"
   ]
  },
  {
   "cell_type": "markdown",
   "metadata": {},
   "source": [
    "## zip\n",
    "Elle permet d'utiliser la boucle for avec deux listes en parallele. Les listes doivent etre de meme taille, sinon elle affichera seulement le nombre d'éléments qui machera. cad la boucle for s'arretera là où la liste la plus court s'arrete."
   ]
  },
  {
   "cell_type": "code",
   "execution_count": 128,
   "metadata": {},
   "outputs": [
    {
     "data": {
      "text/plain": [
       "['benteke', 'benjamin', 'Idriss', 'Arnaud']"
      ]
     },
     "execution_count": 128,
     "metadata": {},
     "output_type": "execute_result"
    }
   ],
   "source": [
    "list_2=['benteke','benjamin','Idriss','Arnaud'] \n",
    "list_2"
   ]
  },
  {
   "cell_type": "code",
   "execution_count": 129,
   "metadata": {},
   "outputs": [
    {
     "data": {
      "text/plain": [
       "[21, 22, 45]"
      ]
     },
     "execution_count": 129,
     "metadata": {},
     "output_type": "execute_result"
    }
   ],
   "source": [
    "age=[21,22,45]\n",
    "age"
   ]
  },
  {
   "cell_type": "code",
   "execution_count": 130,
   "metadata": {},
   "outputs": [
    {
     "name": "stdout",
     "output_type": "stream",
     "text": [
      "benteke 21\n",
      "benjamin 22\n",
      "Idriss 45\n"
     ]
    }
   ],
   "source": [
    "for i,k in zip(list_2,age):\n",
    "    print(i,k)"
   ]
  },
  {
   "cell_type": "code",
   "execution_count": null,
   "metadata": {},
   "outputs": [],
   "source": []
  }
 ],
 "metadata": {
  "kernelspec": {
   "display_name": "Python 3",
   "language": "python",
   "name": "python3"
  },
  "language_info": {
   "codemirror_mode": {
    "name": "ipython",
    "version": 3
   },
   "file_extension": ".py",
   "mimetype": "text/x-python",
   "name": "python",
   "nbconvert_exporter": "python",
   "pygments_lexer": "ipython3",
   "version": "3.7.0"
  }
 },
 "nbformat": 4,
 "nbformat_minor": 2
}
