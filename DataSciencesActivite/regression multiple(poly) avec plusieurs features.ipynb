{
 "cells": [
  {
   "cell_type": "markdown",
   "metadata": {},
   "source": [
    "# Benjamin BENTEKE\n",
    "## AIMS-SENEGAL 2019-2020\n",
    "### TRAVAIL PRATIQUE INDIVIDUEL"
   ]
  },
  {
   "cell_type": "markdown",
   "metadata": {},
   "source": [
    "# REGRESSION LINEAIRE AVEC NUMPY CAS DE PLUSIEURS FEATURES"
   ]
  },
  {
   "cell_type": "code",
   "execution_count": 1,
   "metadata": {},
   "outputs": [],
   "source": [
    "import numpy as np\n",
    "from sklearn.datasets import make_regression # Permet de generer les données de maniere aléatoire dans scikit learn\n",
    "import matplotlib.pyplot as plt"
   ]
  },
  {
   "cell_type": "markdown",
   "metadata": {},
   "source": [
    "# STEP 1: DATASET \n",
    "## x est une matrice non plus un vecteur"
   ]
  },
  {
   "cell_type": "code",
   "execution_count": 2,
   "metadata": {},
   "outputs": [],
   "source": [
    "x,y=make_regression(n_samples=100, n_features=2, noise=10) # on cree deux tableaux: x et y donc (x,y) notre dataset"
   ]
  },
  {
   "cell_type": "code",
   "execution_count": 3,
   "metadata": {},
   "outputs": [
    {
     "data": {
      "text/plain": [
       "<matplotlib.collections.PathCollection at 0xb1b6030>"
      ]
     },
     "execution_count": 3,
     "metadata": {},
     "output_type": "execute_result"
    },
    {
     "data": {
      "image/png": "[encoded data removed]",
      "text/plain": [
       "<Figure size 432x288 with 1 Axes>"
      ]
     },
     "metadata": {
      "needs_background": "light"
     },
     "output_type": "display_data"
    }
   ],
   "source": [
    "plt.scatter(x[:,0],y)"
   ]
  },
  {
   "cell_type": "code",
   "execution_count": 4,
   "metadata": {},
   "outputs": [
    {
     "data": {
      "text/plain": [
       "<matplotlib.collections.PathCollection at 0xc1f4610>"
      ]
     },
     "execution_count": 4,
     "metadata": {},
     "output_type": "execute_result"
    },
    {
     "data": {
      "image/png": "[encoded data removed]",
      "text/plain": [
       "<Figure size 432x288 with 1 Axes>"
      ]
     },
     "metadata": {
      "needs_background": "light"
     },
     "output_type": "display_data"
    }
   ],
   "source": [
    "plt.scatter(x[:,1],y)"
   ]
  },
  {
   "cell_type": "markdown",
   "metadata": {},
   "source": [
    "### Verification de la dimension de matrice"
   ]
  },
  {
   "cell_type": "code",
   "execution_count": 5,
   "metadata": {},
   "outputs": [
    {
     "name": "stdout",
     "output_type": "stream",
     "text": [
      "(100, 2) (100,)\n"
     ]
    }
   ],
   "source": [
    "print(x.shape,y.shape)"
   ]
  },
  {
   "cell_type": "markdown",
   "metadata": {},
   "source": [
    "##### Il faut redimensionner y"
   ]
  },
  {
   "cell_type": "code",
   "execution_count": 6,
   "metadata": {},
   "outputs": [],
   "source": [
    "y=y.reshape(y.shape[0],1) # y.shape[0] veut dire nombre de lignes de y"
   ]
  },
  {
   "cell_type": "code",
   "execution_count": 7,
   "metadata": {},
   "outputs": [
    {
     "name": "stdout",
     "output_type": "stream",
     "text": [
      "(100, 2)\n",
      "(100, 1)\n"
     ]
    }
   ],
   "source": [
    "print(x.shape)\n",
    "print(y.shape)"
   ]
  },
  {
   "cell_type": "markdown",
   "metadata": {},
   "source": [
    "## Creation de la matrice X"
   ]
  },
  {
   "cell_type": "code",
   "execution_count": 8,
   "metadata": {},
   "outputs": [
    {
     "name": "stdout",
     "output_type": "stream",
     "text": [
      "(100, 3)\n",
      "[[-1.53232846 -1.60214234  1.        ]\n",
      " [-0.93340233 -1.4866404   1.        ]\n",
      " [-1.89873679  0.54527215  1.        ]\n",
      " [ 3.03492334  1.23071433  1.        ]\n",
      " [-0.56061343  0.28212624  1.        ]\n",
      " [-0.60116456  1.37005506  1.        ]\n",
      " [ 1.73602838  0.82232469  1.        ]\n",
      " [-0.57743976  0.52482969  1.        ]\n",
      " [ 1.01283528  1.29594895  1.        ]\n",
      " [ 0.83157266  0.87235375  1.        ]]\n"
     ]
    }
   ],
   "source": [
    "np.random.seed(2)\n",
    "X=np.hstack((x,np.ones((x.shape[0],1))))\n",
    "print(X.shape)\n",
    "print(X[:10])"
   ]
  },
  {
   "cell_type": "code",
   "execution_count": 9,
   "metadata": {},
   "outputs": [
    {
     "name": "stdout",
     "output_type": "stream",
     "text": [
      "(3, 1)\n",
      "[[-0.41675785]\n",
      " [-0.05626683]\n",
      " [-2.1361961 ]]\n"
     ]
    }
   ],
   "source": [
    "theta=np.random.randn(3,1) # un vecteur aléatoire normale\n",
    "print(theta.shape)\n",
    "print(theta)"
   ]
  },
  {
   "cell_type": "markdown",
   "metadata": {},
   "source": [
    "# STEP 2 CREATION OF NON-LINEAR MODEL"
   ]
  },
  {
   "cell_type": "code",
   "execution_count": 10,
   "metadata": {},
   "outputs": [],
   "source": [
    "def model(X,theta):\n",
    "    return X.dot(theta) # produit matricel entre X et theta"
   ]
  },
  {
   "cell_type": "markdown",
   "metadata": {},
   "source": [
    "### Test de la fonction model"
   ]
  },
  {
   "cell_type": "code",
   "execution_count": 11,
   "metadata": {},
   "outputs": [
    {
     "data": {
      "text/plain": [
       "<matplotlib.collections.PathCollection at 0xc2347f0>"
      ]
     },
     "execution_count": 11,
     "metadata": {},
     "output_type": "execute_result"
    },
    {
     "data": {
      "image/png": "[encoded data removed]",
      "text/plain": [
       "<Figure size 432x288 with 1 Axes>"
      ]
     },
     "metadata": {
      "needs_background": "light"
     },
     "output_type": "display_data"
    }
   ],
   "source": [
    "#model(X,theta)\n",
    "plt.scatter(x[:,0],y)\n",
    "# plt.scatter(x,y)\n",
    "plt.scatter(x[:,0],model(X,theta),c='r') "
   ]
  },
  {
   "cell_type": "code",
   "execution_count": 12,
   "metadata": {},
   "outputs": [
    {
     "data": {
      "text/plain": [
       "<matplotlib.collections.PathCollection at 0xc271a70>"
      ]
     },
     "execution_count": 12,
     "metadata": {},
     "output_type": "execute_result"
    },
    {
     "data": {
      "image/png": "[encoded data removed]",
      "text/plain": [
       "<Figure size 432x288 with 1 Axes>"
      ]
     },
     "metadata": {
      "needs_background": "light"
     },
     "output_type": "display_data"
    }
   ],
   "source": [
    "#model(X,theta)\n",
    "plt.scatter(x[:,1],y)\n",
    "# plt.scatter(x,y)\n",
    "plt.scatter(x[:,1],model(X,theta),c='r') # car la pente est negatives"
   ]
  },
  {
   "cell_type": "markdown",
   "metadata": {},
   "source": [
    "# STEP 3 FONCTION COUT"
   ]
  },
  {
   "cell_type": "code",
   "execution_count": 13,
   "metadata": {},
   "outputs": [],
   "source": [
    "def cost_function(X,y,theta):\n",
    "    m=len(y)\n",
    "    return 1/(2*m)*np.sum((model(X,theta)-y)**2)  "
   ]
  },
  {
   "cell_type": "code",
   "execution_count": 14,
   "metadata": {},
   "outputs": [
    {
     "data": {
      "text/plain": [
       "6907.626579685531"
      ]
     },
     "execution_count": 14,
     "metadata": {},
     "output_type": "execute_result"
    }
   ],
   "source": [
    "cost_function(X,y,theta) # On veut que cost_function tende vers 0"
   ]
  },
  {
   "cell_type": "markdown",
   "metadata": {},
   "source": [
    "# STEP 4 GRADIENTS GRADIENT DESCENT"
   ]
  },
  {
   "cell_type": "code",
   "execution_count": 15,
   "metadata": {},
   "outputs": [],
   "source": [
    "def grad(X,y,theta):\n",
    "    m=len(y)\n",
    "    return (1/m)*np.transpose(X).dot(model(X,theta)-y)"
   ]
  },
  {
   "cell_type": "code",
   "execution_count": 16,
   "metadata": {},
   "outputs": [],
   "source": [
    "def gradient_desc(X,y,theta,learnin_rate,n_iterations):\n",
    "    \n",
    "    cost_history=np.zeros(n_iterations)\n",
    "    \n",
    "    for i in range(0,n_iterations):\n",
    "        theta=theta-learnin_rate*grad(X,y,theta)\n",
    "        cost_history[i]=cost_function(X,y,theta)\n",
    "        \n",
    "    return theta,cost_history"
   ]
  },
  {
   "cell_type": "markdown",
   "metadata": {},
   "source": [
    "### Comments:"
   ]
  },
  {
   "cell_type": "raw",
   "metadata": {},
   "source": [
    "1) learning rate (alpha) c'est le pas. alpha=0.001 cad on fait le petit pas\n",
    "2) Notre d'iteration c'est le temps qu'on donne à la machine de travailler\n",
    "Ces sont le deux hyper-parametres de la fonction cout"
   ]
  },
  {
   "cell_type": "markdown",
   "metadata": {},
   "source": [
    "# STEP 5  ENTRAINEMENT DU MODEL"
   ]
  },
  {
   "cell_type": "markdown",
   "metadata": {},
   "source": [
    "### Machine learning"
   ]
  },
  {
   "cell_type": "code",
   "execution_count": 17,
   "metadata": {},
   "outputs": [
    {
     "data": {
      "text/plain": [
       "array([[73.09692956],\n",
       "       [73.55988112],\n",
       "       [ 0.43889482]])"
      ]
     },
     "execution_count": 17,
     "metadata": {},
     "output_type": "execute_result"
    }
   ],
   "source": [
    "theta_final,cost_history=gradient_desc(X,y,theta,learnin_rate=0.01,n_iterations=1000)\n",
    "theta_final"
   ]
  },
  {
   "cell_type": "markdown",
   "metadata": {},
   "source": [
    "## Test dans le model pour le theta_final obtenu"
   ]
  },
  {
   "cell_type": "code",
   "execution_count": 18,
   "metadata": {},
   "outputs": [
    {
     "data": {
      "text/plain": [
       "<matplotlib.collections.PathCollection at 0xc2b4b70>"
      ]
     },
     "execution_count": 18,
     "metadata": {},
     "output_type": "execute_result"
    },
    {
     "data": {
      "image/png": "[encoded data removed]",
      "text/plain": [
       "<Figure size 432x288 with 1 Axes>"
      ]
     },
     "metadata": {
      "needs_background": "light"
     },
     "output_type": "display_data"
    }
   ],
   "source": [
    "predictions=model(X,theta_final)\n",
    "plt.scatter(x[:,0],y)\n",
    "plt.scatter(x[:,0],predictions,c='r')"
   ]
  },
  {
   "cell_type": "code",
   "execution_count": 19,
   "metadata": {},
   "outputs": [
    {
     "data": {
      "text/plain": [
       "<matplotlib.collections.PathCollection at 0xc2f2d30>"
      ]
     },
     "execution_count": 19,
     "metadata": {},
     "output_type": "execute_result"
    },
    {
     "data": {
      "image/png": "[encoded data removed]",
      "text/plain": [
       "<Figure size 432x288 with 1 Axes>"
      ]
     },
     "metadata": {
      "needs_background": "light"
     },
     "output_type": "display_data"
    }
   ],
   "source": [
    "predictions=model(X,theta_final)\n",
    "plt.scatter(x[:,1],y)\n",
    "plt.scatter(x[:,1],predictions,c='r')"
   ]
  },
  {
   "cell_type": "markdown",
   "metadata": {},
   "source": [
    "### Comments:"
   ]
  },
  {
   "cell_type": "raw",
   "metadata": {},
   "source": [
    "c'est pas du tout bon, on remarqu'on fait de petits pas. On doit augmenter le pas et le nombre d'itérations"
   ]
  },
  {
   "cell_type": "markdown",
   "metadata": {},
   "source": [
    "## comments"
   ]
  },
  {
   "cell_type": "raw",
   "metadata": {},
   "source": [
    "avec learning rate(pas)=0.01, on a u vecteur theta optimal (minimum)"
   ]
  },
  {
   "cell_type": "markdown",
   "metadata": {},
   "source": [
    "# STEP 6 COURBE D'APPRENTISSAGE"
   ]
  },
  {
   "cell_type": "raw",
   "metadata": {},
   "source": [
    "On veut voir si la machine à reussit bien apprendre. On enregistre le cout de notre modele à chaque itération.\n",
    "Ca montre l'allure de la minimisation de l'erreur cad la recherche de theta optimal."
   ]
  },
  {
   "cell_type": "code",
   "execution_count": 20,
   "metadata": {},
   "outputs": [
    {
     "data": {
      "text/plain": [
       "[<matplotlib.lines.Line2D at 0xc32a6f0>]"
      ]
     },
     "execution_count": 20,
     "metadata": {},
     "output_type": "execute_result"
    },
    {
     "data": {
      "image/png": "[encoded data removed]",
      "text/plain": [
       "<Figure size 432x288 with 1 Axes>"
      ]
     },
     "metadata": {
      "needs_background": "light"
     },
     "output_type": "display_data"
    }
   ],
   "source": [
    "plt.plot(range(1000),cost_history)"
   ]
  },
  {
   "cell_type": "markdown",
   "metadata": {},
   "source": [
    "### Comments:"
   ]
  },
  {
   "cell_type": "raw",
   "metadata": {},
   "source": [
    "On voit que deja à partir de 400 on avait deja atteint un theta optimum(minimum). On aurait pu s'arreter à 400 au lieu d'aller jusqu'à 1000."
   ]
  },
  {
   "cell_type": "markdown",
   "metadata": {},
   "source": [
    "# COEFFICIENT DE DETERMINATION"
   ]
  },
  {
   "cell_type": "raw",
   "metadata": {},
   "source": [
    "comment évaluer notre modele à l'aide du coefficient du determination. Plus il est proche de 1, plus notre modele entre bien dans le nuage de points."
   ]
  },
  {
   "cell_type": "code",
   "execution_count": 21,
   "metadata": {},
   "outputs": [],
   "source": [
    "def coef_determination(y,pred):\n",
    "    u= ((y-pred)**2).sum()  # La somme de carrées residuelles ou le residus de la somme de carrées\n",
    "    v= ((y-y.mean())**2).sum() # La somme total\n",
    "    return 1-u/v"
   ]
  },
  {
   "cell_type": "code",
   "execution_count": 22,
   "metadata": {},
   "outputs": [
    {
     "data": {
      "text/plain": [
       "0.993012933421474"
      ]
     },
     "execution_count": 22,
     "metadata": {},
     "output_type": "execute_result"
    }
   ],
   "source": [
    "coef_determination(y,predictions)"
   ]
  },
  {
   "cell_type": "markdown",
   "metadata": {},
   "source": [
    "# Plotting in 3D"
   ]
  },
  {
   "cell_type": "code",
   "execution_count": 23,
   "metadata": {},
   "outputs": [],
   "source": [
    "from mpl_toolkits.mplot3d import Axes3D "
   ]
  },
  {
   "cell_type": "code",
   "execution_count": 24,
   "metadata": {},
   "outputs": [
    {
     "data": {
      "application/javascript": [
       "/* Put everything inside the global mpl namespace */\n",
       "window.mpl = {};\n",
       "\n",
       "\n",
       "mpl.get_websocket_type = function() {\n",
       "    if (typeof(WebSocket) !== 'undefined') {\n",
       "        return WebSocket;\n",
       "    } else if (typeof(MozWebSocket) !== 'undefined') {\n",
       "        return MozWebSocket;\n",
       "    } else {\n",
       "        alert('Your browser does not have WebSocket support.' +\n",
       "              'Please try Chrome, Safari or Firefox ≥ 6. ' +\n",
       "              'Firefox 4 and 5 are also supported but you ' +\n",
       "              'have to enable WebSockets in about:config.');\n",
       "    };\n",
       "}\n",
       "\n",
       "mpl.figure = function(figure_id, websocket, ondownload, parent_element) {\n",
       "    this.id = figure_id;\n",
       "\n",
       "    this.ws = websocket;\n",
       "\n",
       "    this.supports_binary = (this.ws.binaryType != undefined);\n",
       "\n",
       "    if (!this.supports_binary) {\n",
       "        var warnings = document.getElementById(\"mpl-warnings\");\n",
       "        if (warnings) {\n",
       "            warnings.style.display = 'block';\n",
       "            warnings.textContent = (\n",
       "                \"This browser does not support binary websocket messages. \" +\n",
       "                    \"Performance may be slow.\");\n",
       "        }\n",
       "    }\n",
       "\n",
       "    this.imageObj = new Image();\n",
       "\n",
       "    this.context = undefined;\n",
       "    this.message = undefined;\n",
       "    this.canvas = undefined;\n",
       "    this.rubberband_canvas = undefined;\n",
       "    this.rubberband_context = undefined;\n",
       "    this.format_dropdown = undefined;\n",
       "\n",
       "    this.image_mode = 'full';\n",
       "\n",
       "    this.root = $('<div/>');\n",
       "    this._root_extra_style(this.root)\n",
       "    this.root.attr('style', 'display: inline-block');\n",
       "\n",
       "    $(parent_element).append(this.root);\n",
       "\n",
       "    this._init_header(this);\n",
       "    this._init_canvas(this);\n",
       "    this._init_toolbar(this);\n",
       "\n",
       "    var fig = this;\n",
       "\n",
       "    this.waiting = false;\n",
       "\n",
       "    this.ws.onopen =  function () {\n",
       "            fig.send_message(\"supports_binary\", {value: fig.supports_binary});\n",
       "            fig.send_message(\"send_image_mode\", {});\n",
       "            if (mpl.ratio != 1) {\n",
       "                fig.send_message(\"set_dpi_ratio\", {'dpi_ratio': mpl.ratio});\n",
       "            }\n",
       "            fig.send_message(\"refresh\", {});\n",
       "        }\n",
       "\n",
       "    this.imageObj.onload = function() {\n",
       "            if (fig.image_mode == 'full') {\n",
       "                // Full images could contain transparency (where diff images\n",
       "                // almost always do), so we need to clear the canvas so that\n",
       "                // there is no ghosting.\n",
       "                fig.context.clearRect(0, 0, fig.canvas.width, fig.canvas.height);\n",
       "            }\n",
       "            fig.context.drawImage(fig.imageObj, 0, 0);\n",
       "        };\n",
       "\n",
       "    this.imageObj.onunload = function() {\n",
       "        fig.ws.close();\n",
       "    }\n",
       "\n",
       "    this.ws.onmessage = this._make_on_message_function(this);\n",
       "\n",
       "    this.ondownload = ondownload;\n",
       "}\n",
       "\n",
       "mpl.figure.prototype._init_header = function() {\n",
       "    var titlebar = $(\n",
       "        '<div class=\"ui-dialog-titlebar ui-widget-header ui-corner-all ' +\n",
       "        'ui-helper-clearfix\"/>');\n",
       "    var titletext = $(\n",
       "        '<div class=\"ui-dialog-title\" style=\"width: 100%; ' +\n",
       "        'text-align: center; padding: 3px;\"/>');\n",
       "    titlebar.append(titletext)\n",
       "    this.root.append(titlebar);\n",
       "    this.header = titletext[0];\n",
       "}\n",
       "\n",
       "\n",
       "\n",
       "mpl.figure.prototype._canvas_extra_style = function(canvas_div) {\n",
       "\n",
       "}\n",
       "\n",
       "\n",
       "mpl.figure.prototype._root_extra_style = function(canvas_div) {\n",
       "\n",
       "}\n",
       "\n",
       "mpl.figure.prototype._init_canvas = function() {\n",
       "    var fig = this;\n",
       "\n",
       "    var canvas_div = $('<div/>');\n",
       "\n",
       "    canvas_div.attr('style', 'position: relative; clear: both; outline: 0');\n",
       "\n",
       "    function canvas_keyboard_event(event) {\n",
       "        return fig.key_event(event, event['data']);\n",
       "    }\n",
       "\n",
       "    canvas_div.keydown('key_press', canvas_keyboard_event);\n",
       "    canvas_div.keyup('key_release', canvas_keyboard_event);\n",
       "    this.canvas_div = canvas_div\n",
       "    this._canvas_extra_style(canvas_div)\n",
       "    this.root.append(canvas_div);\n",
       "\n",
       "    var canvas = $('<canvas/>');\n",
       "    canvas.addClass('mpl-canvas');\n",
       "    canvas.attr('style', \"left: 0; top: 0; z-index: 0; outline: 0\")\n",
       "\n",
       "    this.canvas = canvas[0];\n",
       "    this.context = canvas[0].getContext(\"2d\");\n",
       "\n",
       "    var backingStore = this.context.backingStorePixelRatio ||\n",
       "\tthis.context.webkitBackingStorePixelRatio ||\n",
       "\tthis.context.mozBackingStorePixelRatio ||\n",
       "\tthis.context.msBackingStorePixelRatio ||\n",
       "\tthis.context.oBackingStorePixelRatio ||\n",
       "\tthis.context.backingStorePixelRatio || 1;\n",
       "\n",
       "    mpl.ratio = (window.devicePixelRatio || 1) / backingStore;\n",
       "\n",
       "    var rubberband = $('<canvas/>');\n",
       "    rubberband.attr('style', \"position: absolute; left: 0; top: 0; z-index: 1;\")\n",
       "\n",
       "    var pass_mouse_events = true;\n",
       "\n",
       "    canvas_div.resizable({\n",
       "        start: function(event, ui) {\n",
       "            pass_mouse_events = false;\n",
       "        },\n",
       "        resize: function(event, ui) {\n",
       "            fig.request_resize(ui.size.width, ui.size.height);\n",
       "        },\n",
       "        stop: function(event, ui) {\n",
       "            pass_mouse_events = true;\n",
       "            fig.request_resize(ui.size.width, ui.size.height);\n",
       "        },\n",
       "    });\n",
       "\n",
       "    function mouse_event_fn(event) {\n",
       "        if (pass_mouse_events)\n",
       "            return fig.mouse_event(event, event['data']);\n",
       "    }\n",
       "\n",
       "    rubberband.mousedown('button_press', mouse_event_fn);\n",
       "    rubberband.mouseup('button_release', mouse_event_fn);\n",
       "    // Throttle sequential mouse events to 1 every 20ms.\n",
       "    rubberband.mousemove('motion_notify', mouse_event_fn);\n",
       "\n",
       "    rubberband.mouseenter('figure_enter', mouse_event_fn);\n",
       "    rubberband.mouseleave('figure_leave', mouse_event_fn);\n",
       "\n",
       "    canvas_div.on(\"wheel\", function (event) {\n",
       "        event = event.originalEvent;\n",
       "        event['data'] = 'scroll'\n",
       "        if (event.deltaY < 0) {\n",
       "            event.step = 1;\n",
       "        } else {\n",
       "            event.step = -1;\n",
       "        }\n",
       "        mouse_event_fn(event);\n",
       "    });\n",
       "\n",
       "    canvas_div.append(canvas);\n",
       "    canvas_div.append(rubberband);\n",
       "\n",
       "    this.rubberband = rubberband;\n",
       "    this.rubberband_canvas = rubberband[0];\n",
       "    this.rubberband_context = rubberband[0].getContext(\"2d\");\n",
       "    this.rubberband_context.strokeStyle = \"#000000\";\n",
       "\n",
       "    this._resize_canvas = function(width, height) {\n",
       "        // Keep the size of the canvas, canvas container, and rubber band\n",
       "        // canvas in synch.\n",
       "        canvas_div.css('width', width)\n",
       "        canvas_div.css('height', height)\n",
       "\n",
       "        canvas.attr('width', width * mpl.ratio);\n",
       "        canvas.attr('height', height * mpl.ratio);\n",
       "        canvas.attr('style', 'width: ' + width + 'px; height: ' + height + 'px;');\n",
       "\n",
       "        rubberband.attr('width', width);\n",
       "        rubberband.attr('height', height);\n",
       "    }\n",
       "\n",
       "    // Set the figure to an initial 600x600px, this will subsequently be updated\n",
       "    // upon first draw.\n",
       "    this._resize_canvas(600, 600);\n",
       "\n",
       "    // Disable right mouse context menu.\n",
       "    $(this.rubberband_canvas).bind(\"contextmenu\",function(e){\n",
       "        return false;\n",
       "    });\n",
       "\n",
       "    function set_focus () {\n",
       "        canvas.focus();\n",
       "        canvas_div.focus();\n",
       "    }\n",
       "\n",
       "    window.setTimeout(set_focus, 100);\n",
       "}\n",
       "\n",
       "mpl.figure.prototype._init_toolbar = function() {\n",
       "    var fig = this;\n",
       "\n",
       "    var nav_element = $('<div/>')\n",
       "    nav_element.attr('style', 'width: 100%');\n",
       "    this.root.append(nav_element);\n",
       "\n",
       "    // Define a callback function for later on.\n",
       "    function toolbar_event(event) {\n",
       "        return fig.toolbar_button_onclick(event['data']);\n",
       "    }\n",
       "    function toolbar_mouse_event(event) {\n",
       "        return fig.toolbar_button_onmouseover(event['data']);\n",
       "    }\n",
       "\n",
       "    for(var toolbar_ind in mpl.toolbar_items) {\n",
       "        var name = mpl.toolbar_items[toolbar_ind][0];\n",
       "        var tooltip = mpl.toolbar_items[toolbar_ind][1];\n",
       "        var image = mpl.toolbar_items[toolbar_ind][2];\n",
       "        var method_name = mpl.toolbar_items[toolbar_ind][3];\n",
       "\n",
       "        if (!name) {\n",
       "            // put a spacer in here.\n",
       "            continue;\n",
       "        }\n",
       "        var button = $('<button/>');\n",
       "        button.addClass('ui-button ui-widget ui-state-default ui-corner-all ' +\n",
       "                        'ui-button-icon-only');\n",
       "        button.attr('role', 'button');\n",
       "        button.attr('aria-disabled', 'false');\n",
       "        button.click(method_name, toolbar_event);\n",
       "        button.mouseover(tooltip, toolbar_mouse_event);\n",
       "\n",
       "        var icon_img = $('<span/>');\n",
       "        icon_img.addClass('ui-button-icon-primary ui-icon');\n",
       "        icon_img.addClass(image);\n",
       "        icon_img.addClass('ui-corner-all');\n",
       "\n",
       "        var tooltip_span = $('<span/>');\n",
       "        tooltip_span.addClass('ui-button-text');\n",
       "        tooltip_span.html(tooltip);\n",
       "\n",
       "        button.append(icon_img);\n",
       "        button.append(tooltip_span);\n",
       "\n",
       "        nav_element.append(button);\n",
       "    }\n",
       "\n",
       "    var fmt_picker_span = $('<span/>');\n",
       "\n",
       "    var fmt_picker = $('<select/>');\n",
       "    fmt_picker.addClass('mpl-toolbar-option ui-widget ui-widget-content');\n",
       "    fmt_picker_span.append(fmt_picker);\n",
       "    nav_element.append(fmt_picker_span);\n",
       "    this.format_dropdown = fmt_picker[0];\n",
       "\n",
       "    for (var ind in mpl.extensions) {\n",
       "        var fmt = mpl.extensions[ind];\n",
       "        var option = $(\n",
       "            '<option/>', {selected: fmt === mpl.default_extension}).html(fmt);\n",
       "        fmt_picker.append(option)\n",
       "    }\n",
       "\n",
       "    // Add hover states to the ui-buttons\n",
       "    $( \".ui-button\" ).hover(\n",
       "        function() { $(this).addClass(\"ui-state-hover\");},\n",
       "        function() { $(this).removeClass(\"ui-state-hover\");}\n",
       "    );\n",
       "\n",
       "    var status_bar = $('<span class=\"mpl-message\"/>');\n",
       "    nav_element.append(status_bar);\n",
       "    this.message = status_bar[0];\n",
       "}\n",
       "\n",
       "mpl.figure.prototype.request_resize = function(x_pixels, y_pixels) {\n",
       "    // Request matplotlib to resize the figure. Matplotlib will then trigger a resize in the client,\n",
       "    // which will in turn request a refresh of the image.\n",
       "    this.send_message('resize', {'width': x_pixels, 'height': y_pixels});\n",
       "}\n",
       "\n",
       "mpl.figure.prototype.send_message = function(type, properties) {\n",
       "    properties['type'] = type;\n",
       "    properties['figure_id'] = this.id;\n",
       "    this.ws.send(JSON.stringify(properties));\n",
       "}\n",
       "\n",
       "mpl.figure.prototype.send_draw_message = function() {\n",
       "    if (!this.waiting) {\n",
       "        this.waiting = true;\n",
       "        this.ws.send(JSON.stringify({type: \"draw\", figure_id: this.id}));\n",
       "    }\n",
       "}\n",
       "\n",
       "\n",
       "mpl.figure.prototype.handle_save = function(fig, msg) {\n",
       "    var format_dropdown = fig.format_dropdown;\n",
       "    var format = format_dropdown.options[format_dropdown.selectedIndex].value;\n",
       "    fig.ondownload(fig, format);\n",
       "}\n",
       "\n",
       "\n",
       "mpl.figure.prototype.handle_resize = function(fig, msg) {\n",
       "    var size = msg['size'];\n",
       "    if (size[0] != fig.canvas.width || size[1] != fig.canvas.height) {\n",
       "        fig._resize_canvas(size[0], size[1]);\n",
       "        fig.send_message(\"refresh\", {});\n",
       "    };\n",
       "}\n",
       "\n",
       "mpl.figure.prototype.handle_rubberband = function(fig, msg) {\n",
       "    var x0 = msg['x0'] / mpl.ratio;\n",
       "    var y0 = (fig.canvas.height - msg['y0']) / mpl.ratio;\n",
       "    var x1 = msg['x1'] / mpl.ratio;\n",
       "    var y1 = (fig.canvas.height - msg['y1']) / mpl.ratio;\n",
       "    x0 = Math.floor(x0) + 0.5;\n",
       "    y0 = Math.floor(y0) + 0.5;\n",
       "    x1 = Math.floor(x1) + 0.5;\n",
       "    y1 = Math.floor(y1) + 0.5;\n",
       "    var min_x = Math.min(x0, x1);\n",
       "    var min_y = Math.min(y0, y1);\n",
       "    var width = Math.abs(x1 - x0);\n",
       "    var height = Math.abs(y1 - y0);\n",
       "\n",
       "    fig.rubberband_context.clearRect(\n",
       "        0, 0, fig.canvas.width, fig.canvas.height);\n",
       "\n",
       "    fig.rubberband_context.strokeRect(min_x, min_y, width, height);\n",
       "}\n",
       "\n",
       "mpl.figure.prototype.handle_figure_label = function(fig, msg) {\n",
       "    // Updates the figure title.\n",
       "    fig.header.textContent = msg['label'];\n",
       "}\n",
       "\n",
       "mpl.figure.prototype.handle_cursor = function(fig, msg) {\n",
       "    var cursor = msg['cursor'];\n",
       "    switch(cursor)\n",
       "    {\n",
       "    case 0:\n",
       "        cursor = 'pointer';\n",
       "        break;\n",
       "    case 1:\n",
       "        cursor = 'default';\n",
       "        break;\n",
       "    case 2:\n",
       "        cursor = 'crosshair';\n",
       "        break;\n",
       "    case 3:\n",
       "        cursor = 'move';\n",
       "        break;\n",
       "    }\n",
       "    fig.rubberband_canvas.style.cursor = cursor;\n",
       "}\n",
       "\n",
       "mpl.figure.prototype.handle_message = function(fig, msg) {\n",
       "    fig.message.textContent = msg['message'];\n",
       "}\n",
       "\n",
       "mpl.figure.prototype.handle_draw = function(fig, msg) {\n",
       "    // Request the server to send over a new figure.\n",
       "    fig.send_draw_message();\n",
       "}\n",
       "\n",
       "mpl.figure.prototype.handle_image_mode = function(fig, msg) {\n",
       "    fig.image_mode = msg['mode'];\n",
       "}\n",
       "\n",
       "mpl.figure.prototype.updated_canvas_event = function() {\n",
       "    // Called whenever the canvas gets updated.\n",
       "    this.send_message(\"ack\", {});\n",
       "}\n",
       "\n",
       "// A function to construct a web socket function for onmessage handling.\n",
       "// Called in the figure constructor.\n",
       "mpl.figure.prototype._make_on_message_function = function(fig) {\n",
       "    return function socket_on_message(evt) {\n",
       "        if (evt.data instanceof Blob) {\n",
       "            /* FIXME: We get \"Resource interpreted as Image but\n",
       "             * transferred with MIME type text/plain:\" errors on\n",
       "             * Chrome.  But how to set the MIME type?  It doesn't seem\n",
       "             * to be part of the websocket stream */\n",
       "            evt.data.type = \"image/png\";\n",
       "\n",
       "            /* Free the memory for the previous frames */\n",
       "            if (fig.imageObj.src) {\n",
       "                (window.URL || window.webkitURL).revokeObjectURL(\n",
       "                    fig.imageObj.src);\n",
       "            }\n",
       "\n",
       "            fig.imageObj.src = (window.URL || window.webkitURL).createObjectURL(\n",
       "                evt.data);\n",
       "            fig.updated_canvas_event();\n",
       "            fig.waiting = false;\n",
       "            return;\n",
       "        }\n",
       "        else if (typeof evt.data === 'string' && evt.data.slice(0, 21) == \"data:image/png;base64\") {\n",
       "            fig.imageObj.src = evt.data;\n",
       "            fig.updated_canvas_event();\n",
       "            fig.waiting = false;\n",
       "            return;\n",
       "        }\n",
       "\n",
       "        var msg = JSON.parse(evt.data);\n",
       "        var msg_type = msg['type'];\n",
       "\n",
       "        // Call the  \"handle_{type}\" callback, which takes\n",
       "        // the figure and JSON message as its only arguments.\n",
       "        try {\n",
       "            var callback = fig[\"handle_\" + msg_type];\n",
       "        } catch (e) {\n",
       "            console.log(\"No handler for the '\" + msg_type + \"' message type: \", msg);\n",
       "            return;\n",
       "        }\n",
       "\n",
       "        if (callback) {\n",
       "            try {\n",
       "                // console.log(\"Handling '\" + msg_type + \"' message: \", msg);\n",
       "                callback(fig, msg);\n",
       "            } catch (e) {\n",
       "                console.log(\"Exception inside the 'handler_\" + msg_type + \"' callback:\", e, e.stack, msg);\n",
       "            }\n",
       "        }\n",
       "    };\n",
       "}\n",
       "\n",
       "// from http://stackoverflow.com/questions/1114465/getting-mouse-location-in-canvas\n",
       "mpl.findpos = function(e) {\n",
       "    //this section is from http://www.quirksmode.org/js/events_properties.html\n",
       "    var targ;\n",
       "    if (!e)\n",
       "        e = window.event;\n",
       "    if (e.target)\n",
       "        targ = e.target;\n",
       "    else if (e.srcElement)\n",
       "        targ = e.srcElement;\n",
       "    if (targ.nodeType == 3) // defeat Safari bug\n",
       "        targ = targ.parentNode;\n",
       "\n",
       "    // jQuery normalizes the pageX and pageY\n",
       "    // pageX,Y are the mouse positions relative to the document\n",
       "    // offset() returns the position of the element relative to the document\n",
       "    var x = e.pageX - $(targ).offset().left;\n",
       "    var y = e.pageY - $(targ).offset().top;\n",
       "\n",
       "    return {\"x\": x, \"y\": y};\n",
       "};\n",
       "\n",
       "/*\n",
       " * return a copy of an object with only non-object keys\n",
       " * we need this to avoid circular references\n",
       " * http://stackoverflow.com/a/24161582/3208463\n",
       " */\n",
       "function simpleKeys (original) {\n",
       "  return Object.keys(original).reduce(function (obj, key) {\n",
       "    if (typeof original[key] !== 'object')\n",
       "        obj[key] = original[key]\n",
       "    return obj;\n",
       "  }, {});\n",
       "}\n",
       "\n",
       "mpl.figure.prototype.mouse_event = function(event, name) {\n",
       "    var canvas_pos = mpl.findpos(event)\n",
       "\n",
       "    if (name === 'button_press')\n",
       "    {\n",
       "        this.canvas.focus();\n",
       "        this.canvas_div.focus();\n",
       "    }\n",
       "\n",
       "    var x = canvas_pos.x * mpl.ratio;\n",
       "    var y = canvas_pos.y * mpl.ratio;\n",
       "\n",
       "    this.send_message(name, {x: x, y: y, button: event.button,\n",
       "                             step: event.step,\n",
       "                             guiEvent: simpleKeys(event)});\n",
       "\n",
       "    /* This prevents the web browser from automatically changing to\n",
       "     * the text insertion cursor when the button is pressed.  We want\n",
       "     * to control all of the cursor setting manually through the\n",
       "     * 'cursor' event from matplotlib */\n",
       "    event.preventDefault();\n",
       "    return false;\n",
       "}\n",
       "\n",
       "mpl.figure.prototype._key_event_extra = function(event, name) {\n",
       "    // Handle any extra behaviour associated with a key event\n",
       "}\n",
       "\n",
       "mpl.figure.prototype.key_event = function(event, name) {\n",
       "\n",
       "    // Prevent repeat events\n",
       "    if (name == 'key_press')\n",
       "    {\n",
       "        if (event.which === this._key)\n",
       "            return;\n",
       "        else\n",
       "            this._key = event.which;\n",
       "    }\n",
       "    if (name == 'key_release')\n",
       "        this._key = null;\n",
       "\n",
       "    var value = '';\n",
       "    if (event.ctrlKey && event.which != 17)\n",
       "        value += \"ctrl+\";\n",
       "    if (event.altKey && event.which != 18)\n",
       "        value += \"alt+\";\n",
       "    if (event.shiftKey && event.which != 16)\n",
       "        value += \"shift+\";\n",
       "\n",
       "    value += 'k';\n",
       "    value += event.which.toString();\n",
       "\n",
       "    this._key_event_extra(event, name);\n",
       "\n",
       "    this.send_message(name, {key: value,\n",
       "                             guiEvent: simpleKeys(event)});\n",
       "    return false;\n",
       "}\n",
       "\n",
       "mpl.figure.prototype.toolbar_button_onclick = function(name) {\n",
       "    if (name == 'download') {\n",
       "        this.handle_save(this, null);\n",
       "    } else {\n",
       "        this.send_message(\"toolbar_button\", {name: name});\n",
       "    }\n",
       "};\n",
       "\n",
       "mpl.figure.prototype.toolbar_button_onmouseover = function(tooltip) {\n",
       "    this.message.textContent = tooltip;\n",
       "};\n",
       "mpl.toolbar_items = [[\"Home\", \"Reset original view\", \"fa fa-home icon-home\", \"home\"], [\"Back\", \"Back to  previous view\", \"fa fa-arrow-left icon-arrow-left\", \"back\"], [\"Forward\", \"Forward to next view\", \"fa fa-arrow-right icon-arrow-right\", \"forward\"], [\"\", \"\", \"\", \"\"], [\"Pan\", \"Pan axes with left mouse, zoom with right\", \"fa fa-arrows icon-move\", \"pan\"], [\"Zoom\", \"Zoom to rectangle\", \"fa fa-square-o icon-check-empty\", \"zoom\"], [\"\", \"\", \"\", \"\"], [\"Download\", \"Download plot\", \"fa fa-floppy-o icon-save\", \"download\"]];\n",
       "\n",
       "mpl.extensions = [\"eps\", \"jpeg\", \"pdf\", \"png\", \"ps\", \"raw\", \"svg\", \"tif\"];\n",
       "\n",
       "mpl.default_extension = \"png\";var comm_websocket_adapter = function(comm) {\n",
       "    // Create a \"websocket\"-like object which calls the given IPython comm\n",
       "    // object with the appropriate methods. Currently this is a non binary\n",
       "    // socket, so there is still some room for performance tuning.\n",
       "    var ws = {};\n",
       "\n",
       "    ws.close = function() {\n",
       "        comm.close()\n",
       "    };\n",
       "    ws.send = function(m) {\n",
       "        //console.log('sending', m);\n",
       "        comm.send(m);\n",
       "    };\n",
       "    // Register the callback with on_msg.\n",
       "    comm.on_msg(function(msg) {\n",
       "        //console.log('receiving', msg['content']['data'], msg);\n",
       "        // Pass the mpl event to the overridden (by mpl) onmessage function.\n",
       "        ws.onmessage(msg['content']['data'])\n",
       "    });\n",
       "    return ws;\n",
       "}\n",
       "\n",
       "mpl.mpl_figure_comm = function(comm, msg) {\n",
       "    // This is the function which gets called when the mpl process\n",
       "    // starts-up an IPython Comm through the \"matplotlib\" channel.\n",
       "\n",
       "    var id = msg.content.data.id;\n",
       "    // Get hold of the div created by the display call when the Comm\n",
       "    // socket was opened in Python.\n",
       "    var element = $(\"#\" + id);\n",
       "    var ws_proxy = comm_websocket_adapter(comm)\n",
       "\n",
       "    function ondownload(figure, format) {\n",
       "        window.open(figure.imageObj.src);\n",
       "    }\n",
       "\n",
       "    var fig = new mpl.figure(id, ws_proxy,\n",
       "                           ondownload,\n",
       "                           element.get(0));\n",
       "\n",
       "    // Call onopen now - mpl needs it, as it is assuming we've passed it a real\n",
       "    // web socket which is closed, not our websocket->open comm proxy.\n",
       "    ws_proxy.onopen();\n",
       "\n",
       "    fig.parent_element = element.get(0);\n",
       "    fig.cell_info = mpl.find_output_cell(\"<div id='\" + id + \"'></div>\");\n",
       "    if (!fig.cell_info) {\n",
       "        console.error(\"Failed to find cell for figure\", id, fig);\n",
       "        return;\n",
       "    }\n",
       "\n",
       "    var output_index = fig.cell_info[2]\n",
       "    var cell = fig.cell_info[0];\n",
       "\n",
       "};\n",
       "\n",
       "mpl.figure.prototype.handle_close = function(fig, msg) {\n",
       "    var width = fig.canvas.width/mpl.ratio\n",
       "    fig.root.unbind('remove')\n",
       "\n",
       "    // Update the output cell to use the data from the current canvas.\n",
       "    fig.push_to_output();\n",
       "    var dataURL = fig.canvas.toDataURL();\n",
       "    // Re-enable the keyboard manager in IPython - without this line, in FF,\n",
       "    // the notebook keyboard shortcuts fail.\n",
       "    IPython.keyboard_manager.enable()\n",
       "    $(fig.parent_element).html('<img src=\"' + dataURL + '\" width=\"' + width + '\">');\n",
       "    fig.close_ws(fig, msg);\n",
       "}\n",
       "\n",
       "mpl.figure.prototype.close_ws = function(fig, msg){\n",
       "    fig.send_message('closing', msg);\n",
       "    // fig.ws.close()\n",
       "}\n",
       "\n",
       "mpl.figure.prototype.push_to_output = function(remove_interactive) {\n",
       "    // Turn the data on the canvas into data in the output cell.\n",
       "    var width = this.canvas.width/mpl.ratio\n",
       "    var dataURL = this.canvas.toDataURL();\n",
       "    this.cell_info[1]['text/html'] = '<img src=\"' + dataURL + '\" width=\"' + width + '\">';\n",
       "}\n",
       "\n",
       "mpl.figure.prototype.updated_canvas_event = function() {\n",
       "    // Tell IPython that the notebook contents must change.\n",
       "    IPython.notebook.set_dirty(true);\n",
       "    this.send_message(\"ack\", {});\n",
       "    var fig = this;\n",
       "    // Wait a second, then push the new image to the DOM so\n",
       "    // that it is saved nicely (might be nice to debounce this).\n",
       "    setTimeout(function () { fig.push_to_output() }, 1000);\n",
       "}\n",
       "\n",
       "mpl.figure.prototype._init_toolbar = function() {\n",
       "    var fig = this;\n",
       "\n",
       "    var nav_element = $('<div/>')\n",
       "    nav_element.attr('style', 'width: 100%');\n",
       "    this.root.append(nav_element);\n",
       "\n",
       "    // Define a callback function for later on.\n",
       "    function toolbar_event(event) {\n",
       "        return fig.toolbar_button_onclick(event['data']);\n",
       "    }\n",
       "    function toolbar_mouse_event(event) {\n",
       "        return fig.toolbar_button_onmouseover(event['data']);\n",
       "    }\n",
       "\n",
       "    for(var toolbar_ind in mpl.toolbar_items){\n",
       "        var name = mpl.toolbar_items[toolbar_ind][0];\n",
       "        var tooltip = mpl.toolbar_items[toolbar_ind][1];\n",
       "        var image = mpl.toolbar_items[toolbar_ind][2];\n",
       "        var method_name = mpl.toolbar_items[toolbar_ind][3];\n",
       "\n",
       "        if (!name) { continue; };\n",
       "\n",
       "        var button = $('<button class=\"btn btn-default\" href=\"#\" title=\"' + name + '\"><i class=\"fa ' + image + ' fa-lg\"></i></button>');\n",
       "        button.click(method_name, toolbar_event);\n",
       "        button.mouseover(tooltip, toolbar_mouse_event);\n",
       "        nav_element.append(button);\n",
       "    }\n",
       "\n",
       "    // Add the status bar.\n",
       "    var status_bar = $('<span class=\"mpl-message\" style=\"text-align:right; float: right;\"/>');\n",
       "    nav_element.append(status_bar);\n",
       "    this.message = status_bar[0];\n",
       "\n",
       "    // Add the close button to the window.\n",
       "    var buttongrp = $('<div class=\"btn-group inline pull-right\"></div>');\n",
       "    var button = $('<button class=\"btn btn-mini btn-primary\" href=\"#\" title=\"Stop Interaction\"><i class=\"fa fa-power-off icon-remove icon-large\"></i></button>');\n",
       "    button.click(function (evt) { fig.handle_close(fig, {}); } );\n",
       "    button.mouseover('Stop Interaction', toolbar_mouse_event);\n",
       "    buttongrp.append(button);\n",
       "    var titlebar = this.root.find($('.ui-dialog-titlebar'));\n",
       "    titlebar.prepend(buttongrp);\n",
       "}\n",
       "\n",
       "mpl.figure.prototype._root_extra_style = function(el){\n",
       "    var fig = this\n",
       "    el.on(\"remove\", function(){\n",
       "\tfig.close_ws(fig, {});\n",
       "    });\n",
       "}\n",
       "\n",
       "mpl.figure.prototype._canvas_extra_style = function(el){\n",
       "    // this is important to make the div 'focusable\n",
       "    el.attr('tabindex', 0)\n",
       "    // reach out to IPython and tell the keyboard manager to turn it's self\n",
       "    // off when our div gets focus\n",
       "\n",
       "    // location in version 3\n",
       "    if (IPython.notebook.keyboard_manager) {\n",
       "        IPython.notebook.keyboard_manager.register_events(el);\n",
       "    }\n",
       "    else {\n",
       "        // location in version 2\n",
       "        IPython.keyboard_manager.register_events(el);\n",
       "    }\n",
       "\n",
       "}\n",
       "\n",
       "mpl.figure.prototype._key_event_extra = function(event, name) {\n",
       "    var manager = IPython.notebook.keyboard_manager;\n",
       "    if (!manager)\n",
       "        manager = IPython.keyboard_manager;\n",
       "\n",
       "    // Check for shift+enter\n",
       "    if (event.shiftKey && event.which == 13) {\n",
       "        this.canvas_div.blur();\n",
       "        event.shiftKey = false;\n",
       "        // Send a \"J\" for go to next cell\n",
       "        event.which = 74;\n",
       "        event.keyCode = 74;\n",
       "        manager.command_mode();\n",
       "        manager.handle_keydown(event);\n",
       "    }\n",
       "}\n",
       "\n",
       "mpl.figure.prototype.handle_save = function(fig, msg) {\n",
       "    fig.ondownload(fig, null);\n",
       "}\n",
       "\n",
       "\n",
       "mpl.find_output_cell = function(html_output) {\n",
       "    // Return the cell and output element which can be found *uniquely* in the notebook.\n",
       "    // Note - this is a bit hacky, but it is done because the \"notebook_saving.Notebook\"\n",
       "    // IPython event is triggered only after the cells have been serialised, which for\n",
       "    // our purposes (turning an active figure into a static one), is too late.\n",
       "    var cells = IPython.notebook.get_cells();\n",
       "    var ncells = cells.length;\n",
       "    for (var i=0; i<ncells; i++) {\n",
       "        var cell = cells[i];\n",
       "        if (cell.cell_type === 'code'){\n",
       "            for (var j=0; j<cell.output_area.outputs.length; j++) {\n",
       "                var data = cell.output_area.outputs[j];\n",
       "                if (data.data) {\n",
       "                    // IPython >= 3 moved mimebundle to data attribute of output\n",
       "                    data = data.data;\n",
       "                }\n",
       "                if (data['text/html'] == html_output) {\n",
       "                    return [cell, data, j];\n",
       "                }\n",
       "            }\n",
       "        }\n",
       "    }\n",
       "}\n",
       "\n",
       "// Register the function which deals with the matplotlib target/channel.\n",
       "// The kernel may be null if the page has been refreshed.\n",
       "if (IPython.notebook.kernel != null) {\n",
       "    IPython.notebook.kernel.comm_manager.register_target('matplotlib', mpl.mpl_figure_comm);\n",
       "}\n"
      ],
      "text/plain": [
       "<IPython.core.display.Javascript object>"
      ]
     },
     "metadata": {},
     "output_type": "display_data"
    },
    {
     "data": {
      "text/html": [
       "<img src=\"data:image/png;base64,iVBORw0KGgoAAAANSUhEUgAAAoAAAAHgCAYAAAA10dzkAAAgAElEQVR4Xuy9B3xc1Z3+/cyMepcsWe69F1wBG2PTOyEEQglJKGEDS8pusiHJbrKbf/JudrNJSMguCYFUAoQeSmimGtsYY3DHvRdVS1bvM5p5z3PtkUfjkTRN9rXnOZ+PKNIt537PnTvP/VWHzwxoiIAIiIAIiIAIiIAIJAwBhwRgwqy1LlQEREAEREAEREAELAISgLoRREAEREAEREAERCDBCEgAJtiC63JFQAREQAREQAREQAJQ94AIiIAIiIAIiIAIJBgBCcAEW3BdrgiIgAiIgAiIgAhIAOoeEAEREAEREAEREIEEIyABmGALrssVAREQAREQAREQAQlA3QMiIAIiIAIiIAIikGAEJAATbMF1uSIgAiIgAiIgAiIgAah7QAREQAREQAREQAQSjIAEYIItuC5XBERABERABERABCQAdQ+IgAiIgAiIgAiIQIIRkABMsAXX5YqACIiACIiACIiABKDuAREQAREQAREQARFIMAISgAm24LpcERABERABERABEZAA1D0gAiIgAiIgAiIgAglGQAIwwRZclysCIiACIiACIiACEoC6B0RABERABERABEQgwQhIACbYgutyRUAEREAEREAEREACUPeACIiACIiACIiACCQYAQnABFtwXa4IiIAIiIAIiIAISADqHhABERABERABERCBBCMgAZhgC67LFQEREAEREAEREAEJQN0DIiACIiACIiACIpBgBCQAE2zBdbkiIAIiIAIiIAIiIAGoe0AEREAEREAEREAEEoyABGCCLbguVwREQAREQAREQAQkAHUPiIAIiIAIiIAIiECCEZAATLAF1+WKgAiIgAiIgAiIgASg7gEREAEREAEREAERSDACEoAJtuC6XBEQAREQAREQARGQANQ9IAIiIAIiIAIiIAIJRkACMMEWXJcrAiIgAiIgAiIgAhKAugdEQAREQAREQAREIMEISAAm2ILrckVABERABERABERAAlD3gAiIgAiIgAiIgAgkGAEJwARbcF2uCIiACIiACIiACEgA6h4QAREQAREQAREQgQQjIAGYYAuuyxUBERABERABERABCUDdAyIgAiIgAiIgAiKQYAQkABNswXW5IiACIiACIiACIiABqHtABERABERABERABBKMgARggi24LlcEREAEREAEREAEJAB1D4iACIiACIiACIhAghGQAEywBdflioAIiIAIiIAIiIAEoO4BERABERABERABEUgwAhKACbbgulwREAEREAEREAERkADUPSACIiACIiACIiACCUZAAjDBFlyXKwIiIAIiIAIiIAISgLoHREAEREAEREAERCDBCEgAJtiC63JFQAREQAREQAREQAJQ94AIiIAIiIAIiIAIJBgBCcAEW3BdrgiIgAiIgAiIgAhIAOoeEAEREAEREAEREIEEIyABmGALrssVAREQAREQAREQAQlA3QMiIAIiIAIiIAIikGAEJAATbMF1uSIgAiIgAiIgAiIgAah7QAREQAREQAREQAQSjIAEYIItuC5XBERABERABERABCQAdQ+IgAiIgAiIgAiIQIIRkABMsAXX5YqACIiACIiACIiABKDuAREQAREQAREQARFIMAISgAm24LpcERABERABERABEZAA1D0gAiIgAiIgAiIgAglGQAIwwRZclysCIiACIiACIiACEoC6B0RABERABERABEQgwQhIACbYgutyRUAEREAEREAEREACUPeACIiACIiACIiACCQYAQnABFtwXa4IiIAIiIAIiIAISADqHhABERABERABERCBBCMgAZhgC67LFQEREAEREAEREAEJQN0DIiACIiACIiACIpBgBCQAE2zBdbkiIAIiIAIiIAIiIAGoe0AEREAEREAEREAEEoyABGCCLbguVwREQAREQAREQAQkAHUPiIAIiIAIiIAIiECCEZAATLAF1+WKgAiIgAiIgAiIgASg7gEREAEREAEREAERSDACEoAJtuC6XBEQAREQAREQARGQANQ9IAIiIAIiIAIiIAIJRkACMMEWXJcrAiIgAiIgAiIgAhKAugdEQAREQAREQAREIMEISAAm2ILrckVABERABERABERAAlD3gAiIgAiIgAiIgAgkGAEJwARbcF2uCIiACIiACIiACEgA6h4QAREQAREQAREQgQQjIAGYYAuuyxUBERABERABERABCUDdAyIgAiIgAiIgAiKQYAQkABNswXW5IiACIiACIiACIiABqHtABERABERABERABBKMgARggi24LlcEREAEREAEREAEJAB1D4iACIiACIiACIhAghGQAEywBdflioAIiIAIiIAIiIAEoO4BERABERABERABEUgwAhKACbbgulwREAEREAEREAERkADUPSACIiACIiACIiACCUZAAjDBFlyXKwIiIAIiIAIiIAISgLoHREAEREAEREAERCDBCEgAJtiC63JFQAREQAREQAREQAJQ94AIiIAIiIAIiIAIJBgBCcAEW3BdrgiIgAiIgAiIgAhIAOoeEAEREAEREAEREIEEIyABmGALrssVAREQAREQAREQAQlA3QMiIAIiIAIiIAIikGAEJAATbMF1uSIgAiIgAiIgAiIgAah7QAREQAREQAREQAQSjIAEYIItuC5XBERABERABERABCQAdQ+IgAiIgAiIgAiIQIIRkABMsAXX5YqACIiACIiACIiABKDuAREQAREQAREQARFIMAISgAm24LpcERABERABERABEZAA1D0gAiIgAiIgAiIgAglGQAIwwRZclysCIiACIiACIiACEoC6B0RABERABERABEQgwQhIACbYgutyRUAEREAEREAEREACUPeACIiACIiACIiACCQYAQnABFtwXa4IiIAIiIAIiIAISADqHhABERABERABERCBBCMgAZhgC67LFQEREAEREAEREAEJQN0DIiACIiACIiACIpBgBCQAE2zBdbkiIAIiIAIiIAIiIAGoe0AEREAEREAEREAEEoyABGCCLbguVwREQAREQAREQAQkAHUPiIAIiIAIiIAIiECCEZAATLAF1+WKgAiIgAiIgAiIgASg7gERiJKAz+eLcs/YdnM4HLEdQHuLgAiIgAgkPAEJwIS/BQQgUgIUfl6vFx6PB62trWHv3tDQAJfLhczMzLD3OVFir729HfzJyckJObf+mEe4xyTvpqYmi5vT6QybXfCG4Z4v0hO43W7w2ElJSZHuetz28Zhj4DH89yrvu3iOeMwzlvmc7POHM/fAOb722muYMGECpk6dGs6u2kYETggBCcATglknOdUJ8IuUP52dnaiqqkJHRwcGDhxoiaZwv4y2b9+O1NRUjBo1ynY4Dh06hNLSUsyaNeukzi2UVZVi+/3338e8efOQkpJyUucX6uTbtm1DRkYGRowYYbu5NTY2YtOmTZg/f/5xcztZFuzAiWzZsgX5+fkYPHhw3MRwvK6LL3dkd+aZZ/a4ruF+9j/72c+CP/fcc4/t7hFNKHEJSAAm7trrysMg4LegUPjxh/+/d+9etLS0YNq0aZYQDNcqtXXrVksAjhkzJowzn9hNKisrUVJSgjlz5pzYE4dxNgrA9957DwsWLLD42W1s3rzZsk7aUdjT6rxhwwYsXLjQbtis+XBuhYWFGDp0qO3m19zcjNWrV+O8886LeW7XXHMNbr75Ztx9990xH0sHEIF4EZAAjBdJHee0IkDRwR9+gVIYjRs3rkvo7dmzB/xyON0E4MGDBzF37lzbraMEYPRLYncBuH79ehQVFZ32AvDqq6/GF77wBXz5y1+OfjG1pwjEmYAEYJyB6nCnLoFQ1r76+nrLSnHBBRd0XRgFIF1r06dPj8gCSFdhcnIyxo4daztItABKAEa3LLIARseNe9lZADLudM2aNXGxAF555ZW4/fbbceedd0YPS3uKQJwJSADGGagOd+oR8Mf20a27e/duTJw4scvaRwG4bt26014AMgbwwIEDtrQAcn2WLFkiF3AUHy1aADdu3Ihzzz03ir37fxe7C8C1a9di0aJFMYO44oorLPF3xx13xHwsHUAE4kVAAjBeJHWcU4pAKGsfg75XrFiByy67rOtaKABpBbjwwgu7fscYQP7+jDPOiMgCyCQQZora0QIoARj97Wt3C6CdBSBfroqLizFkyJDoF6Cf9qSVn/OLhwDkM4Xxf7fddls/zVaHFYHICUgARs5Me5zCBPzWPrp3KioqrMxNZvLxhwJw+fLl/SoAWY6D8YR2GxSA+/fv7zXj8WTNWRbA6MnzReWTTz6xrQXQ7gKQFsp4JNBccskl+OpXv4ovfvGL0S+m9hSBOBOQAIwzUB3OfgT8JVxYt48JBfz/2tpa64vx/PPP75owBeDSpUtx+eWXd/2OLrSPP/4YF110Udfv9u3bZ+0/Y8aMiCyAO3bssFzLEoCR3SN+AXjOOecgLS0tsp1PwNZ2tgBKAEZ/A9ACGC8ByOfHN77xDdxyyy3RT0h7ikCcCUgAxhmoDmcfAn5rX11dnVXCxV/kmNY+/o7JHYECsK2tzSo3QneNv75XvAUgjzt+/Hj7QDo6E9Y2pLDtrebZyZq0BGD05E8FATho0KCQdQCjv+r47BnPDGomkd17771WKRgNEbALAQlAu6yE5hEXAoEFm/11+3bu3Gl17ZgyZUqXsKMADE7uCCUAaQVYtWoVLr744rhYACUAI19mCcDImfn3sLsAZJIFi0CHKgQd/VXHZ894JtDwRfM73/kObrrppvhMTkcRgTgQkACMA0Qdwh4EKBRYmJluXv+g4KIAZLuuwDZMoQQgu3ow2/TSSy/tygIOJQAZK3f48GHMnDkzIhcw58FhVwsgk1vOOusseyxm0CzeffddyAUc+dJIAEbOrD/EMxNJvve97+GGG26IfkLaUwTiTEACMM5AdbiTR4DCL7A1m9+NS+HF37Nwc+DDPTi7N5QAZLLIypUrwSBu/2C5FLpM2TYtkk4gnAdFKnuC2m3weiQAo1sVu8cAsp0Zu6jYcdjZAkjxvGPt+zj7jPHwpWTDl318u7pwmTKR5N///d+tdnAaImAXAhKAdlkJzSNmAn4LYPCBehKAbPMUmNxBMUdLE8Ues3U5EkUAVldXgwWuZQGM/DaUAIycmX8PvoSxDRzjAG013K3o2PAsmrYtw+AB2UBKBjqLpsEz6VPmv7MinioF+A9/+ENcd911Ee+rHUSgvwhIAPYXWR33hBPoSQDu2rXLKvHCzh3+ESq5I5QAZMs31gakW9g/aAFk2ZTZs2dHZAHkPGiltKMFUAIw+tvVzgKQoQ6cn10tgHYVgEnbXoJ32+uobHFhyNjJcHQ0wtlQBs/Ic+GZFnkc3/z58/HjH/8Y1157bfQ3mvYUgTgTkACMM1Ad7uQSoBs3eIQSgKFi+xgn+M4771gJHyzYzEEB+P7773erDciWaWydFo0AZGIKO43YbVAAsgvK2WefbbepWfOhZZZfounp6babnwRg9EtiSwHYVo/UlfejtcONioZOjBw10rpAR2stHLQMzvsn+DKLIrpofq7+53/+B9dcc01E+2ljEehPAhKA/UlXxz7hBEIJQAobCjl27vCPcAUg28MFF4cuKSlBWVmZ5bqiEAwc/rjDUBdOdzItgLm5uSG59LZvqL9Fur3/pKH2o4WU1qLeOjJEez7ry9Mk4/Q0wvkb15BFu9lLOZztQ50r2v36mj/vhdTUVBQWFh532kjPGen2va0p/8b7nklLgQlQwZOM5zkjPdbWrVsxcODAkOz6urZw/h7pfHhMZ2MZMtf8Fi2uXFTVN2HY0GHWqRxet7ECHkTrnLvhzRsd1ueeyWKcAy1/3//+97tqjPJ3vGcyMjJO+DNSJxSBrs+OcZv5hEMEThcC4QrAULF9LBXz9ttvW3GBFBocwQKQFjwG1VP48QHONlb+eEE/w54+UjU1NVY9wlBCoa99+ffePqqx/o0lcCgAA2OxojlmNPuEc210uQ8YMCBs1v3Bs6dro8hige/eilT3F5eePrf+8/F+42ciUGhEM5do9glnXfmZIzv+BI6+vpb6az6cg6uzDRMrXoTT50Fbcn7XtFLd9fwUYsegT8OdFF4c4PXXX2995kONb37zm/jlL395ujx6dR2nIAFZAE/BRdOUeyYQSgAyuYEWP3bu8I9wBaC/OwhFIV2/LJbMLyuKProk/V9g4awJrVh0M0+aNCmczU/oNrRU0FUuF3Dk2OUCjpyZfw8mYg0fPtx6kbLTcO1+G95PnkdVkxv5IyYhzd0AZ3stPGMvhWfCVdZUwxGpfH5wO9YB/NnPfmYlmPn340smXyJ/+9vfWj98tnDQWvuDH/wAV1xxhfX/fKaxiPSTTz5pxTLzWfTggw9i2LAjlkkOxiWz1RxDJRgmwY4j9913H1JSUuyEVXOxGQEJQJstiKYTG4FQApDlTVjSgXX7/CNUcgff1N966y1ceOGFXQ9O7scyMIwJzM7OxujRo63ED7r95s6dG1ESCIUo5zd58uTYLrIf9qYAZLb0vHnz+uHosR9SMYDRMWTLQrpZWUPRjoMCkK59uoHtNLyeDqxa/hY+2roXnalZKEgF5owbimlzF8GRZP4nwsFnz0MPPdStnJT/EC+//LL1QulvEfmXv/wFP//5z61C9RSD99xzD7jNI488YlnBv/Wtb4HeBMZPcj8+t3j8oqIi/OIXv7BqlN52221WxvEDDzwQ4Uy1eSIRkABMpNVOgGuNRAAGJ3cwPu/NN9+0BCAte3wjZ7wff8/yKAUFBRZBij9aA9k2jRa93uKMApFLAEZ/A7JAN8WpkkAiY2h3Acg+2yNHjrSdAFy5pwYvrC1BS0MtxgwpQKPbBa8zCVdNHYizRuVFtAi0+NH78Ic//KFb2aneDsJnDUUg6wZS2D322GNdXUT4/KHV9LXXXrOS015//XVcffXV1jPJH8P71FNP4fbbb7eqFfhbYEY0aW2cEAQkABNimRPnIkMJQAo5fhGycLN/hEru8AtAuqNYGJn/ZqIHrRSB3UGCBSCPGY4IpCWSsXZ2tADSorBjxw7bWgAlAKP7DEsARs6tpaMTDy3fj7qmFrhMRjAtlNaLX30bslKTcNe5I5CefKROaDiDApAlqGjBY0/g3gatec8++6xlwaMFsKKiwhKN/Hzm5x+LR6SgZGLJj370I8td/NJLL1m9zf2D604RSct5X+cM5xq0zelJQALw9FzXhL2qSATgsmXLurLy+MCkhY7Cj2/RdMcwcD5UdxAKQMbc0CpIdzDFX7gCkDE87Elst8EvmO3bt1txjXYcEoDRrYoEYOTcDta24g8fHEBeshcNtTVdArDN3YlDjR34hwUjMDQvLewDUwDSlfv444/jvPPOC7nfJ598Yn32+IKYlZWFJ554AldeeaX17zvuuMN6DgUOvpAyHOXhhx/GXXfdZXkr6L0IHIwvpOj83Oc+F/ZctWFiEZAATKz1Pu2vNpQA9PfuZd0+//And8yZM8cSfiwMzTd9WukYsO3P6AwlAMvLy63SGhKAJ+52ogBkgoody2bYOQnkVBCAo0aNstycdhlVje343YqDcHa2w91cb7lbOepb3Whxe3G3sQAOyAw/uYICkFZ/JnGwJ3CowRdJvlQyE/9vf/ub5S5eunQp1q9fH1IAMplk7NixVlwhBSCfR2+88Ua3QzMB5NFHH8XNN99sF7Sah80ISADabEE0ndgIhBKA/t69FHscdPUyXobB8XxIMgbJX2Nu8eLF1lu6P9YsVHcQumUoFClIIrEA8i2dySe91WSL7eqj35tCYdu2bba2AEoARr6+dheAH330kWXJspMAJOWn1pRh1a5DyPQ2Y+yoEWg11r8DNW2YMzIXN8yKrCcwBSAz/5955hmce+65YS0ii9FT4N10001yAYdFTBtFQ0ACMBpq2se2BHoTgMyUKy0ttdwlFIF0twR2/eBF9SQAA7c7XQWgnbNFZQGM7iNnd2FvVwFY2+LGEx/sxqaD1cgfUIhkpwNjijJx7RnFyE0/UiM03EEByPaPzz//fNjZ2Iz7o+Xxf//3fy1xTPfxjTfeaJ2SHgiWgAlOAmHC2uDBR8Tp008/bcURKgkk3FVKzO0kABNz3U/bq6ZFLrg+FwUfrYAMsGbtrTFjxlgB1XSxBCZ3EArdKAsXLuxyNYZqD0cBSLcxs1IjsQDSTcP6g3a1AEoARvexsLML2O6xnRSA/Dz2Vhw9ulWJfa+KykP4cMtejBw3yRJ9IwrSkWSEYKSDz6Px48dbiRqhyix973vfs2r+UfCxXikzeNk2ji+jdPWyDMwrr7xixfMxsYM1AVnqJbgMDJPWmDnMNWcGMJNEVAYm0tVKrO0lABNrvU/7qw0UgLQGUnT5izezFRzfppmwESq2rzcBGNgdhF1AWNQ5GgHIB/y0adNstw52dxXKAhjdLWN3Abhq1SrL1WlHAUjrGZ8fLPcUy6AA5DW++uqrVtxw8LjzzjutHuS07LFNJJ9T3/3ud7tqBtJT8e1vf9tKCAksBO2PTeTx+IL7la985bhC0EwE0RCBnghIAOreOK0IUAAyzs5fw49vzCzgzILOgQ/fULF9BMFMugULFiAzM9PiEqo9HL8Y2DUjUgHIhzSTTewoABl8vmXLlrBdVCf6pnnvvfes9VMSSGTkJQAj4xW4NT/n/Myy4HssgwKQcY606MUqJmOZh/YVgWACEoC6J04bAozrW7t2rfUmzc4CdC2xCCpjY/i7wIevXwAGxwD2JAADu4Pwi4FdM1i2IRIXML9MKERZE8xugwKQrkyKXzsOCcDoVkUCMDpu3CueApCJZuwz7k9Ei35W2lME4kdAAjB+LHUkGxBgMWO6k/wWPE6JiR/8CbQAhort47ZsBUdhx1pcHKHaw7FWIGvmsb2WBOCJWXQJwOg4nwoCkDU32eLMboOhHqwWEA8LIN21jDkObEdpt+vVfBKPgARg4q35aX3FoZJA/J07WEbEP0K5dkMJQH93EFbT98fT+AUgrWWMJQy3EDS/TGhps6MFkJbJTZs22doCSAtuoLC3y41s9yQQO3d4+fDDD60ECbsKQHoPYrXa0QXMjkIrVqyw4vs0RMAuBCQA7bISmkdcCMQqAOmmoVBk3CBHvAUgky3s+CUgARj97ScBGD07OwtAZvvTcxAPAcjuQrxWO8b/Rr962vNUJyABeKqvoObfjUAoAejv3BFYgiGUa5cHYjYeXcXBAjCwO0h1dbVVRJpFXXk+jnBawdGaQJecXQUg21GFW6j2RN92dAHLAhg5dZYLYbxqqPIjkR8t/ntQFLFGHpO17DYoAOk9COwgFM0caQEcNGiQ1VPcjm0go7km7XN6EJAAPD3WUVdxlEA8BCCFBpNHOPjwZm3AQAHIL1VafVgvMFIByH3ZyN1ugxZACcDoVsXOFkAJwOjWlHvxxZE/8RCATEpjWzd2BNEQAbsQkAC0y0poHnEhEEoA+jt3MLnDP0K5dvk3WgAZ9M16XIECMLA93OkoAFmeZuPGjbIARnEXSgBGAe3oLitXrsTEiRNtaQGk+OOzY9asWdFf4NGXSCam8QWL16ohAnYhIAFol5XQPOJCIFYB+O6771oxP34ByEkFt4eLVgAynojuYztaAO0uAJlBSWGuJJDIPiZ2twDaWQDS/ctM4HgIQCa5sM4mE140RMAuBCQA7bISmkdcCIQSgP7OHSzb4h+hXLv8GztO0OUTKACD28Mxjo9v84sWLYrIBUwByAxiO5aCoADcsGGD5da245AAjG5VKABZtDwwAz66I/XPXh988AEmT55stWa024inAOT1MRubHUE0RMAuBCQA7bISmkdcCIQSgP7OHeEKQL7x5+Xldc0nWAAyk5diiW7hSGIA+YXCuUgARr7UEoCRM+MeEoDRceNe8fq88mWTL5TsH86OIBoiYBcCEoB2WQnNIy4EehKAzIQM7nIR7NrlBJhtShdtoEWCApDZsX73YywCMB4upbiACjoIexQzSN3OFkC65v0FuvuDQbTHtHsMoCyA0a1svCz2jDfmCyXbU7IjiIYI2IWABKBdVkLziAuBUALQX7g5uMQJBSDduIH9ZUMJwOD2cBKAcVmqiA5CC6AE4BFkjW0eHKxtRYP5d3ZqEoblpyE3PTkkT8ac7t6929YuYJZGCbS4R3Rj9OPG8YrZZdF5lrlhK0h2BNEQAbsQkAC0y0poHnEhEIkADHbtcgIUGuzUEViXLLg9HLt5rFu3zioNE4kLOF5lJeICKoQFkNdEQWzHIQF4ZFWqGtuxbFcNDpl/u1xOeDp9KMxKxqJxBRiUk3bc0tldALI7xtSpU20pAFm3Mx5lm/iMYBYwBSULQmuIgF0ISADaZSU0j7gQCCUA/YWbg92bwa7dcAUga+atXbtWAjAuKxbeQSQAj9SkfHNrFfbVtGJEQTqcDof1u4O1bRick4orpg6Ey+noBlQCMLz7K9RW8Src3traiuLiYqumIAtCa4iAXQhIANplJTSPuBCIRAAGu3Y5gWXLllkWicDepMHt4SgA16xZA/YHjsQCGK/OAnEBFXSQpqYmS9TKAhg53RMVA1jX4sZLn1Qat68LmS4vHJ42+JJS0eZLQk2zG5+aXmysgSknRADSErm2pAF7KuuRnpKMacNyMWNoDpKNVTKSQQsg26MFZt1Hsn9/bhsvAdjc3IzBgwdbJWVYEFpDBOxCQALQLiuhecSFgNvttvr3Bg5/3b5gcRPs2o1UADILmA91ns/fCq6nlnD8PWMHaZHx1wLrbdtQMIK3j3V//zl4nJaWFqu9nb/vaTyPHXgt0R6X5UKYnONPxAl1nGiPHcghmpvwRAnAWgrA9aXI7yhHZksJHJ0d8LlS0JYxBJXJQ3HNGYNRlJ16nABk9inbG8ZrUPw988EWY9EqQ56vHh1GgLalFeKsyeNw5czhlmUy3PH+++9bIRd2FIAHDx60PrOxtm5kgtXQoUOtElB0BWuIgF0ISADaZSU0j7gQ6PJAAjUAACAASURBVEkAbtq0ySrbEjhCCcDly5dbdckCH9TsDhLYHo4181atWoX09HTwfMnJoQPw6Z4LHAwG5/ZpacfHanG74O2D/99/rHj8PtS52B/Z5XKFXIdIztnTtnFZ4JNwkL6Epf8FoLeXgL6O4fB6kNF+CGkdh60rbEstRGtaMXyOY+vhNffTtgNlaGyoQXGqx4i/VDi9HahqdyA1qxDTRg3r5gLmObmmgfdcPITz+oOHsaP0EMa5Ks0c0uCAFy1uH6qSBuHcyaNQbGIS+xLV/nnQmk5Rn5SUZO3SF6dwjxt8m4R73MA58KWIFn5/gkokx+BxWPLpT3/6k7UGLHh91VVXWZ99Hoc/X/rSl7peuE7Cba1TigAkAHUTnFYEQglAf+HmYAEY7NoliL4EIL8UaPGhVZFtnRjT43Q6e/ziCoRLayGtCuxoYbdBFzDd2sGM4jnPUMIw3N/RUsT6iaE6gcRDnIY7j1DbscQQM8lDBfiHNTevG86Dq1BZth+VHUdcuINS2lE0ZDS8w87qEoEOTyvqN76CZdVZqPVlI8XpQ7sxduehGQsKGlAw/XL4UrK6LRkFFuvZhepBG9bcAo7m3/7xN1fA3XAIhbmZaPU4UdaegpoOJ+rbfbho4kBcOWe8sQJ2v3N6Otf27dutzFi+TAWOaOcWz2Mw2autrc2K34vmuBSAzz77rCXAX3vtNXz+859HauoRCy2v75ZbbrGsiz/5yU/w/PPPY9u2bRYH1iv96U9/2q1tXHt7O+699148+eSTYEzhRRddhAcffBDDhg3rmhqzjL/61a+C3Yx4HB7/vvvuQ0pK97CAeH6mdaxTm4AE4Km9fpp9EIFQAtBftoVZu4EjlACk0KCwKyoq6tqUD1SKD4q+vXv3WtZB/vfFF18cUQygnQUg45RWr17drwIwlpuVsZks0J2dnR3LYfplX74QsD5htDXePFW7sXb1SmzrKIQjyVjPjOHY1+nG5LQqzDnzXDgLjhQPdrRUI2nzs6hxDcSe1gzUthvxZ77bR2UYsegugWfK9fBlD+52jXQ78p6Npwv4T088hkOtLhRkpmJNbToOdyQh2eFDfVsnhhdm4dNnT8IVU4rCeini540iKCcnp1/WJpaDUlDR2s8YxVgGX0BHjRoFivFQ13n55Zfj5ptvtrwM9BJ8//vftzoNsXWc/4Xnnnvuwcsvv4xHHnnEik/+1re+BR6XL2202tPKyGcUn1u/+MUvrOfTbbfdhuuuuw4PPPBALNPXvqcxAQnA03hxE/HSIhGAwa5d8goWgHxTp1DkQ5ZWHrqHafGjC5hv4ZEkgdAiwC8VO1oAKQA//vhjK7PZjuN0FoAHNy3Hkq0VKC7IR9oRT6ixrAHVtTW4YOoIDJ0878gv3S1I2vSMcbkagZgREEvWWgsYV7Bn6g1Aanch1R8CcM3iR/H3/UlocubgQLMLhY5GNJn5Jvk6MLY4H+78sfjyuSMxLK+7VS/UfUWLO2M77SgA9+/fD8bvxSoAGfc7ZswYS0yG8wLDNWOyCDPfGbdM4Uhh99hjj+Gmm26yMNKqS8spLYuXXXYZXn/9dVx99dWWh8FviX7qqadw++23W65oO/K143Mm0eYkAZhoK36aX28oAeiv28es3cBBAUgxFhiAzqxEJmnwAcwHLxMjuP+4ceOsPp6M3aG7lDE9kVoA+SDmlwrf9O02JACjX5FYLYAfr1qOHQfLMayooNskDlTWYNqYYZg191gPa9fBD+EqWQlf+gDj7jXW0I4mOFuq0GlcxZ0jzu3an/GCrBFYV1NtdaCIpwXQs38VXl/+IR49NBbtxmKV4WtDuqMdE1OqUZydjK2uSfjMormYP6b79ZyKApCfdVYFiGVQ0PHZwWOFCmEIPjY7t/AZRCsgxSc9EHzZpMUvsEMRhfO1116LH/3oR/jBD36Al156yWpR6R/0fLCeKfcPfvbFcj3a9/QhIAF4+qylroRGkhBZwP66fcEPQT4YmfUaKACZbUpXHh+efMum64blIOh+9D98oxWA/CLgl7EEYOS36ulsAfxo0zbs2PYJhudnGDPa0SxeU+Jlv6nvN23KGZg9ZcIxYCbz11W6Bo7DW+HoaIEvOR2+wonoHGJeKsy+FH5bS2rwye79qG9uQ6qJE8xO8uG6ixeE5ZINa2VMwopj5xv48VsHUN7iNPGKbch3tSLDWC99Zn47PMX47NnjMXf+hX0ejhZAui7DsYz1ebA4b8DPKl+MYhWADP2goGP8cHCsY/CU6XH49Kc/bT1/yIbjiSeewB133AHGAQaOSy+91Oot/PDDD+Ouu+6yni0sbRU4GHNIt/HnPve5ONPR4U4HAhKAp8Mq6hq6CPQkABkrc+GF3b+QlixZYgk7f5YfsznpdmEcDuNsGDhPt29wezh+KdBSeMkll1iCkw/tnjIEA5fGzgKQX04fffSRXMBRfJZitQAeqG7Ce6vXYZCnxFjSOq0ZtHiTUJUyDOefNdu0ejPCMHi0N8LhbjYC0PwtwO27Zvs+c6yNSOqoQ5bLgxqjGVo6U3Hdpedj+pihUVxdD7uYe375s/fjlUOFGJVcb2Uv0zVd2pmHpM4W3DN0L/IW/SO8Q+b0es5AYc8YR0fdfiNk0+EdMA4wJW5O5oiXAGQBaMYVU8D1lZDBJI5XX33VCkXxJ3j0JAD5/KFl8aGHHrIEIL0LLG4fOHi+Rx991Iox1BCBYAISgLonTisCoQQgY28Y30Y3SuAIFIAUZ8zCY4Yd36r9tfq4fSgByAc038AjFYDxDsiP1+JRADKu0a6uIjtbimIVgB6vD6v31WCHKfHiM8KOw5mWg0kjh2L2iLzjunv0tOYt7W488fJieJqrMTDPuIedLrSZdS2pqkPx8NH43FWXIyUpskLNvd1f7vd+jmf2p2NzbTI6WXvTCLYcZzuuTF6Lcwoa0Tl4JjrOudf8PnSZJB7bEoAzZyC/5B0k7XkLjtY6a3tv3kh0zLwdvoKx8brFIz4OBSA/F+xVHMtgCzjGDvNZ4S93E+p4X//61/Hiiy9aTPgM8g+5gGOhr317IyABqPvjtCIQiQCksOObOV29dLkwzo//zYDtwJZNwf2B+aVAQRKpAGQweLyL8sZr8SQAoycZqwDkmTuNCCyrbzM9fjusiRTnpJj2bmlhiz/uU1Z2EE+9uRxDsl1ISTbWM+OObe9wo6ahCZ2pebj5igsxsCh+nShcu9+Gb+3j2FrjQVnSMCSZ9OVRKMW41Dr4is8wnUqa0bHgO/Dl9Gx5pNiZV9SCnC2PozUpzzpOmokpHNq6Hb7cEWg//z+AoNI20a9UZHvyZY0vhLEKQCZm0I1Mz0KoOpv0IFD8vfDCC9bLZuDLJ2fsTwJ5/PHHceONN1oXQasiLYTBSSAMV2HXEY6nn37aygRWEkhk655IW0sAJtJqJ8C1hhKAzOSjdYtJG/7BhzEtgHz4sko/H7p0lzC5g3F//ocot6cAZDC2vz1cLAJw9+7dOPvss223Evyi+/DDD2UBjGJl4iEAozjtcbscLtuLJ99837LyNTS34lCbsfb5OpECNwblpuPWT12GnMIh8TjVkWOYrOTkj34D5+YXsLJzElZ2jEU9slCQbWrZFTRhbloZ3AuNAMzsWXRSAC5qexsfVniwuO0M1HiSrZIyE9IbcXPqByhYcLtJblkQvzlHcCQKQNYBpPUulkHXLEvd8JnDCgLB4ytf+YoV58ckDr6Q+gdjk/0xgywD88orr1jxfEzsYE1AlnoJLgPDmoU///nPrYQRZgAzSURlYGJZvdN7XwnA03t9E+7q+hKAFHy08u3YscNyyfDhznIK/kERxCSQQAEY3B+YYomikOUXInEB84HNDD8JwMhvSzuXC7GLAPSZpJC/Pf8kXi1JR6fPYSVltBnLYp2p0zcvtwb33n4TkjLyI4ff2x4mWWXpc7/F6+WZSElNQab5qfeaRBbjyr5uvAtzL/tir+dbaixeOeVL8EjVRDiTUlCY3GFayzlR3p6Gia4SfOPCsXBNuiK+cw7zaLTWM24vVgFIITl79myrZFQoAdhT/PCf//xnS8RxUIh++9vftoRiYCHowGcXS0xRTAYXgvYXnw7zsrVZAhGQAEygxU6ESw0lAP1Zu8y+ZVkXPtT5ps0uBOxD6rfskQ8thXyoBnZ1oACkG8jfHu50FYC0fgYnytjlnpEADG8llr78F/x5mxNJtDQ5zI/J2M1CCwrTXbjlgpkYMyW+XWjqW9144M1PTNHCnSj2HjoySZMNchCDkTN0Ar5+yTSk9hJ3yBep9XtLsaO2E2Nyj7UPaff4UNLsxF3nj8fMWZH1MaY7fWdFHeoamzDI1FYcWZgZVpJWMOF4CUAeh88eirhQAjC8ldVWIhB/AhKA8WeqI55EAj21gmMSCB++dO8yxo+xOMGWvZ4EYHB7OD7IGavDGEC6dcLNAqYFkG3D5s07Wtj3JHIKPjVFrQRgdAvS3xZAd6cXm8sbzU8T2txGKBVmYMbQHNOJ4/gs2aeffw4HTdJHltONDvZ2Nn16qb+qkW+KSg/DOQu618KM7oqP7bW7qhkPvX8AI3JM3GFbFWAsgszibUoegJo2E9t2/igMMrGMPY0l7y3F66VOOGv2oMjVBJiyNvCZhBLjXt6BkbjxwrNx0eRBYU+zsrYRv3v1few41Iz2TmMFNfknc0bk486rFiEj9WiV7TCPxnANPk9CtdEL8xDWZrT6z58/30ookQCMhJy27W8CEoD9TVjHP6EEAgUgy7owk48PcrZKYp/bwDpcwZY9TpSlUBgTyB//oADkl4C/PVy0ApBxOXQ921EA8ppYA1EWwMhv1/4UgKzr9/rmQ/h4fz1SXMay53Kgsc1jagam4fpZgzEgSAS++Nqr2FF6GKNMSzb2lGvraEdrUwuqPKm4ZNY4nH3W/MgvsJc9Suva8Nvl+5CbnoysAIFV09xhJbb88wWjrb/1NGgBXNU2CPvKD2Gs15SA6Wg2FkQH2tOLsd85HHefNxazh+eGNWey+smjL2J9pQeDk5qQ7vKi0eNCVWcmrp6Ui9uuuTSs4/g34nODL3iBcXkRHeDoxvzML1y40CoELQEYDUHt018EJAD7i6yOe1IIUABS7PnLutDSx5IKrKrPmL3AEWzZ60kABreHowuZCSSsw8VzhWsBpACk25nWALsNCcDoV6Q/BeD+mlb89eNS5BsRlX20T5yXLk5jeTt/wgBcNDGgJZy5hM1bt+DvH2xAcUoHsjIz0dbeiorDDUjJKcSNl52PISZJIJ6D9/4jH5ZgQ2kDRhakIy3ZhZaOTpSYItYLxubjs0ak9jZoSXcNnoSn11ebjGegMKUT7SYGsKLZh3FFGfiGEZA8Zjhj5569+M/nP0Keqw0ZKceSLQ4bo6TTlJb5+T98CjlZmeEcytomXgKQ5aVYXonlqCQAw8avDU8AAQnAEwBZpzhxBFjOhU3UWTqBmb0slUBxQ7EXLACDhR1nSVcxE0D8RVj5O243YcIEqz0cR7QCkHPjl4GdBSC/qMIpan3iVvTImbgGzKS0Y0/T/hSAq/bV4rVNhzB+IC16x0a5KRmTk56Eu03P3cBBd/G7Kz/Chl0H4DZJBx7zguI0lsDLF5yJM8+IraVZT2te3dSB59aVY8/hFvNC5LOykCcMzLQslDn+5sY97EwByHaMq8va8fb2atS2mFp5TocRf5m4YfagXt3HwYdc+/EK/HRJKUamM9buWDxhs+lT3OhOwn/ddBaGDg+/riBdt3zBi9UCyOcRKxDwmSQBeKKfHDpfbwQkAHV/nFYEKOBYbJU1/fxV9/1JG5dffnm3aw1XAAb2B+YBmM3HTDs+1OlmDtcCSAHIJJRzzjnW29Uu8ClqeZ0SgJGvSH8KwDUH6vHSxgqMN4IoUJiX1Laa0i6puH3esQx2/8zpej146DAqKyvQaNyOXiMKL13Uv/cci1nvqW6x3NP5JvBu1IB0OI0rt69BAcg+xey4Q8shhW1qshNDc9MifhEp27UB//7iJkuA5iUb1Xd0lLclm1Z17fjJl65Ges6AvqbU9XcKQH6++fIXy+D9wXhh9hSXAIyFpPaNNwEJwHgT1fFOKgGKMwqywNGTAAwWdtxn9erVYC2twPIKEoAndUmtkyeqBZDWtUdXlYACa3Ca2yTYetHiS0NpowdXTxuIM0fm9bo47EPLQsS0stlxMJSCZZEoAGMe3k78/pE/4K3qfGQl+5BhYgAbTAygx+PFF8d14Irrbo3oFEzY4rMkVgHI8JMrr7zSKjZvR+t6RFC08WlFQALwtFpOXQyDtum2CRz+pA26gAMfwD0JQLp6R4wY0XUIJkew5yaFIQfjDN955x2rtRy/IMK1ANICQHeQnS2A559/vi2tFBSALNnD4rh2G/1pAeS1bti5H++u+QT1pqwJ3bmulFRMGzMCV8yf3Wdrt4QSgIZVW9VevPTqS1h2ONf0U05GXlI7rhjShos+dQtcEdZApADkCO7MEen9t2HDBlxzzTVW4WYJwEjpafv+JCAB2J90dewTTiASARgs7DhZVtZntm+wAAxsDxeLAKRYWLDg5HQ26G0x/C5gCcDIb9l+FYDuViSv/wsOV5Zgl2Mk3I4kDO6sxOisdvjO+Dy8A8b1OuFTQQAyKz4wOz/yFQjaw7TAazuwDo2N9cgbMAjJQ6YdqYkY4YiXAFy3bh2uu+46KzFNAjDCRdDm/UpAArBf8ergJ5pAKAHoT9pgHE5gDE64ApD18ZhJ7O8PzHO8/fbbXSVTwrUAMgh806ZNthSAdJ3TyiYBGPkd258C0Fn5CZI3PA5v/mjAZLL6h/PwTnQOng3PtCO9YXsaFIDsDztnzpzIL+wE7EEXcNwFYJzmzfItFGyxWgD5UskevlwLCcA4LY4OExcCEoBxwaiD2IVAKAHoT9oIFoDBwo7XsHbtWqszCNvB+Udwf+BYBCDjgc4991y74OqahwRg9EvSnwLQtX85kra/DG/hsR6xnKmjsRy+1By45/1TrxOvqKhAaWmpbQUgk6mYFR9XC2D0S9ltTwpAvjAyoSyWwcS0W265BeXl5RKAsYDUvnEnIAEYd6Q64Mkk0JsAZN0+1gUMFHaBlj3+nu6a/Px8q2OIfwT3B2aM4VtvvdWVMctMwXCy+1gHbOPGjbYWgCyWHcjoZK5l4LnjEgNo4jUdrbXwsVtFmoklTAm/JlxvHGIVgI4mYxlqq4MvJRu+bFM3LyB71lmxHskbn4C3wJQvcR7rZOE8bEqUDJoBz/SbJQD76SZlzU5+FmIVgGwveeutt1pCXBbAflosHTYqAhKAUWHTTnYlEEoA+mP2WLaFJWJ6Ena9CUDGBPr7A0sAnvjVZ8LOtGnTok4C8bY3omTbauwtr0aTKTdSlJGEMcatXzh6JqsEx3RBUQtAE9+XtGsxnIc2wdHeZARghonpmwjPhCsBY92zhmmJlrz2T3DWH4A3x3SncSajvroE6yp9plXacKRlZGHyqOGYOuMsJKcdL2hPBQsgk6LS0npuFxfT4sSwMwUgnxdMAItl0INwxx13WK54CcBYSGrfeBOQAIw3UR3vpBKIVAAGCjtOfP369ZbIoGXQP/gGz7IwfgFIi9+bb77ZFS8XiQWQGYFsC2W3QZHMYtl2tQDGJABNb9ktHy/Buv2m20R6jqkzl4Sm1jZk+5oxf+ZUFI+e3rUcbCfWbsqGJLPtWkAx4d7WK1oBmLTzNbj2LoE3y1j9Uo1FssNk+TaUoHPYWfBMvaHrlI7GMrh2vgFX/T7UNLXhrwcKsNtTiAwjmjxmvqzzN29EBq668tNWx4vAEYkAZFyhq/QjoKUGvtxh6Bw+H76s8PvwRnpPM3aWMYB2FYAs2p6cnByzAOS9++UvfxkHDhyQAIz0JtH2/UpAArBf8ergJ5pAKAHoj9lj2RY+0HsSdr0JQHYG8fcHjlYANjY2WgJTAjDyuyIWAdhUU463lq+A07h88wN65x483IgRuUk49zxTHsgIp70Vh7F1917U1DchLTUF40cMwRRTboViMO4C0FgkUz7+jTmsKeySEdDOra0eDncT3HPvhi/zSOcZaxgR62iqwLtGpC/e3Y5xhSlIOuoqbmjvNB00PLj94pkYNf6MqASg68AKdK77K7bUp6LBl4GBTtNJpzAN3rPvgY/u534Yp4IAZDF5VgCIZfDF6p577rH6kssCGAtJ7RtvAhKA8Saq451UAr0JwAsvvLCrOwgnScteoLDzC0C2Gwt86H/00UeW+PMLQH5xvfHGG13WsnAtgBSAjDFctGjRSWUU6uR+CyDnFugmt8tEKQCnTp2KvLzeCx+Hmm/pgV14d9VajBg4IDC8Do0tbehwd+Dyiy5GRW0zlq76GJ2t9chN8aHN40MDMjFz0nicM6u7qAo+RzQWQIq5lI8fgpfiLzmgCHKn23L3dsz5B/iY+Rs0fvv4Ezjc4sXQnO6Wvh2HO3DVjKEmvvTCyAWgsTxWvPZTPFI2DAd8A01dSxhx6cM0517cOtmJ9PO+0S0uMV73hF8AsixSampqvA4bt+Owaw/nFasAXLZsGb72ta9hz549EoBxWx0dKB4EJADjQVHHsA2BUALQH7MXLACDhR0vgi7a7Ozsbg/94P7AgQKQb/Q8pz8JJPgNP/D//RbAYAFoB6vA6SwAK0xLtHdWrDRWvVT4klKRbkL+slOA2jrTmcFYBS+78CK8s/x9lFeUYViREZhHa8Y1NtSj2XTduPriizAg72hMXog7PRoBCBP/l/Lxb60+1azvV+92IjvJi7GucmQ63eg48x6TqHK82P3jU8+gpK4NI/KOCSYKth2H23HtnNGYN797eAEzT/kze/bsHj+jnWXr8asX38dO7xCMMn10k50+tHQ6cbA5GZfm7MMNN93e3UoZp087X5zYCu50F4C8xm984xvYvXt3nMjpMCIQHwISgPHhqKPYhEAoAeh32bLPbaClIVjY8RKYpZuZmdkt7ifUdosXL7ZaRPGhHtx5JB4oQonC3sSl/5zh7MdtQ23HUjB0eQX+ra/j9fX3WOflPz4zqNkujNbJSM/Z0NaJNzaXoLLJjVTjzk1NcqDQ2YwMhxtjhw3CoMJCfLTpE6QYq1emcf0eG16UNXTgzPEjMWDgkG7LGjgH1nfkvLKyso5bem7X3OHF4VYv6EkuznR1uZQ7yzZg5a5y7HfnwWeSOxxeD4Yk1WHBmAKkjTw75Pm279iC93YexuCMTqRZCU0+YxHshNcUiL7qrMkoKCjqtl+T6QXMn8GDTZzh0RHMr3z/dvx1TQWMxxdppn2af9S0O+Ewruc7L5mFtKyCsLhHsjZ8kWKiBbNso1nXnu7jSOYQvGCB+zJmj5+HQHahztnT+aqrq63ED8YSPvjgg3j22Wcthv7tp0yZ0s0jEY/nho4hApEQkACMhJa2tT2B/hKALALt7w/sryvIeMJJkyaBLuPAMjDBvYgJjb9rbm62BCbrnvl/Fwg0eL+ejhO8CPHYjiKW8YkzZszoVgYmHsfu7RpDcQj+HefAmmx01/t7xoY7r05jZXp/XzN2lFXD3VCODmNxa/clodmZhZlDc3DFjJFI8nVg2YcfoM3rQkHGEQFoGvzBJAujprEZC6dPQH7xiON6TPvncOjQIeuLnO7pwHnxvzdUtmNNWSsa2o0AdABFmUlYNDIdg7OS8PbuRuwurcQ4HERyZxs6jQjcCZNtXjwQl48395TZPni0GZG+av0G7DQWv07TH9gUtrH63s4ZVYSJ4yZ0be6fR0tLC/jD2pY9rcOuqia8tGY3xjor4Us2IpbnNXNvbe9AXVIhbpo/Cfk0mx4d4bLvazv+nf1xyc0vivraJ95z6O3+4+ec8+LnPJp5sV3kH//4R2tf9iPnc8LfOpLnpbeB9zRdxD//+c+tLkS01r7wwgu49tpru/H+0Y9+hN/97ncWL/ZO/s1vfmOFRPgHf/9P//RP+Pvf/279iq3nHnjggahCJo6/6/Sb05WABODpurIJel2hBKDfZcsuF4HlJlavXm319/ULOyJjoWYWpQ2s/RW4Hb/s2c2DXw58ENNaGG4MIAUgj8VMW7sNcuMXERNUAhNl7DLPaGMADzW245VVW1DYvNOIrFbUuV3wdHrQnFSAvGETcd1Z461+uhs/fBsrdh1CYX4ecowGNHkVKK1twchsHy675Eq4Uo+VWHGbrNu9h1tR09yBtGSn6T97AIMLcroVDye3LeWNeHptOdLN8QuzUuAxgq3UuG/539eeUYxn1pWjvtWD6sY2tHW4kWfE56C8DEt/3Xr2MAzODV0axe3pxO49O1FeeQjJSS6MGTUWQwaHztYNxwVcZRj97O8fIal2L4ocdUfK4ng7sdc3CMNGjMO3rp4VdkZ0JPeL3wXMwugU0HYb7NvNF47AmqDRzJE1Q7/3ve9ZlsBQ4/XXXwfvb7rpr7/++uME4E9/+lP813/9Fx555BHL6/DjH//Y+qzSespwFY4rrrjCsjZSJHLcdddd1rxffvnlaKasfRKEgARggix0olxmpAJw4MCB3fr+hhKAfDMvKCiwLHgsqzF58mRLKPrFUiQCkO5kClG7DbsLQLbto8ss0iSQg1V1eO29ZRiT2gRkFBzFbqyxdVVoyhiKay86D1mpSfA0VuHjVcuw45CxmPlSkAzjjs1yWAkgeSNML9mjo7ndg9fX78Oug2Xwtjcb1y3dsA4snDwCi2Yes8Bx86dWl2JzRRPGDDiW5EGr3e7qFlw0cQD+tr4clcbFzCzjFOOWbnWb8jPG7Dc0Lw3/fMFoDM9Pj/k2CUcA8iQvbqjA4g37keKuN6kvbeA/UzLz8fn5Y3DmyMgTb/qcOAMXD3yAqvd+j2GZbsAkvLD+YecwYx0PKITd53H6cQPGdvIFL1YByISxH/zgB6Cg7GvQ4hhoAeTLK8tPMYbwu9/9rrU7W1vyxZXC8O677waTVfjZYMF6vpRy8L/paaDonDixexeZvuagvycOAQnAUuAhXwAAIABJREFUxFnrhLjSUAKQF86YPVreAltOUdgVFRV1E4C07jFOMLD/Jx+mFH98254+fbp1DNYBZP0yWi5OBwFIF/DSpUttawGkAKTwZpeWSEZ9xT68suwDpBoxk5t6zKdaWt+OwuR2XHGpse6lHY3da29AbelONNTVIDUtHUVDR8OVa4ovB4zlm/Zg2ZoNGOU8ZGIJXfAZa+KOhiRkDBiOuz9zMTJSjrlKH1y2D3Wmbt8Ql0k2MR1ITK0ZU9qlCDua03H2qDw8tabcZBt7MSjnWELHwdpWFGen4oEbp5pjHStaHsk1B24brgCkdXLF7hqs2FODBmOVpPXxvPEDMGNodvfYPwo3jhhFWtKOV5G86tfYU+tBQ8YIDEI1Bqd1oOOsrxkheFW0lxvX/eIlAGnhowuXx+trBAtAZg6zEDVbVM6aNatr909/+tPWy9Bf/vIX/OlPf8K//Mu/oK7OWG8DBv9+//33W0WoNUQgFAEJQN0XpxWBngQg38JpsfPHkPGiKQALTQJAYN/fQAFIYbdz507s3bsXtBTyAeyPVYpGADIWi5nHdrQA+gWgXd1x0QpAR/1BfPT+W1jTNsRk/jqMO9aUd+lwwOduw/lFjRg9/zNht4Sj6/eRl9+Cu6YUA/NN4WbTJ5ajvqoMpZ4c3HTlRZhoagf6x0tr9+PjDRsx0XGAismKq+twJGNf8jjMmTYFr3xSiTZj9XMb8UU3NI/v6fQZ8ZWK/7rGxJamBQlAtrJrNm3jTA1Bq3xM+vFiuKHNg01ljWgxAYwUlrm+RlSZLOjesoADHwAshM05JJuAxW7JQMY9nGx6EjvL15oaMenwjFoEz8RPGXbHJ770+UAxGdCe5/8Rv6uciGWtY+B2pSHd6cGCpB24a5Bpv/aZh0xpnNitn33Oo48N+CzgS1/g8yGaY7766quWC5deg75GsADkfc8sabaR8xei5zHo4t2/f79Vjuq///u/Lfcw42QDB93FFH//9m//1tdp9fcEJSABmKALf7pediQCkG/VDI4PfMDzLZ0xcMz8Y8IGH8jMUKQADHQFMa5n3rx5lrUwXAsgBSBrDzIb2W7jdBWAMH1/fZuex5YqN7Z7BqG104G85E5Md+016zkO3nGXhr0U7W2t+PPfXjSZsT4MyD4mUOpq61DW4sON583G4DFTrVi//IxklG1aiqdW7kKDqwAD04y48zlQZWr4TUirw5yzz8MjmzuR42g15WhqrPZ0GWmpplNJPgbkZOBbF40x8YUBLeqMdTJ50zNwVW4w7eFa4UvNRueIc4+IMNeR+LntlU14bFUJKmrqjdjsRFJyqil0nYxFxR6ce1bPZWD6AuAwdQlT3/uR6VJSCh9L05hsZYe7GZ6hZ6Nj0fe6zt/Xcfx/d1Zuwm+efgmL26YhC03IM9Nv9qagtjMFV6Z9gntuvBbe4mNu93CPG+/tKACZuMFuQbEMxuHRXcukj75GTwKwrKysWzYyO4scPHjQ8mxQANISyJjAwEEvxp133ol//dd/7eu0+nuCEpAATNCFP10vuycBSIsd36QZ0+MfLMpMl2KgsONDn0KNpT0oDJkMwgd38HYUgIyxoQCkeArMAu6JLTMB6U6WAIz87ovWAsgzOWp2w7XvPXhaGtDuMHUATYybM2cIOsdeHFl9u84OvPbSE9hQl4FxBaZsy1GP8j6TRdtmCkoPHzcDZd480Io2xLhQL2p5Db7maixtH4/y1mSTBezDpOw2XOhci9Spn8KvNyUby84BjE6qtpIsKE6ZeHHxnKm46syAuC1zvOTVDyPJdOvwZg82PYMzLZeys60W7imftURgq7sTP311E8pL92G0o8JkNnvQ4kjDblPbb8bQXPzLZ86JHPrRPXju5K0vmD7F47tqJLJHsbOpEu0L/81qGRfJOLR/G771zDqrLE6GrwUpyUYBGpi17mTzMtWJ+2+ahcIRkyM5ZL9sGy8ByMzc++67zyoC39eQC7gvQvp7PAlIAMaTpo510glQjFEEBo9wBKDfQsdjzJkzpyveLJRQfPvtt62Aa2YVnw4C0O4ZmbEIQEsENlfBUWdacRn3qS+zEN4802XDWNEiHZXr38DL6w/ikHMgTDKvyRZ2oLGuGq1Ig6t4CorTPJbQq3SnIb9hG24dsBWDiwpNoWdT/88UWM4yxZ5dVVvhHn8FDuxYj6fLilDmO9IKzuXwYppjP26cUYjUM7/YNTVa4JKX/Q9Wu0diZfNQVBuhNNIUbD43ZQcm5njQfv4PsaGiDb99aakpIlOK5BRjnWRyiqcdFS0OdKQX4Wf/cDXSAy2KEVx42itfgaOlCpVpY7C7LRupjk5MyahDRu12uM+4xfx8IYKjAZvL6vH/nlyKYu8hq4yNPwPY7W7HIUcRfnTLBZgyuOfC2xGdLIaN6bJlX/BYLYAvvvgifvWrX1khJ32NnpJAvvnNb+I73/mOtTsrENAjEZwEQu/CWWedZW3D/6aHQkkgfRFP7L9LACb2+p92V9+TAPRb7AKL9bLuHR/wtAAyxoYPSwo6Zvwyq84//NuNHn2sNVe0AnDlypVgRxK7Dbt3ZYhVAMaNt7G81az7OzaX1OJgewayXR1oNHF3q73jMTW9Hskmi5axfr6UDGxvK8D5qdtw1TiT5HHUTetorYHDtF7zjDwPydteREPOBGxvyUJzpwsDU9wY7yxBEjrRvujfu2ITnRUbsGTx3/BS20zrMtJNseZGjyk8bdzHtw/YgolXfBUf7arA75ZsxfjMdpNrcix28LBJQmnxJuM/77oBuZkBLeciAJL85nfx/N4kvNY+A/XGTWtSWTAkpQV3pr2DKfOvgmfK9REcDWBpnn95ag1cjQeR4z6MJJdxdRtr6mHkw5s7DL+6ea5VKudkDwpAJlIElomKZk7PP/88fv3rX4MVAEINFuretWuX9SfGGf/yl7+0vAR8DlF8Uuj95Cc/wZ///GcrOY0uX3YXCS4DQzfxww8/bB2HMYL0YKgMTDQrljj7SAAmzlonxJVGKgDpEmaLNrp8p02bBlbv51s4Czz3JgBZ5PXMM8+0MoLDtQCy7ReFjARg5LeibQQgp073Z/V2OJoOGZGWgcc2NmH9gVpMy6wzsXkmRs4kh9DSuLM5zVgJnbhzwCcYkua2umqwxl7n6AuMK3cIUoxr1Vsw7kjdvaPD0XLYirFrP48C8EiCBTOZf/m8cWE7TZ3AoxqOybh7G4AxmW34yudvRvWetfjZG6bWYVoGBiSbsipmcJudjUmYYNrL3fsPt8HRVQYnMv4rly3GQx/VmAQaoDDFWNhNLGOpcWkXJrXhP25ciIIhYyI7oNn6tyZD+rVNph9ya5Upju2yWu7V+zJx5fRB+MeFIyM+Xn/swBhghn7EKgCfe+45PPTQQ5ZVLtSgmAsVFnLbbbdZyR0sBcMsYoq7wELQfF75R01NzXGFoCk6Iy2b1B8cdUz7EpAAtO/aaGZREOhJAPotdv7CqTw0H8hsMcZMYFbVpyuKNbU4WHLEP2gBZDB4YFP4WAQgH/Z26P8biJdfMkuWLLFtX1ZaTinKwy0Dw5i4dpNhm5l6rPVaFLdTWLu8/PfnTLeRRkwamGG0n+kNbXTe1sY0bK1zITstGeMK0zE5rQbXju5E9pBJ8BaZlwsjEFNX/My4aU2SSs6wI+cxApHCkjF17lnHSndsLmvAw6+8j7Gdu+A08X9wJVv7NbabjObscbj3uoUY2L4PL7z0LF5vmmAsak6TVduJek8ysj21uCl/B8669cdH3MJRjJ8s3o4tO3djtNdkM5vkEg6vEaO7TTbzly6YhksmdW8/F84pmKX85w/2m9qDB5GSnol0Uz5n4bgCfPEs0+0loJROOMfqr20oAGmFY7eOWMYzzzyDP/zhD+A9rCECdiIgAWin1dBcYibQkwCkYGN8DAUgYwQp9OgyYSzNzJkzuwQZ3cAUQ4ECkEkg3C9QAL777rtWnCDLyoRrAWQBV1b8lwCMfJn55cmCtvxC7m20G/W1en8dtpbXm4K5HcjNysCs4Xkmpiyr30T3tjf+iFd3m+LJacMwLL0DO5tSsKkhw0QFtmN2gSn0PPQMlJu6g3NH5OILZw3tmofLJHUkbX3eshaaViOWqPPmDod79peOiUJzsTsPNeM3S3ZhiOcA0lvLrZ7BPrN9deoIeLKH4juXjkdumgvOFb/Cyh1lWO6eiBqvSVRxHcKC5O1IGz4XIy/+h8ihH93j3ue3oK7VjeLkNjNX4+J2OOFLH4A99T58dtZgXG9+ohlutxuvvrMc48+Yg+KcdFu4fQOvI14C8KmnnrLct7Ria4iAnQhIANppNTSXmAn0JgDpsqX483f7YLkXWvZYaNU/GFfDYwTGAPKLgK7iwO1iEYCsAxhO1nDMMCI4gN8CyOLWge3yIjhEv24ajgBkDbyX1pVg+74DGI5KZDvbUefLQUfmYFw6d5IRgZEnfQRfFBMynLV7LGudN3cUfKaDxf4Vz6Jj/0oscczD7gYn1pgsYY+p6TfQtFUbl1pnyncMQ3P2SDT6MvC180Z1a/HmPLwTzkpTbsjEFnpzR8A7ZPZxmcmsD/i/S/ZiX00rRpvcCJfXbWUz76vrxLnGavb5M48Wq/aXiilbbeoctludTw7lz8HelEmYOSugDIxxYTuaKkwSjOlNy3qCfYzfLN2H5aZI9JgB6V3itcMIbRbT/tp5I3HOmN5FeU+HZzLD+++/bxVodzEO0GaDL34sExWrBfDJJ5/Eo48+al2rhgjYiYAEoJ1WQ3OJmUBvApBdPyorK61AagZIUwgGC7twBSDdpQzY5v7hWgD9X3h2FIAET1F7KgpAll35eF8dlu48jLU7DyLV04DidC8m53pQ4GhASVsaBgyfhKvmz8DG0gZsNj162ZJtYnEWZg/PNT14jUu1r2HO4drzFpL2vGuSOJqtrX2mWHHniAX4pG0QRpa/bjJlK/Ffu8diiXsKnCaRwwXT2s38e5SrGtMLfNifOQ13XTzDOm+kY48pNfOk6RxSZkQXq8+wBM24okzjMh2KgsyghAkjJploQnFXeqgGVVVVlpWborVl499NceoNKG12IifZi7mjCzHonFtCFpX2z3GbaWd3vxGgFNiFmaZJnikUXdPixqTiTPzrZeOizi4+FQQgw0OGDu3eDSbStfvrX/+KJ554wurfqyECdiIgAWin1dBcYiYQSgAyyYPuF7prKdr8mcCh+v6ymj5dU4wJ9I9Q2/kFII9Fq2I4Fj0JwOiXtzcL4FYjUF7aWIGO1mYcOHAABWk+U1TYJGAYgTO/sB0dzXWod+Yic8Qs7D7cZuLykuA0CqreuDVHmz69n509+PiuG0FTpaUuec3vTYeKTKuMjDUotExW77bshUgpHIk9H76IX5ROwSFjdWSPkCRT1qXT5zRC0IOZqZXIy83G1z57JQrzey9xUt3UgQ1GqLZ0GAHbsAMd5ZvQ2NyK9MxsJA2ZZhJHxmNAViomD8oy7eiOdCPpaTC73S8Aq9a/iv97bz92d+RbCSI+48otcLXgjrGNOPPTXztW4y/EwdaXNFiMS2rbTP0+B2YOy8H1MwehyLSti3bY/fPA2F++NMYqAB977DEwDpDJHhoiYCcCEoB2Wg3NJWYCgQKQbs19+/Z1lVhgzF5gDFmovr89CUC6RQP7A/NhPmPGjK6YwkgEoF1dXrQAsrh1YL/kmBckTgfoTQA+t64cu0ycHK19a3fsR1ZGuhFfQFW7E3NMDJ6r08TntXvRVDAZIwvzukQTrYC7q5tx5dSBmDe69x7D7F3r2rkYPiZwBAxn9Q5s9o1G5Yirsdj0Ul7ZUIhsUxXwsPkny6U4jRWwwWS4FrsacffgPbjmqmvgLQwo8hzEZ/WBOtPNoxSHmzvQ1liLavPvFFN3b5gpu+LyuTE8pRl3njceQ6efHxbZLgE4fSp+9/sH8G5NEcY4Sg2fTiMCHTjoGIT8FC/+88Z5yBrWe/cNWlprmt1Wm7jc9DCspn3M8FQQgIwRDmzBFhb0oI3YpYOlYPj50hABOxGQALTTamguMRPwC0AWdabljokXZ5xxhlWFn9a/wLIIoQQge/9yn8ASC6G28wtAWgDDdQHTsrh8+XLbxjzZWQCygwp7m4ZKAvn9igNW79uipGZs2roNlZ1ZyDeGqRojAEdlepCJZuQYL2lJxlSMzzOZtiy1wlp9pq3ZflPLb2xRFm6ac6yHb6ibMMl0wsCeJdicMhO7mlONtAOGm4SP0qpavNc4DA1Zo7GnrAotpgb5eFcFGk2/EZY18RgLYLMvBbNSSvHwxLVwLvi66agxIeR9Xmvcqj96bYexTHowJMuBzbv3o85k8pqoP0zIbMLo9CbsNmVdZuY046u3fh6OMPrl+gXguOGD8J3fm4QTk0AywGlc2FYbE/b9BfY7BuOb54/E3PkntkWhPynKriERfGYUFxfHLACZAPLSSy+BiWgaImAnAhKAdloNzSVmAnTHskk6s3z55s7MUfby9Qu2wDIi/r6/FBb+Ea4AXGqsPdOnT7csgJEKwEWLFllzstugW5vdA+xoAexNAD6/vhxvb6s2IW6dcNeVotMkQPiS0k1/2WTMymnABVklcBfPxDsHvZjk3QVHp0mQ4DBlUXY6R2PG1Gm4ZkbvAtBbshqvL1mKVR2jTFQf186HMlMLr6Hdg6FZJpmocDC2lB7GAZPQW+hoxDCnmY85fqMpnFxrhOCt+Ztx5xQfOhbca3zDaSGXfvmuGjz8/n6MKshAS2MNPjlYY6yVppOHz4UUpxcLc6vR2OFAsylv893rzsGg4aaGYB+DApC1Lcek1uI7L2w2M/cg39natZfXWEH3+Abjn+cX4OwLrunrcHH9+6kgAAcNGtStB280AP74R5Ml/uqrYDF6DRGwEwEJQDuthuYSMwFW1OcPLXiM3/GPcAUg92XPXoo7/wglFKMRgBSnDASXAIx8mXsSgCz78vv3D2DJ5hI4PM2mt2yrsQZ6TXwbsDC/DrePaTQJIBNwwDUSTy0x3SeM8B5oBBsNYDXGXMc4wOvPmYqJUwOyZENMb6sRd0++uRIDPSXITqEoc+Ltw0VoMPbF0QXpGJSfZRy/KVixvRQdxqxWhPojMYDGCVxkCib/cPx+jDznM/AWH7uvgk/zjhGxf/7wIIbmpWFXeS3215h4O9NWLsm0kMtwdeLC/Cq0mbhA9sz97mcXmdi04X2C9AvA2c5tuO+1DfjQMxEZpjxNsyPdOKlNQWsjZJMdHvz4yrEomHFFn8eL5wZ2LovE61y7dq0l/vgTy2ANwMWLF+ONN96I5TDaVwTiTkACMO5IdcCTSYDdNuhq9fcX9c/FL9gCXYhbtmyxyk/QSugfFIB0H9NtHCgAabEL3I5CjokiLCMTrgXwVBCA7G/MZBm7jZ4E4KayRjy7chuyTbJEucn2bTCuV3bc8LS34fPDq3HxJVfCZ8qruPa8Y77QP8K7HZPR0GESJ4wAzHD5MC9lF86bNBTeM24+7pJ3VzVj7cF6E4fnRpVpX1bd2IpZWXVWCZXGDmBpQzE6jJDKNS3ZJud5kJ5TgO2mDMw2U7h5gLPRElrZxvU8LN+Un8nIR1ZOHuaMLMBZo/JMHN3xyRu7zPn+e/Euk+nbhmZjWWwzoQiMu6OIzKIAzK1AVasPI4zgvPcLn0FyUt+lU0pKSnD48GHMHOTEsr/+BN9uvdUI1WOJG6nowNdTXsOtX/4mfHmjTuiy+zvj2LEuZjwF4O9+9zuwEP3rr79+QvnqZCLQFwEJwL4I6e+nFIGeysD4BRvrevlHKAG4e/duNDc3dxOAobaLRQAuXLgQrEFot0EXsJ0FIJNwAteP/N7dXo0lq9ZgkvMgvOmFaPc6TIavD5UtTox0VuALl5xjrG7T4Nr1BpJ2v4XKnKk40JxsUjMcGJruxtDWnVZnDs+ML3ZbjjUH6sHkkiYjxNJMpi1r8FGULRpfiCLTp5a1+ZbuqDItBGsx1FeJqamHkJySjprkgahIHY0LJg82ljtgxZb9qK+pRra33kitJLjT8rFw2lh8bt4YKxM5cDBp6T9e3o63zDWlG3HXaeL1mk3pFQfLyRhrYlFSCyZku3HrxXMxY/zxYq2iph7bTAwrx2TDqrggF34BOG3adNxy/4vY1Z5juYGZnsI4Rq+JLzwjoxZ//Mb1x82nv+/PU0EAMoyEbuBYBtvA0QNBN7CGCNiJgASgnVZDc4mZQCQCkHGCwX1/exKAzPIN7A/MZA52C8nNzQ3bAsi50RJpVwHILyl2S7GrBTCUAFxhChQvXroMk9IbTB/eY+VVdjea+L/kffjMwlmmtdo5cB7ajOQNj8GbY2L9ko9aODs74KzZDc+U661t/INt5O5/Z69xEXdgRH669euqpnZ8uK8eg4xJb9H4AZZY2rR1Mz6p8mJMSh1GZ7RbvXoPtfgwf6gLn7v+Jjz3/ka8tW6n6cVbYVq4meMYy2S9ad9WnzIIX/vMBRhXfHw5mMdWleCpNWVG9PngNu7tFBMDmOTtMBZHLwaZnrk/vGYaxg3unrFM4fjae8vx4oZyNLiPWBZzTQmca2cOwfSxo8A+sS3Zw/Evf9uClM4WpPtMEgjrwJhraHJkmXqGGfjdLWdgahwKZUfyAbZzb2xex5o1a6wSMLEKwAcffNAqAv3yyy9HgkfbikC/E5AA7HfEOsGJJNCTAPQLNhZ29Y9QfX/37NkD1g1kiZfA7YKFYiwC8Nxzzz3ORX0iGfV0rlNRAFY0tOHx196Dt7kag/KyjDADDpvs3wbjor05fysmnn2VZQE0mSFI2vI3uMrWmCSMFKsGnqOjxbL+uad/Dkg5VpyZrdceXLYfQ3NTjQA7IqhMe198Ymrzlda1YZKpv5dukjIcFRtNjJ4X7R1umLwMZCb5MDPjMD494ACSz7sXP3xxA1oaDqOYfmC/tc/MY5dpFXfDvAm4cN7c45bihdX78JxxaU9wbz+SrOI0xWSyirEraRzmjinGP18w+rh9Nm3ZjPte/8SUiTGFmlOP9OqtbjcWREcSvjRvqGmHl4PdvoH4nzd3I9v0RmaJHJhtmQRjkqfRYgTvT6+djPONsD2Rg7G2LO9z4YUXnsjThn0uCkB2AWEmcCzj17/+NRjCwExgDRGwEwEJQDuthuYSM4HeBCAteIGJIaH6/u7du9e49eqPdE44OkIJRb7RMyaQZWXCjQH0er2WK8jOApDt8tjdxG6DX6ChLICc54bNW7Dk43Wo7TBiyWTYZiV1Yn7aAZw/xpTomfEFY/E7YsVjr11XxQY4qrYYceUx4m8yOgcZoZ/avUXcnuoW/Nq0P6O1L83ECcJYCr2uFJTUdaDCBP8tGJOPIaltmLDvr5jiMB0yqkpNy7kMFCR1oMhlrGtGYLZdeh/++5VPUNmRgmEBjT9oeNtp2ul+YXYhFp53mTUtxvltMIWW1x2oReXWFVhXBZOg0YzhLlNo2lgNa0wWcWPKQNx16VzMm3Z85u+fnvkbFu/rxNjMo9nNRxdvT3MKzh/swYIZ0+EsHIV/fHKTsSv6kJV6LAOd3T1STDzi01+ahUG5obOT++tesLsAXL16NYYPHx6zAPy///s/8FgvvGBKCWmIgI0ISADaaDE0ldgJ9CQA/YItWABSlAX2/Q0lAEMJRQnA2NcqkiP0JgDRVoemj5/Cwd2b4fW0WzX0Bo6ZAc/UG0zXjmOZ4OGez+q9+84ulJQexDjffmMhAza2mrZqHtNNJCMNk42r9Ozhmbih/BdIL1uJdp+J50w1XTlSjKXPtGBzmJ68bQu/h7e2HMLTpfmWAMxwmcxkI/7K2lOQ0tGAey8Zi8Ip55vf+fDM2nK8vqUK7tZGJNXvQ60nFW0mo5j1+phJnGVcthenbMKN55+Jzlm3HncZv3rkcXxUlYyRGcbsGTD2GwE4K78Fl509x8pq//qzm/GRaZlH93WqKebcbq7TdHXDFVOK8P9d3XNx6nC5RbodBSDXlUkgdhwUbSNGjACLQccyfvWrX1l1SFkMWkME7ERAAtBOq6G5xEyAgo5ZwMFjxYoVlgUp8GEequ8vBWBdXZ1VNNo/KACDhaL/eKwrGKkFcMGCBUhNjb6FVsyQejgA4xPnzp1rSwvgqlWrMG7cuOOSQIxqMrF9j8JVtRXe1DxjrTO9co0gZEare/YdRgBG9+W9e8XzeGpDNco6c7HPJE40eRymtIsJDTB1Bd05w1HtKMANaWtwdeWDaHOkWUWZU5iUa6yFvhRTG3LUeWgoPhuPL1mPdR3DrPhAKsA8Xz2uL67AWdf8I9qScrDYCD/G/WU62zGqcx9c9QfhNiVmdmAE5ibvN5bMPZjoOGD+VoLOCVei/dKfHrd6L7/8Nzy21fQcNgKQZWM4Ok0dnH0tKfjsyHZMmjzDSmqqMzGNdAOvMiKwzcQXpic7ceGEAfjOJeO6XN39dW+FOq7dBeDHH39s9QyPVQDef//92LhxI5577rkTiVfnEoE+CUgA9olIG5xKBCIVgCzNEtj3l63jamtruwnAUEIxGgFIaw8zbe0sANkuz98r2U7r3pMAdJavNQLwr/Dmm9g446a1hnGbuqq3wT3+CnSOO+JmjWQ4WqqRsuy/ccidgVeaJuCl0mwMxiEMQ5VxCZtgv1STXesoRm5mOv4fHsbBZlNQ2lNk3M8ZGJ6XjAlp9XDkj0DHou/Dt+FJbNu+FQdbkpBqrHlTBjhQfPYN2J8y3ir6vK6kEVX1zSYxo820smvEZOxBmskXLsVAFCa34/58IxpoVWSR6+m3oGPhd4+7lMPle/E/zy7FvrZM5CWb2D4z6txJGJ3WhC+dN8UqVRNY1sgqaWNazLHeYE7ayctGZ7klrqtdLYAUgKNGjeoWNhLJfeTf9pe//CVYS5T9gDVEwE4EJADttBqaS8wEehKAH3zwAcaOHdstnidU318KQGZNzp59rDAwBWCwUOTx6B6qqDA14UzSCJNEAkfg/wf+N7/02GkjsHdwb/udMvhDAAAgAElEQVT6j9nXNvH4OztGMKaRNQ8jPR7nGck+fW0bfLzy8nLQ2hrYpYTHyClfgdyyZWjLHcMZdC1BSnMZ3FlDUD2+e32/cNYptW4Xirb8ER1Zw7G2IQd/LSnC+KRKKyHDYZIn3OkD0djWibbkXFyUshWLm8ag0cQAOk1NSXbsmOfajitmjEDb6EutGSWZuaQ0lcDrNFX3CibA48rAAx9UYm9FNZLba3GwLQNpjg60GKE21FFtROBelPkGGBdwK36Z8ySc7mZ0ZhSi+ux/Q/vgs0LeZ4f3b8Y7qz/BhsYjAYczso3b+Mzp8GaYuZr7k/d+qHupr3UI/nuk6+zf3tlUjqTqLZZIdg+eDYeJ1aQFkK5RvhD19NkJ53zhbNPT57G3B068BOB9990HPkOeeuqpmJ9vOoAIxJOABGA8aepYJ51AJAIwVNs3tpFj4dxAARhKKDILmM3sKUpYK4yCjha+wBHq/zds2GCVj2Gh6r6257F626av/fv6e/DxyYNB74Hu6UjO39d8o/m7fx8KbZbcoQAMnFN21RoUlLyF1mwjACnCj65BWtMBNOVPQdWw7hbA4OsJNaeUlgoM3/kXeJIyUdqagt8fGo8clxs5DpPgYUZ7WhFKTA/hfGcL6p0FcHXUotgUfnYagdjU6UKFYyAWTRxsyqocKfMSfM4DDZ14Zn0FBpuuIp3GsrfRPdxU4zOWRTN/1uWb6dyJCm8+bnYtwQ2pH6LdCM2D/z971wFeRZl2z22596Y3Qggt9I6gIKioCCi6KnZdu9hdUdfy69rF3l376q4KuhYsiyKiIKIC0nvvLRBKSO+3/u+ZMOEm3CS3JRnDvP+TfzGZ+eb73m/u3DNvOaft2chuc6YcU9WV7HdfvG6Yyg8qf3fZpKPXYFJeXFii4EuMHogPGrp3Gvp79RwlGtt977donzcHZneF0n1dbknB6nZXIT+2W7M/L/yBR/V3fJYQOKo/vpMNBDhTAYRNX/QVVU9IQq+Oxc7iRYsWBbV+0sm89NJL4MsQsxasLSSllG66B0L1gA4AQ/Wcfp4mPVAXACTdRKdOnWpwevkDgLt27UJOTg6YClWNAJBgj/JytOzsbKWmhxJRbCAJtAaQ586aNQsnnHCCJvV2SW5N4KvVFDCjWL40PsoXdcl+WJa+D4PUAnqkNo8AyVB6QP67FM5jroEnrbff+9RZVoQt65fjgIB9u9UmHd09kZDOKKKCrmBZ8h7Mu+fDLVG7D7cnY56rO1JEZ8RqsyHP3Epk5xzoFV2AxVFDke7cDbu7EDaLWWoOU7HdlYLu6UkYNzzT77VXbMnCq1MWINMsDRkSUdxWZkOW0LQ4hZzZIz/tpMP4GNM23Bs/C7HHXQZ3x5MVNZNqKpkgPnlZWVlKSYNvCjiI08M+1LxmEqxznpPoqUV4GqXbWgCvoSIfXkY0z56AhWu2YvjwqmYYX2vov6u2KbhzfI8PBATzM04aGFU/PNjrqS+TJIBmZuGxxx5T5swfEsGTdD1QmzRpEq6++moQBDJi+t5774EAkyT1zETopnsgFA/oADAUr+nnaNYDwQBAf7q//gCgChQJ9ggGqa7AiEr37t0VQMIoi29Ktz7nsAZw6NChmgWAbH6Ji6tJi6KFzWatmD8AyLkZ96+GedMPMJQJfwq/YG1CzSOgyZ053C9oKsnbh0nTZmBdnkTKKBoslib8eRcP7YYeAw6lI8vzYVn1KUz7V6Ji73r8UHEMFhv7Sdo3GalRDowyr8T+5EH4trAbkkwOWAREJogsIG1nXhnMQq1y8cA26JIajbS4mg0/uZsX4/Hv10o61C60MSVAaS5yDfHY4koT+TgHbs3YghGGpbD1Px/OAdeG5X4CQDY1+WpbhzVgkCfbJ10sZNtbFMBXbQSB5bkoHnIvZhd3VACgFq2+ey6Y+T777LOgJvPHH38czGk1jiVY5MvZu+++W/17ZhLOP/98PPecAGzddA+E4AEdAIbgNP0U7XqgLgBIugl29PkKu/vT/eUX5v79+5VuWNUIACkPx+5ipnIIklavXq2MR1oZHQA2/v3Q4JexNEoU7d2K+XsqsbYoBgZR3uifIXQtnUSD14f3jjOd9oPw5m0uR4cEo0iuScesZF93FnsUEHjHZecgOv4QIbKkLw0FO2He9QeMO35DeaUTZaKjmyi1eXvcifi6sBd+KmyHZEkFtxW939QOPbG3qBKLd+ZLV68bSVYP4mOjcUbf9hhzTHq11BpVSb6Z/CW+LeuvyMXFugoUBQ9KtN1gnYkRKQVwC0G1Q6hkSAIdjjUrABQwHvPBMIn6ObHH1A5rnG0QI7WOg6y7YCvfj9I+V+F372Cceuqp4Syx0c6ts/M8yCs+/fTTyjNlwoQJQZ5ZdTizD1Tn+eqrr3DBBRdUj3HXXXdhxYoVirqQbroHQvGADgBD8Zp+jmY9UBcA5MOc9W2s11PNn+ybPwDIDj6mfRntYySFTRIqoAwFAGpVb5cp4D9jBJD7SULjiQt2Y8u+PMQLTGNysFhkzvq2S8ZVx7cVyhNytMiXaUUZXvz4a+HAMyI9tqqejuYSRYwdUpt3wynd0XfAkak5g9CzmPatUDpyV+3Yjw+3xuKgOw45nhjkOy2wG1xon2TFNlH5sLhKcZw1SwE7OUhEmbUVbh49GEM7J1ddTDR+TTMexC9ZHsxyHoN8t1W6jA/iLO9snJBUAteAq+HuPDIkDsPaH8xmBYAymaj/jcWb29LxP9cJKBe+RKHqRhtTAZ6wTUKXU6/C3IK0Fg8An3zySaWu+MMPPwzpuclnDyXpyDxw4omHJQsZWZw4caLSYKKb7oFQPKADwFC8pp+jWQ8ECwBLSkpqyL4xvcsiaypi0Phv1gKxLo4PX7X4WwWULOZmZDDQFLCW5dbY2EIFFC2mgFkw37lz5yNqANUbcfbmXEz+YzW6erbC4i5Xfl1hjBG6la64/NR+GNRBOALFykpL8OInkxUgkhxzWBHD6/Fic4EX157UBccOOqHO+9tZkovnP/kWWZUxwrsnDRbS57urxIjtjjjl3jBLFd8x1n2w25j2lQYCaXzYVh6LgV0ycNcFhyNdxtzNiFrwOrwFu+DwmISYWVLXjPqdeE/I3IX+Js2SBirbNFcK+JsZs/DmknKhtXYiVrgO3V4T8r12pJor8dbVQ7F502bNAsB6yceDeAKOHz9eScOzZi8UUwEgmQdYP6zaM888g08++QTkKdVN90AoHtABYChe08/RrAfqAoAEEHyL5o9q/nR/VQDIFDDr/RhBUYlgfQvpwwGAWpVbIwCkBnL8oVq2+jaZXHkQxQtq6IZKthzMTdQQAJw4c4nw7W1Apl3AX9QhKbvKYmyuiMewY/vh/BOqGnhYgD/hq2+wYk8xusVUCB2JcAcKJUluqUuq70wYd+FIpLduU+fUtm9ajZd+WIlUUZezVwUVpSygAhVeMzaVxcAiALB3gihy+LAC7ZXm4dZSBzj+pktrjivzM+1dKvVw0hQRmw630KPAHFmC8OYGgFdNWI7dBwuQ6slVIp90jFtqH3Ole/r2Ye2RXr5D0wCQdb7s3g3HHn/8cfBF8/333w9pGD0FHJLb9JMC8IAOAANwkn7In8cDwQBAf7JvLNYm6DMJp1tFRYVSeE0KktqRQhVQpqenBxUB1LLaRkAAULptTdt/VYiW4RBkY4mGJ1W47SRlyX83ljUEAL+a8i0W7SxG1+TDUT3mgTfmuTC6VyuMPl0oVAg/pGt456z/YOLmKBx02ZFgrEC58O+5ohIwolc6zhk18gg+Q981bduxDS9OXlBVO2iQdK/w/kW7i0W9w4udFbFKF2/XOIfwAVZ1qLJRdWupFaNTD+Kqa//WWO6pc9zmBIDUOD77ncVwSXQ1ziocilRJIY2NyYLcEgf+OrAV+hizccoppzS5XwK5IJkDqPcdLgB85JFHlNrhf/3rX4Fc1u8xLBshMwG7gFVjU9p5552nN4GE7FX9RB0A6vdAi/JAXQCQpK5sACGtg2r+ACDrAvnDej9G/Fjv5y9SeLQCQNOWn2HO+gPuWImSkdZDauJMxdlwtR0iUmVnNdq9RH+TxsdXy9n3YutnTsDEjSYkiFZv0iE1jByHBY7yEtwwMBaZJ16soLGoea/AsWclpjsHYElBLPIrDehk2IehmYk4Zsw4pXu3Pisud+Dm92diV6lJwJ90IEukL1qUe+MNZejFyF9FMTZ42iLZ4hRZNg9ynVaJfuXhnuNMaH/qdY3mn7oGbk4AyDnd9sVqrN1bjNTYw5FNai0Xlbtw3/B2SCjermkA2LNnz2oamFA37+GHH1ZeEn07eIMdS6WBIYhkGpjRxH//+9+Kwgib0XTTPRCKB3QAGIrX9HM064FgAGBt2TdG+ljvR4oXdiaq9X7+gKIKKAkqg6kBZARQq3Jrc+fOVUBvnSlgSflGLf9IojjCdxd9qFNW7gRq75KHzzFQAI49qVHujYYAoGHjT/hpwRLMdvQS0GVRMrCtLA6cYVuLU04+DZ7MU6SjdwdyZv4TH+UPwE5HgtIoYhTt3G6WXIxN3YD40dJ167Mufwv5Znk2/jtnPYpLyySyJZhSDiqBXf7PiWvSd2BU9GbMzUvEUlem1Aea0NW4D2Na7UeXM/+m6BM3tREAFhUVVXNYNvX1f9uUi6d+2ixNNtIRLFFAt0QDyxxudBZ6nFfO7YR1q1dqFgCy5o5UKyoPYKi+e+ihhxSuUN/oXShj8fwXX3xRqUsmJyk1hrUaPQ1lffo5Te8BHQA2vc/1KzaiB+oCgEuWLFFk4NgJrJoKANn4oNb7sUaQRfPk6lOtPgCopoCZMg7EtEy2TADIZgEqbvgzQ8k+WJZPhIfUJFI3V22S2jMW7RHOumvgjT9cYxmIPwI9pjYAZC3fhv2lWLwtB7nFZciQjt6UPb9i7l4DtrmSJRHrRfeoXFzZ1YWOI66vilbuX4u3J8/EGld7dLZXSARPFBo8Bmwvs+IE+y5ce/GFQGLd0RSHIL4HP/1daPt2I14aGnY5YpHlTFAInL3yk2EWybWofPytQxYyJaroEiWJuNZd4e59PopiO2Pu1nxsOlCC6CgTBndMVGhq/EmtBeqTQI5rbgDIOU5be0Dp0Kb+sEkaZY7tkIC7hCQ71uhUaEy0qmZBAMg0K+URw7F//OMfyj6/9dZb4Qyjn6t7IOIe0AFgxF2qD9icHqgLAC5dulRJH/qy5pOpn6ofNOqSkgKFuqn8fW0AyC4+/l01FVCqEcBgAKBWqVYaAoBwlgkAnCDFb84a/HSG0iofOo8dqzSFNIbVBoDzt+bg2z+EpLlYOPcMFTjgikV2pRXp3oPoYdotgMyAPWgtqfw03H7hKKTG2bAzex9e/98spJgqEKN06VZZQVmldAzbcd9fz0ZqUhWZsz8rLC3HQx9+jyhXCRJsZiwvjEa+x45Yb4VEAUVNJLoY5UIv08VejEevGSMYWXxhsSNPgM+LP28TwFqiRAyZirYJLc2FA9Jx6bFtGhUE8l7mPa2q2DTG3gQyJtO+uwvE7wJ+VWJszkvLAJC0K5RcCxcA3n///UpW4fXXXw/EVfoxugeazAM6AGwyV+sXagoPBAMAyZ/FCAmLvJn6pDwT08CM+PnSLdROFXMdoQJALVOt8AuPQKGuCCDXbcqaD9O2nwUwxaPEnCgNEIWIdhUqqhtuSbM2lvkCQKYQX/3qZ5Tk7kW7aKfSVLA+34S1FcloG1WGQSmVSm2e11mpdOZePLQnRgwZKNG3Urz5/Xy0r9yIKNb6UTZO0tplbjNyYrrhngtPRbuUulVQPGV5ePbDr7DVkYRUSwWWFichyuCGZDWFwtmIY6LzlJrRXKkrfPgvfdCl1wDFHZ8s3I2vlstcE22wHKoxzBVQyPOePreHkg5tLNMKAPS3PqamqY2t1QhgIJ+HQPbtvvvuU4icmbLVTfeAljygA0At7YY+l7A9UBcAXLZsGVJSUqoLptV6P5tou/ILSE3F1QUA8/LylI5g1dSIIomlWQMYaATwzw4A3SJ7t3rlIqzZthsllW5ES11Xr44Zwh84GJaoyFKY+N4MrLnMzMxUoribd+3Gu1PmoL1VIpJW4WMRW5pjwP7KKAF2wGABgLGWqi7crfkenNwlAZecOwbFQhb9wowtqCzYi7blG2Bk5FKicTuQLiogTvyjv1DIDJVOXZVGpvbdKKnupV8+h3/t7YYS4bLbU2FVGj3IBdjaUIBeseWoFCKY/Y4oPHjOAOkg7aWM8Lcv1iCvuFTInnMFcBbAazTDaU0VcBqNET1Scd1QoUOJbxzf6QAw9EdKpADgPffco9TVvvLKK6FPRj9T90AjeEAHgI3gVH3I5vNAQwCQKWBKu/GLkelb0jOwKUM1AkB2/foy7qui7pECgIFy7TW1FwNJeS3ZVYDfhXQ51mwQkOVGqcuIIml+HSqSa8O6hMeXVt96fQHgjs2r8PaPK5AWa1boWGgbDjqxsSJBqSs7PqVcqbNjhG1LAXBxLztOGy31fWK/bMjBd8t3w5CzXiT8RKLMm0K6ZoxOyMJY+++IGXAhXH0uqXMqpjXfYPHC3zClvD/mFMn94zUq9X7tLUUwRydhd7kZqUIw/dQNF8IWZVHGueXjxSjJ2SkJaeFONJiQ57ZjqzMFpZI2jpdUckaiHef2a4O/DsqoMx1MSpUduQIwpQ6xU4pdSSEHYloHgGy6GjZM5OI0aA2WRAQ457///e9KluGll14K8Az9MN0DTeMBHQA2jZ/1qzSRB+oCgMuXL1fewlnLR11fgrn8/PwjdH+p2UkaGF8AyDQxawV9gaIaUWTTSDARwAY7bZvIT/4u0xAALHe68cWSbDiknkut4+I4rHGjni4BDAFNY5gvAHTl7cLbX/+Ibc5kdI4l3YrMoaQCswtSBQA6BABWSFrYhL3lFrRCHsaN6ovkHlUSWmweWb7od3w8bxtWO9vCLF3ASWYnrJLK7W7Zj3HttiFhzHNKetivSRTQsvBtGNdNxq+FbTCx8lQUCxGMTZQ8KqWOMFaA57XD++DEY3pXnz7hi88xeacFHW0VwhdowuryFKX5xCyxwx7m/XCYhEhGIoJ3ndkfp3Y73F2tDrA5Oxfv/rgYW/Oq0sYp0SZcPrQzRg+qijDWZ80JALPyy7FPtJHbJ9n9RjjZbEVNbS0DwHq74hty/qG/33nnnUrkmh28uuke0JIHdACopd3Q5xK2B/gFT+b82kYAwZojFnSr9X61Zd94zoEDB5QI4UknnVQ9xNECABvqejwo5L1fLM1GSoylRgTKJehvT0ElLpGGhrZS59YYxv0j35miyiJ7vOvXD/DZepc0eqQKVpNomDSmxFbsg02ImQstjOp50d5ciDFdo9DptGtrdC0fWDkDz87aA68lBunWqnvF5TVgS4kVZyftxKXX3KnUFfo1Ib+2/fIwjNQFNkVhY2kMZhW1hejFKJ3IJx13LHoMET5E6fpUrfDzGzF+71Bs86ShVOoNc11WkUZzSdo4Hx0sxUrUb5c7CQM7tcbjl9aMhhWUlOHuD35CdpkJycZSBbDmSwSRfIUPnd0bx/fp3iAAJIk5mxmaygrKnBg/bRPmby9QaF/MgtBP75mKB0d3rdZk5ly0DgADIkYPwKl33HEHyBbw/PPPB3C0fojugabzgA4Am87X+pWawAP+ACCjeuw2JJ8XZdjUer9gACCBIeXhVGNEkeORWDrYCGB9VCtN4KI6L9EQ71lppQufSwSQ2CY5RiTUDllhuRMVTg8uOy4DSdF1AKcwF1YDAMpYBmnIKF76GdZl5aFQMFyK1Ys+HVJhiU/H3j07YDIakd5J5N8yBcjXUiiZvWwVPvptPbrZS0QKTq2982J/iUQCY5PxzA3nwcwuEj9m2vYLrH+8hK3W3lhx0ACXED93Ffg3wLAVZnscPHHCC3n87XB1O0yKbf/fNTgoVDU/ewbhq4OZ2OGIR6bxIFJQKPWGUsMolDr7K0xoHRuFN26/qMZVf5g1G28uzEe6WQi3q+fkxR5HDIamufHEDTWPrz1lNjAx4t2UAPD2SWuwaEeBEuFkjaRL0uTkRDy3Xxoe+8thwPpnAICR0Ma+/fbblefEs88+G+anQD9d90BkPaADwMj6Ux+tmT3gCwD57y1btoBfgnFxcQoPINUkVKPsG3+OP/746t8x1cvuYN+0FKXhCCIjAQAjVVjeGG5uCADymnO35mHetny0ijYgoXIvygoPCngxY2BmKkYcLzQ5EhXzNVLEGHPWweCqEP7AdHhaSdqy1jGBrKU2AFTO8XpgyN9R1VgRnSochMLx6BN5q2vc3zcdxISfF6Obe6uU5En0kOleSe3uF0hmadUVz106uE4AaF76AX5YuA5fVh4vTTAulHmtKPVGIUmIYM60rcFZibvRNdWKirPfrl6nZdlHsKwU/sT4dph+IBGv5Z+MNsY8pYPYGxUnxNom7KiIwajEPRh9/nXSKSzqJNIZbJS1fPDFl/hyexTaSXezr+U65ZqiNvLRvZfX676mBoDstL56wjIYXWWwCkOiahXyX0YBu1NuPV5UQaruEQLANWvW1Ii2B3IvNNUx5OyMBGXTbbfdpjQwPf300001df06ugcC8oAOAANyk37Qn8UDKgBkVI4F5ox+8CHOxg6CwM6dOwcNAP1FChlRJF0KiaWDiQA2VGfXnH4OBACyCWH+5n3YtHoRKgpzYDOLkoatCKfE74e1w7Fw9RbJtUPpU6ZJLWu/hKE0V0CWrEyAjrt1Pzj7X1VFzByE+QWAQZzve+jewgo899MmiSIeRLo7WwF/zqhkbPGk48z+7XHF4LrJrHfM+wZPzRMwJmtxOiqw3dsGDolwkXcwyViODrYy3Jf4G3pe9NhhUmxRSrH9Oh7G/atQUlaO/yu8GJvQHokmIUY2W6QpRNLmksK2Wa0ojkpTKGwyU6Ix7tRMbFn4A95eJ/yGFtFglvSvatmOaAyOO4gnx92oKQD4y4YDeOCb1VIVWa4AWNXckmKvNFjxn2sHo3/bKq5F1uNSysy33CLELW2U0yIFAG+55RZ069YN48ePb5R56oPqHgjVAzoADNVz+nma9AABIClbmKK12+1gxy35/QgGY2Ji0KVLl8NfotnZYHSPQuuqHTx4EOvXr6/BTRZJANhQnV1zOnX+/PkIRPvUtGcxipd9jcLojiLvZZH0q1s0gUthLNkraiDXwiMgT9AhrKK7y/9VJNAIBkQuzliwHa4eY+TnnKCWGkkAyAtPW7MfU1YfABtbmO51Sa1aF4m63XZyR7SKq5uS5Zv56zDpj/UC33KwzNFWSW3a4JBIYBTiTC7EmpzoY83BYzddBqOvLJ6s3bRzDkwCig+sn4MJxYOxxNMDHuEPTJQ2kq2uVMCWiMS4WHhkLvmSVmejzZMnmPDUlFXY54lXCKyZUi1wW2HwuvHQsV4MPaPujmWus6kjgBtXLsA1U4vEKx4lwqlahdes6KVMub4nUtvI/fAnAYBsFouNDY/c/Oabb1Y+V48//nhQ97x+sO6BxvaADgAb28P6+E3qAUYVGGVjZK579+7V9X7hAEB/qWJGANlVTFqZYCKAgUTZmtRhPhcjAOzRo4dCWVGfmVd9CtPe5fAkd61xmPHgRrg7DYer53kwZi9F1NJ/ozyhO7ZIerNCFDLItdfBtUNpvnCc+rAI8QbeMUzibfpaaQLxYwT+Vdq+/mv3ap/C49ftK8HyrEKUCp8hU65DMhORYK+/hvGzxXswefFWJFXuxtqyJIl0VSjYtlxgoN3kQRfTfpTZ0vHCNSPr5PZjSjxqwRsozs2GlE7i1dKz8JuzF9okJ1TfrwSB+4oduPmk9hhQ/CveWFKOXc4khXMwyViGK9oewFmX3gJDXZyFhxbc1ADQtOlH3Py/7Vji7iaMiAKuBQhKn7ZClH2OeTHGX3s2POnHVAPAdevW1ei4b6573991I6XbfcMNNygE64899piWlqfPRfeAvEjySaib7oEW4gGKrpPLLzVVIio+RroJRgS7dj0MWiiqXlv2LTc3V0lL+YqsEwAyCugbKaSCAVPK7Exl13GgRNAtAgCu/gLFO1dgIfpibZFdQIsX/eIrMMS7AtHdTpXo3rkw7V6A7Plf4auK47FbCJNJXxJt9uBY216c12ofvCMeDaoWsC4AyMaUnzccVOoSSU/Tp00czujVCh2TqwiiGzJDkXACluXCG5MGrzRwNGRsbnh15mZYnYXYIj0c0d5yaUr2KJx+7DpOFGLCyriOeOXiftW1bv4Rq8T+8rYoqd/rpkv9YbETqWYhopZIKhGl1xqvdP6O6d8ad0oq2LN/HbasW6K8bHTu1Bn2LtItHEAtZVMDQEPBDpRNvAT3l1+HxQIC3QL82AwywrwST8d9DcMNMyX9X5UCJg0To+2+lEsN+b8p/04AyLpfZg7Cseuvv15hHnj0UbnnddM9oCEP6ABQQ5uhTyV8D9RFA8Nic6vUWLEWRzUCQH5B+sq++QOA2X5SxWpEkcXdwQDAxXNmolebWMTbpfFAdHM9CR3rVp4I3x1BjbBgwQIlalpvBFDATsXqKZg0bwM2udMlYhYFj3SxFlV60SvqAC45/RTYMvqgMi8L/548HVnOOGRSEtfoRaHTKECnAud3t+PEBlKXtSfuDwBSX/at33ZgqUTxqDHLVG5BuQvpCVb8/bROCv9cnSap6agl78G4e5FwwJQrkTR3h2FwHHeTot9bl7l3LcLT3y3D3JK2ig4wa/8skpaNthjRvZV08zqsGCqRxPtP7xKwxu/jU9Zh3oZdaCttKIfEgiVuZkK2KQM3Du8p/Ip11yQ2tMGUNaTOde/eh3kJGzon3L9bp98Hy4ZvscnTFtnCxNhJ/n9HYw4cx/8NjhPurh5e6wDwt99+U1gDwgWAY8eOVeqQH35Yot666R7QkAd0AKihzdCnEr4HggGA/mTfWD/IaOGpp55aPZlIAUBDsQDOWR+hbYIF9hhpgpA6Lq90xuMgcX4AACAASURBVLozT1W6WJvbCAAJkCmZV23Svevctx4bs/NxUDpP7WV7UX5gG37JiVPoT8hLR+m0Slsqtpm74MJTBuPYjklYm12Mj39egE7OzQKQZDSFq68Su71piG/bE3eeeYwPrUnDKycAZFqfndyqLRPg98asrUg35CFaOADhdsFjT8FmdxrO6JOBa0VirS5z/PYKvl97UFKvvcF+1WOi9uJC6yJ06j8MzsG3+T9NmjkWfP4c3jrQH9neZJR4okQJxCSpThdaSR2kPT4VHZJtuHdk5/rBZ63Rl876Gk8sMigJ0ySp82PDBBtDUoT37/WLuiOt62GlmoY9VfOI5gCAcFVKivufsEik2CDg2iu1jY4B18FJcM374JD9GQAgGQKo4xuOXXvttQqQfPDBB8MZRj9X90DEPaADwIi7VB+wOT1QFwBkWpfNIIxwqeZP9o0AkNG94cOHVx/nL1WsppRJKxNQBNAj7QKbpiFrzXwkdT4WcfEEgKQx2Q5PiqTKOo8KiMKkMX17BAAsz0fZ0i/w1YZKITyWaJdIp3k9LuSa02G1RaO//SCinfnKl7wrYxC2GDOlji4J5/RrDUrGUTWkh7UAhpI90gBSKSA3BbmWDLiFl48gKVA5M67ZHwD8dkU2/jdnObp5tlcBi0N0LtlCypzYthueu/iwdrOv36gk8vKnU7Cgop3U7XmVCF6hOwppxmI8niYawxc+I3M9sg4yf80M3PvjPhQb4pBhKVVq/wpdFmyviEVvafwYM/pMDO2cgsQguRBt347F97ts+MhxmkLyrJJY32P9Dv0GD4djyLiQt71ZAKA6W3l5MAho9trFl37S1fyskXLJNwIf8kIb4URGACMBAK+++mpljQ888EAjzFIfUvdA6B7QAWDovtPP1KAHggGA/mTfGJVgfV9tAFg7VRwsACQfnnnDd9iUXYDW7TIRL/WDijlKgMoSuHqdp3SBNqfVBoDmNZMwbclGzMxvI80N+2B1l6GwEpghhMYFxnh0jGbky4VuxmzEp2Zgg6kbTuueIqoPrbArrxzv/7FLqYmL85GH25pTht6SAr+unuicPx/4A4Az/liIT+bvQNdoAWPVyh2iElJsRJfW8Xjw6jF+3bl02WI8P3OH0r0cLY0bNFZCE8gNtW7H6BEjkZLRRaJ4thpp3Fkzp+LNpRVoZ5VuXB+luH3lJsSIBvF7d14MszX4aJH9q7/CUJiFYntbbHIImbUA0p5RObAW74Sz71/hOOm+kG+LZgWADcxa6wDw119/Vep+w40AXnnllQqrwP/93/+FvI/6iboHGsMDOgBsDK/qYzabB+oCgOw2ZKMGu1xV8yf7RgDIDt/TTjut+jh/qWLWFEZFRSlj8u+quoh6Uu3/jnIUIO3AHGQ5YpFrSJLUoQUxJjfaihRYEoqQky7NE5a4esdp6Bq+fw/lWAJichuyWcboLEXKugl4b09HeCS1mhrlhEMaEJY52mG/O0EUduOQEuVGlNT2xXpL0T5BePHiO+HcHrFoG29RNHenby3Dqn0VUp9ngFUQU2GlR6TADDi7u/AxJh+mWqlvrurfKMdH5RV2XqtWvn46Xl/hRZkpDm0kIkdMViRp2XyHEVenbkbfM2+ucR+qY/2wche+X56F9pZCIWCRjmTh8SNtSVZlrHTzin5wQgysZjP6tonGdYPSEGetSlv+tmwtPlmWgw7S7CEEftVj54n0MNVGXr56OGxRVb8Pxv9xy95F9LpJcEs5QHWKVKJnRomeFZ/8GByZI6qvFYivfO9B+q2ioqLGfd/Q/IK5RjgfdALATZs2YejQoeEM02jnEgBybvw8hGNXXHGF8kJ57733hjOMfq7ugYh7QAeAEXepPmBzeiBcAEgaGXII1gaAJJL27VZkBLC4uBiVlZWKuohZAANNbaqv3VzvlW7P0o2/4retJSiNThcgZFYoQFK9uRiUYYWty8lVKUyfMVQ/+o51xLg+Tfyh/k29JlPdKgA0VUpH65oP8c6ezij0xkiDhXRtSpp0nzNGyvoLsUvSrDb5pVEk10pdBnRIjMLIHmkYkH4Y2JE0euV+BzbkCngUSrhUuwHHtI5CxwRztZ/8rbG2D7guqkbYbDalkUddZ6t9v2P7lrX4zHEyCjw2pX/CLtxzJ5o34KJWe7Ctx601bkX1vHnZLkzbkAePyyH6HXaBfgY4pZbPKRAyxuBEtwQBlR4LClxmHJNqxKXdqwDtnmI3Pl9xADHuQsQbJaUtOWCDpPZ3iMZvj2QzLuzXqsa66tsP3zXaHLkYsPVtRFfuh8doITWDwvOXG9cTKzvepPyuobGa6zMXzkuHx+MBu/ZZmhEM6Az0msGAcH/H8lnAFw7e43Vds75rvPHGG8rLIRvL+HxQaal4DlPL99xzT53b9swzz+CHH35QXkb5osm51DaCe8rMzZo1SwGpBJovv/yycrxq7GTmdVgCk5GRgfvvvx+33lrzc9Fc945+3eb3gA4Am38P9BlE0AN1AUDSTfDBS0JW1fzJvhFoLF26FCNGHI661E4V84uLQvEul0uJEPALoiEaGLfwoMxcJs0UK4RrL9ErTSCxUlPnwE5nIjIye2LEwG4Bc9hF0F01hlq4cKFClK1Q6Eh9Ysmcd/DIIgs2uDIQKynOQo8VDgGtaciHVSJ/feNK4DDYkG1sjWN7dcfNp9bkBVQHZ7eu0y1rlk7Z2l+Yga6Fe0I9Vd8mEEPhLth+eQQHHEL0begpkTwTOpsOoIdzA1yDboSru3+y6eyCclw5YTmKyyoQ75UUvBgjmgSCbLw4JipbkWcrsLRCpYD1ly/qi3aJUgMpwOxfv2/BjJU7YHQUK1JnJVIPGGOz4JZhnTB8gP/1B7JGQ1G2qKZMgilrnqIN7Op8Opy9Ree3AZ4/f2DZ93pMATMCyPu+IRDZVC8a6vwIaghiqI1dex2+/x3MvBvyR11j+fs9nxmkjSJADdQ3vtf//vvvFaobUj+xs57ykgpfpfyw2eqCCy6o89YgaXRiYqJCP/XBBx8cAQAJnKlT3KpVK7zyyisKyGSzyYUXXog333xTGZd7T/7Bm266CVQjIT/q3/72N3z++ee46KL6NaQDuWf1Y/78HtAB4J9/D/UV+HigPgDIw3r1Ei3aQxYKACToW7ZsGUpKStCmTRsltcYmEILA+iy31IEf1+agOGs9OiQYJC0qR1tiUWqVeJooO/yljzQuBNk8EOmNrwEAZfApc5dh5uLVKHBAOmVF3EsAVo5bAI/RgSH2PeiWHi/ceW2xoSIRI3q2VtbQWEYA2LZtW6SnS5rUx8xbpsMixNRUHFFMmg3c7U+Ag528ddC57Mgpwd2fzEGOpG6p5EHgR6UKdvMygtjHlgeroVIB+HvN7fDEpSdVy5cRzP6y8SB+35SLwjIHemXEo1tUEXq3S1KIqrVmjFwzSu1732tljgQtmzdv1mQKmM8RpoAZ9WfkORy7+OKLce6552LcuOCbeSZMmIC///3vRwDAH3/8Eeecc46iZMTIHu2LL77AddddB5a2MHLJppMpU6YoXIuqMfrHGmeSvuume0AHgPo90KI8UBcA3LBhg/Lm7ftF6E/2raioCJQdGzlyZLVf1FpBksISiDAiwJQL/5dv8sEAwPy9O9E+I726lo1SZIXCXdcsAFCifArxsFnStgKcFi1apGglMwJIguU3f98BU+kB2PYvQ3aJAXu9iciW+j+PKHgM7xSDlNbtsbeoEhap77tuaLugqE+CvenqAoAchw0UVCahpq8nuUuVFF09KiNrVy7CszO2IsVcKdWXQmHjksYRh9RfVpHwoZdln/D6mZSUt0coWV69cijSMjLrnDLrQVVVmGDX1djHax0AbtmypQbBemP7I9DxVQBInWKWHYRjjMqdf/75Sro2WKsLAFJV5LvvvlPAnGqMNjLSyJQwS1hIZk/+wddff736mMmTJ+PSSy9FWVmZ8vzS7ej2gA4Aj+79b3GrrwsAkm6CaRNfQlwCQDaH+Kp+1AUACSBp/KInqz//m2nfQAEgU8BUrFiydjP6dGyt1NpxrlkFlWibaJX6udQmTQFTqs21bS4Kiwpht0YhJnMQFuTYkdmlu5JWKhQt2rd/3ylULUYkWES1QnR+IWnPvaLqsSjPjjZJcUICbRa1CytG9UzFgHaHmzMa46aqDwAGe73iRZ/h/tkVcJmlntFYIlQl+djsSsN2bxuJAjrR25CFSqOQWxsTcI5tJW65+Bx4Murm4tMBYLA7UHU8P39bt27VJABkmQdpYCIBAAn+GAW87bY6+CXrcV9dAJD6wmQmmDFjRo2zCVZ5zuWXX67UHDIi+NBDD1Ufw3Q010RuU2YwdDu6PaADwKN7/1vc6oMBgP5UP9jYwVToqFHCy3fIKBdHwEciYkYQWcem1hTyIRtIBJBD7SuqwKe/LJPMbxIShQeQ6cTk6Cic2DkJrePDizIEtZF7lmDJHzMxtzBV2jlipZbNgQHWvegsnbxJJ16rAED6ceLC3dh0oBRdUg9LYe0vluYH+dtZvdMQK/Qu7RJtiBYVjsa2SAJA89qvMGnWYnztGAqbp1Rp6igSVY993iSlrs8u3dmUeBtu34rrUtbBcN478MZXpdn8mQ4AQ9v9PwMAZN2eb1NFKCsdM2YMLrvsMqUhZPz48fUOwewDMw2q1QcA+VyaPn16jfE4148//hh//etfFQBIFRJfAmrWAXJNbPiqXU4Rytr0c/7cHtAB4J97//TZ+/EAa55qG+kmqKPap0+f6j8RAPLL21f1ozYAJFUFwQdr/NgYojYxhAIAeeFf5y2CKb61sIbEI95mQjuRK0uwN2EqRoicl/74ESbvsitkzkkWN8rcRuSWe9DbuxXn/uVcJHes8tHWnFJ8tXwvCsqciLWawXS1SeTWqLU7rMuRRMmNeTNGEgBSr9Y07W5MLe6GmUUdUeQ2w+Z1oKMhG92F77CtUMr0825EosUJ54Br4RhWP4GvDgBD23kCQKao2RGrNVMjgJEAgKzVIxcgU8Fcc31GaUnfmkM9Bay1O6NlzUcHgC1rP/XViAcCBYD+ZN/Y3MEC6dNPP10ppmaNDbtP+eAmmatqamF1oE0g6nn+NG2bctOcJXl4/8vJyPXEop1o9KpWJDq9ObLGa07pjR7HHZbBy8ovx3KRXNtdUIEkaVLp3zYevdNjQ+7mDXWtkQSAnIN5/bewLP8QztwsfFw2FFM9Q1EqlDC0OGEDvMz8Gy7pUIKKCz5SNJvrMx0AhrarWgaALBchhUokAODZZ5+Na665BjfeeGPQjmqoCYRdwmoqd9KkSUonsG8TCDuRWeaiGtPQpJbRm0CC3ooWeYIOAFvkth7di/IHANltyN+TFkE1f6ofKgBkqpcgjxQV5PCqXSuoNpWEAgBra9o25W4VFBXjnS+/R7R08sZH+xDcCk/hqgMO/PXE3hg6RHvEvJEGgPS5IW8rVvzxI55Zm6KobyQLsbWQdCBPaGXcQgPz0JndcEx//3JyvnumdQDIEgVf+qOmvN/quxa78ElVosUIoAoA+dIXbrPEX/7yFyUVe/311wfsetLj8AWVXbwvvfSSQjtFIy1NbGysUs9MGhjSIvHvPJb1fqw3rE0DQwoYUsEQ9LELWKeBCXgbWvyBOgBs8Vt89C0wXADIOhk2eLCDLiVF9GslVUwiVd9mEbWphF+sgdYAcif88dk15Q45hJz57cm/oOzgLrSJE/Jq4ZwTRmSUlhQpnbBXnHEyBnbv2JRTCuhapN4h3UWk65be+HU7Zq7ajk6endJF7Kyai8jKbRdd49EDO+H2UzIbnJ+WASCbLFj6oAPABrexxgGkAJo9e7YS9Q8XAJ555pkKACNAC9R47MSJE484nNQ0qkwlQSJ5/WoTQft2LTOKeffdd1cTQZMaRieCDnQXWv5xOgBs+Xt81K3QHwAk3UR5eXk16SydUlv1g80N/DLfs2ePwv+lyo75qxUMBwD647Nryk36fX02pi1YiRTXfiQZSlHqtSJb9D2SYmMwdkQ/pEtUQWtGAMhUV+3ORe5ZbqlTlEoMIfEoPv3jZizZVYh2cUJSXVmkLNtrTUBWkQsndErCP0Y3TO6sA8DQ7hZGANnJOnjw4NAGaMSzVADIlz5V5SfUy51xxhlKBzDTwLrpHtCSB3QAqKXd0OcSEQ/4A4CMhJSWlioULqr5AkAWffOLnKkUKifwrV01f7WCf2YAyO7jmUJJs3zrHlHDKBeqFzO6tm+Dtq596N21I9LSGo/QOdQN9gcAV+8pwudLs7HtYJlCodO/bRyuOr6totoRqH21bK/S7dxeupnZ4EIjZQ9rHq8/oT0uGFCTeNrfuCoALC/ch+mL12F3iRcd4404a2h/dO45MNCpNMpxWo8AahUAMmrKtGskACAZBe644w5cddVVjbLH+qC6B0L1gA4AQ/Wcfp5mPRAoAFRl3/iQZ2E0z2OXMGlgRo8eXQMArlq1qjr1wj+oXcWsFQwmBdxYqcxQNiNfunvzRKEkxmpC6zirkp5utPrE8nyY9ixWOPe8cRlwZwjVRR1KHf7WUhsAskP5iWmbwTWwOcUjkUB2K3dKicYzY3oE3Fl9sMSBx37YhJ155YgXP9CKKlzolBqNJ8/ujmRFsqV+IwDcuXUd3l5nkWhqlCgKexV1kTjRC3705EQMOemwrGBDY0X671oGgGxWIJWJFiOAkQSAZA+gHi+5+XTTPaAlD+gAUEu7oc8lIh7wBwBJN0GKl2OOOab6GgSA7MqNjo5WaF6OPfZYRf6LdTO+EUB/zSJqUwmJpYMFgP5SmRFZeJiD0BeNAQCNB9YiasHrMBZnKzP0GozwpIqE3on3wRsbWLq5NgB8Z/YOTFuzHx2jSkSXV2TgZExnVBL2OOy49eRMnN038CjmHon2fbNiL5bsLJTuZmBQhwRcPFDSzQmBSYCtWLoYz87cKjJ5sUg1lSljCB6V/45BB5GJ++DOC2CJCmysMLfwiNO1DgBZx+bLexfp9Yc6ngoASRHVkM53Q9dgzd7999+vcAHqpntASx7QAaCWdkOfS0Q8ECgAZA0So17spGNqmA961gkSADICqHL+EQAyQkh5JdVCBYDLly9XGhm0yMLfKA0qrkpYp/8fVu8vx2zvQOS4otEpqgCnYRHa9zhOQOC9Ae15bQB495crsTtrJ9p49x86nzJuRmw3tMc5x/fALQICgzWmxmmUtgvGpk39H15eZUG8RPyijFVj0Co9JokIWvD2mPbo0ad5UsEEgHypYbe61owRQK0CQL7UzZ07V+EIDRcAcgySMV9yySVa2wJ9Pke5B3QAeJTfAC1x+f4AIOkmGPEjdQKNdC/UvuWbPou0VbDH+j9KQPkCwNrNIjw/HABIwKkKuGvJ/41BtWLctwKzp36Cj0uHoMwTBavRjXIBRq2MxbgzdQm6XPgEYE9q0A21AeDzn/2I+btK0dFWpkT/aF63Czuc8bj62DRcevqwBseM1AE/TJ2MV1aZ6waA52WiR+/DtaeRum4g42gZAO7fvx9ZWVmajACqAJDRO2YHwjF2Ej/yyCOKHJxuuge05AEdAGppN/S5RMQDDQFAAjo18kdJJJI+q6YCQIJC9cGv1gqylkc1tauYNYPBpIAZATyaAGDJ1gV45Lu1KDEloK21vAqoSbBuW1k0+lr34YFrzochvm2D+14bAC754mk8v7M7LGYTUkzlSs3dPmcMYr0leHFwGdJPu7nBMSN1wPLlS/HcjC1KyvfIFHAxPrjrorCpREKdK+9TcsZpMQKoZQDIZwjpoCIBAKm9+8QTTyhKILrpHtCSB3QAqKXd0OcSEQ8QkJEexNfYbchULlU9mM6lTiY5/lTVD/VYPvjJtdUQAFS7ikksHQwA5LXZZXu0RACXb96JV6csREdLIUysg/NKilR4B4srPSg1J+HJa/+C1gnRDe577dS5deo4fLnTjq8qhoiOb5TAP6CVuRy3Wn/CicdJannIuAbHjNQBbALZvnMr3l3tRanH4tME4sCjI1pjyPEnRupSQY+jdQBIJYvjZL+0ZioAZNmHmh0IdY4nnHACnn76aYWkWTfdA1rygA4AtbQb+lwi4oG6AGB2drZCBcOoHQGYr+ybemGeS2JVRgXV2h+1WWTkyJHV8wsHALZq1QrkAtSaNUaH8kqhanlFAGC7yq2Icku61iNky0K5U4AYVNoz8NRVpyE1OaVBV9SOnFpWfQbLkn9hv70r1jnbwCxKHseYdiDecQCVI56Eu8NJDY4ZqQOqaWDKS/HTwlXIKvYgM8GEs04YgC5dukfqMiGNo2UAuG/fPoVzU4sAkJmAefPmKXW/4QLAIUOG4LnnnsN5550X0h7qJ+keaCwP6ACwsTyrj9tsHvAHAAkgWHTOTl8CMBrBINM8jPbVBwCLioqwePFi1AaABJCUigsmAkht4dTUVM0CwEh3KJc53Hhs6kbkZG1BZuUGSdUCZcYY7PakYph1G+4Z4IXzlAeljq+Kg68uOyJ1Xl4A+7Q7YMxZB69R6FtMEl2U/3V1GQXHsAfk36Jy0kSmZSJoHQCGdhNEEgBS6u7FF1/EueeeG9pk9LN0DzSSB3QA2EiO1YdtPg/4AkCmgtmwQb6xuLg4DB16WOfWHwBkU8gvv/wCkreqCgCkjyE3IH+nmkorEwoAZOqZqWitWV1qG+HOc9n2/fjouxnYWpGAQq8dLkmSRhucuCR+PW5L+APGs16EN7lz4ABQFDusvz0pvIKLhFdQKGDckvK3JcAx6Fa4+l+pSLk1pWkdAJLknCUPWjMtRwDJBsDyEN+631D9R5qbV199FWeffXaoQ+jn6R5oFA/oALBR3KoP2pweUAEgv/jWrVuHgwcPKhE3RvJ8001lZWUK278v6XOgAFDtKiZ9TDARQBJKJycnH1UA0FCYhS8++wAfFQ0WDkCRbDM5DnUDmzHKshq3nTccno71d+36RgCj/ngZ3rWTsQD9kVUZjSRXDoYZViIuMQVll0wCYqoivE1lOgAMzdNswOIPo/Jas0gCQD5zXn/9dZx11llaW6Y+n6PcAzoAPMpvgJa4fAIycp8RbDHKxzdwcv6x69CXdNYfAOR5M2fOVNK9qgi8v1rBlggAG4ujsKK0CP/492TkuazIsEkN4CErcJpQ6QaevKA/2nfpG1gEMCUWZV+MxfiDI7HOkSYKIFWntTbk42HLp+jbLhnlF0wErHGB3doSTbRsnCrRxIXwmqxwdzpN0sjSFR5EClkHgIG5uvZRWgeACxYsqMH9GdoqgYEDB+Kdd96pUWoS6lj6eboHIukBHQBG0pv6WJrwAEEfaV6Y/mV0ISoqCuw25BeOr+yUSvrsq/oRDAAknQyVRYKNACYlJSmKG1qzxqKoyS6swIP//R1x5bsRaxHEZhJ5NekE9jorsM3QAfddcBKGdKqfC1CdW9tY4J8fTcRPZb2Q7M2XZpI45HuloQQWpMt/fRz/NlqfdhtcfS9t2L0iT2f/4XapI1wr3cmHDmcdYbezpJHkqWp+wYYG0jIAZPkDPwdaTAFrGQDy5ZBlH77k7w3dB/7+Tt+Te/T999+vUUISylj6OboHIu0BHQBG2qP6eM3qAQK42bNnw2azKQ9etZPXHwD0R/pMzrSff/5Zqf0hcKQxAsiOQN9mEZVWJlgAuHr1aiQmJh5VALCk0oW7v1oDd+EepLlEDs4jYT8hby6xpCDf1h6PndMbPVoLsqvHVAAYk5CEW96dJgTelcjxJKAUVpgEvRG/OWFGb9Nu/LvvOsSc81yD96Fl8buIWvwveO3Jh+sGHaUwuCpQceZrcGee0uAYPEAHgAG56YiDCABZB8gImdaMAJBE8eQBDMcIAFkm8uGHH0aknjCcuejn6h6o7QEdAOr3RIvyAB+4BGeUW/Nl8CfdBH/YkadaoADQX7OIDgCDu20mLNiN71fvR4rVgwSRTCuTiN2+cjP6ZcTh0bO6wWSsvwtY5U80xqbg9onzUFachxxvAqIE9vFMAkARYkOsoQJ3ddyJC6/8W4MTtE+6BDm5OZjkHoH5lZmwGlwYZd+EC72/wNL/IjhO/keDY+gAMCAX+T2ItEwsy9AiAORnnp3/kQCA5Ar9+OOPwx4rdE/rZ+oe8O8BHQDqd0aL84A/Gpj6AKAv6TMbR2bMmKGkfqxWq+Ibf7WC7CrOzc1VoozBpIC1HC0iyGosjkLSwXwwbxcW7yxEqfzbajaie1oMbj25I9Ljq/xcn6lza90mA3d9uQbLduSA2r1WAYA0F+OAElVMlJjg0I6xePLKw5yNdY1b+Om1GLd7JHZ5Wkns0K2oiXjlZ6hpI54fUgmcqgPAhvYlnL9rHQAuWbJE0QIOx/hC2rt3b3z22Wc45ZTAIsrhXE8/V/dAMB7QAWAw3tKP/VN4wB8A5JcNdUdJyqqaP9UPFQDyzZ9p5PoAILuLSedCUmhf8yWOrf1vppNJL8Ox1b/VJpqt73z1OuGe4+8abJSx2+0KXY6/64R7TY6ZXexCTqkLcVYTOiVFKZG/QMbdtWuXMq/kxHisWL0Szyy3othtUgCgR9HeAFKNJfBII8fQbhm4Y1iGsoT6fPn51J/w5e4EpBhLYToUgKz0GlHsseEfg80YevwJAe0r9z8mJgbkUGzomg35ta75Bjqu73EcizWAtG7dumnus6tlAMjPKeuIIwEAe/bsiS+//BLDhjWdPrXmNlufkCY9oANATW6LPqlwPBAoAPSn+sE39unTpyvpGhUA+msWISBhXSG/KDp16qQAJ1V+rrYMne9/8xyOSy5A39/Xd05dxwXye/ox0ONIlF3kEWDltcJuNqBzkhlmAWiBnM9jjO4KJB5YiLj8tQogK07uh/zU4+ExHubl8x3LLWTOmzauwfpcl7LdPZNN0qzQFwZbfI3t5zn0c5TwPffeOREpecvwn4rheKfyTInbEQS6kGAWdkFzFMoNNlzRMwr9Uo3VY9Q1/5cWVyC/pBQp0jzia/uQiuPb2nFhF7lgZWHR+gAAIABJREFUAP5j3SjBli94C3Rvw7nPgzk3EJBdG2QGCjrrGruha5JyiTW70dGHpQAbOscfgK4Nehs6pr51qX/jvBjhZymJv/Eaeknj+W+99ZZyT5BsnnJwbPxS7xNST5188sl+t5DlJU899ZSiSMQaSaoWXXXVVXj44Yer65J5IuuJx40bp9QqklrqlltuwaOPPlrjPvzmm2+U3/ElpUuXLnjmmWdwwQUXBHPr6Me2YA/oALAFb+7RujR/AJAF50zb+hJB1wcA+eZPUEfzBwDJL0gQyAJvPnx96w3r8/vatWsRGxuLjh07amp7Kl0ePDd5MdYXGOCSKJjZZETHZDtuO6UjOqU0rNULZzmsvz6ukDNL3K16be4OJ6Ly1EcBc1U0VbWK4ny88PH/sKhIun8ldauY6AQPis/HP64+H/b4mvJwTAF3LluGNmukacOaAK85Gm8XDMF3xT1Q4RGgFp2EKFs0RvdqhdskrdxQTSEvd9Onq7DlQAlSTaXSQSI/Mg+vJQ4HnFZccqxEEYdnBrRH4aT1A3lpCBRM+juOdEW0zMyqtYQzluoMf2OE8gJDgEWZRb5A1Te3QF5AQjnf95za82d2gM8Mfk5DuT7B7Wuvvaacy1pC1jm2bt1aVBA9yu8uvPDCGvyjvjfaTz/9hEmTJuHyyy9H165dlSajm266CVdffTVefvll5VBymrKzm6UqBIabNm3Cddddh8cffxz33nuvcgyJrAkyCSYJ+iZPnozHHnsMc+fOrZEJCegm1w9qkR7QAWCL3Naje1H+ACDfpPllyDdx1fyRPvNvfAD7AsDazSL84mJ6iGk/jhdMDSABIM9Tv5C1slNfLcvGR3O3ITkmCmmJMXC4vCB9S+fUaDw7pieipGavtrGuj8Ax0W4WLr3vETX/VXhjJQ2qgj1nGQxlOag8+UG4ya3nYzOnf4fXlruRanbAZpKuYLEKtxEHBXzdNdCIM848v8bxBID9t7yNuNwVyLZ3x/JKSfHKF2m8qRJbi4S6pXV/9B9+CXq3iQ1Yu/XTxXvw/txdiLeZlZpEGjuWnUIu+OL5vXBch4SAticcABjQBcI4iMCAUSctpoBZl8syCnbSa82o/sPO83Dr9gj2GHmbOnVqWKDrpZdewrvvvgsqENH47wcffFBpolFrlZ9//nm8+eabSmaCe37ZZZcpQPHHH3+sdi8pr0hD9fnnn2vN5fp8msEDOgBsBqfrl2xcD4QLAJkC5puzmpryBYD5+fkK+GNqiL8ny38wAJCRQ46rJQDIZoq/f70O2QcL0SbBBnt0VeTTIeBuf1El/u/0LhjcMbF60/JKHfh8STYW7CiAy+1FxxQ7rvD8gKEFU+FNzKyxuYb87XB1PQOOUx6q8fsX/vMxfs+JQ3tbWY3f7xZlj5OSi/HQzdfU+D01lPtteBWT9yXhk8pTUeKpouhJMFbgZuvPGNM3FZUjnw7qxiKAfXjKRizfXVhNKG2RYsDz+rfGHadmBgwkdQAYlNurD9Y6AORLR11p2kBXTADICCdBmC8DQaDnq8c98sgjyospG1No11xzjRI9/e6776qHImAl7ylBIq/ZoUMH3H333cqPaoxK/vOf/1SyIbrpHtABoH4PtDgP+AOAfFNmHcyJJ55YvV5/pM/8Y20AqDaLkESaerm9evVSxmCKqCUAwMJyJ+4SAFheWoKUGAuiLRINEyUMj2jq7swrx99OzsTInqnKmhnxe3zqRqzOLlYiZ0wVF5Q5Ee/Yhydsk9CvlQU5LruAJ2nKMJXDWLhNAOBZR1CqvPjhZ/htv/0IAJhVEY1hrcrw0I2i6etjBID525bgpQ1JkqmVbl8BfrRctx0WrxMvnBKFXieNCfpeJsidvSUPK3aLIoiAvxM7JymRPyMXEKDpADBAR9U6jJEqRtO1GAFk5Iz3XCQAIF/2yCzgq0IUjMf43CKwe+WVV3DjjTcqp5K5gOOSYFo1NtVQ8pKcpcxMkMd0woQJuOKKK6qPYTfy2LFjwWeabroHdACo3wMtzgPBAkBf0mcVALJjj6laBfTIw/LXX39VundZd8M3a5VYOhQAyNpCte5JC853S8rzoe82YNOOnehsyJa2iiqi5mJLKgqtGXj07F7olV5F1PzH1jy8+PNWpJnLYXPkKqTOnqg47Cozo79nHWwWMzY6qrR4e0YdwLW22cgceRPcnWvSssya/StemVeAZGM5os3SMiJ4q9xlUADd34cm4PThI2q4hl/GX26sxMLtouuMHPkbU7ZCAC0Rlj2GNJw/qAvuGNm9fndKnaJ5y/Qq5Q+pI3SK4oc3uYv/c0QlxFiUpaS0vQ1oC+sAMLS7+GgBgHxesKFjypQpGD9+fL3OYr2gL1AkqGM5Cn/+85//VJ9LAMhnyHvvvVf9O0ZUyUrA2j/WOhMATpw4UaklVO3TTz/FDTfcoGQvdNM9oANA/R5ocR5gbR+LrX2NHa6kxDjppJOqf+1P9YN/5Ns6j1MBIOuUmHrp0aNHNXBTeQX5sA4mBbx+/XqlC1hLAJBrnjt7Jt6ef0AglRFJUVLb5zGi0GXGCSlluGfslTCazIrfPpe6uc/nrkWmZ5dSg1dlUi/obYVsdxzSUIhkU4ny21xPLNJjTBgvnHzpSTW1eR1OF17677eYv99UnX5l0G1oKxfulyYQa9ThzmGORQD4r9UubM2rRGtjEQyi4cswo9caj2xXHE7plorH/1I3ADSU5sD2/c0wHdxYvf9eqVWsPOVhuHpfdPhWcVVi+/S38M36UmxxpaGdKQ8XdhYut3PurFNfWOsAkA1KbCbQmhEA5uXlKY1UWjNGAKklHi51C19QCMrmzJmjROf4LKnPGNVT2QcI/tjkQeoqRvJ8G830FLDW7pg/53x0APjn3Dd91vV4IFAAqHL+1Y4AUgqOKRR26/KLgDQLTBePGjVKiQLSVF5BpoWDBYAs2u7cubN29lC6b61T78CPO9yY6h6KXG+sqGJ4cFL0Llxp+wNRpz8KT5tjlflOm7cM783ZgfbmQskSHwJp8iW3piwJpYZoDG5tgKlSaFUEnLmtidgpKd0rB7fDXwdV8fL5msPpxtwlS7Fsa7aCJY/tmoFhg46D1VJFv+JrBIDTdxsxfUspWgtxtJqiZfTyQHElrj+xvVynbZ0+tf7yKFatXo4PXaOx0tleagfLcb55Pq6OWQT3lZPhjavi8Fs8+Q383/rOKPdW1RjSLBIRfbT9Soy+xj8xtA4AQ7uVtQwAWV9HmpVIAEA1LduvX7+AHcUXTII/Zhj++9//VktaqgOwCeShhx5SmkBUycoXXngBb7zxRo0mEDazTJs2rfq6Z511liJFqTeBBLwVLfpAHQC26O09OhfnDwCS5Hjjxo01Huj+VD/oMRUA8u2d4I8pHNbhtFgAWFkM+7djUVJWDpc9FeVRyYgxOhFnEm69/G1wDL0Tru7nKDdT4eLPcfevDuQZEpFhKVF0eAvcVmyrjEe00YWenTNr3HS788sxpFMi/nFGzQhUhYC/71cfwK+bDip1hWwyOf+Y9DpVQQgAHVHxeGlePg6WOIRI2qxwDbJrNyPBitcu6o1WcXUoirgdWPvuNbir6AqRoLOKYJxbmAOryKNHmFfhudFt4TrmSrhLcnHZmzNEGSQFcahQ6hgJTEtgQ4KhDN+N7QV7mx5HfKh0ABjac4bE7Gyq0mIEkACQ++qbMQhllXyGkCCcz5E+ffoENISa9uVzhxJyqp45T1Z5CTk/ZiT48kogyOwGaWBI86LSwLAWkF3M5P4777zzlIYRNpPoNDABbcNRcZAOAI+KbT66FhkoAPRH+kxPzZw5E3xbJ2ULecD4IP7ll18iAgA3bNigvLFrKgLoccE25RZU5OyAJ77tYWJeSYcaS/aicvjjcLevos+xrPoMy//4CW9WnIV9rmhFOo1gMd5bjL3uRHTsdFhxgv7dJQBwTL/WuPGkDtU3IbuOn5i6AQu2HFDIo42i5eEQAud2KXF46eJ+AgJrcgbyRAJAkmeXmBNBXeF1+4qV8Qa0i8d1Q9srdDV1mtDR3PHaRCx1dUaSADm1v6Pca4ZTOA/fHZKPPiOvwqa1S3HdtzlKxM9iqKKmobm9BgU4vnaKNImcXJPOhn/XMgDkSw8BhBZTwASABQUFymdNa8Z58fMfCQBI/j/f5rGG1sp0Lxs1/JkvJyEjlLfffrsCLkntcuuttyoA0Jek+uuvv1ZAHzuDVSJochDqpnuAHtABoH4ftDgP+AOArL1h/Z1vV19dAJARQNbbEPiRP81ft7BKLE1qB16vtoJBXU7lFzLTyHwYa8nM676GZ+4bSk2dNVHSoW4Bf8XZ8KQK0fLoV4Xbryq6Zjy4AbYf75aomB1L0VNImKUxxpKDkqI8POocC6e9FVrFWpXoWo6kZskf+PhfuqFH66omEtqczQfx5LfLEO/Og91QpeVLkLVfNDkuGtQBt486MlKiAkDWU3HfCstdCpBLsNesFfTnU9K9nPPqz3IRB6IlqqkSVXulTrQAMbjt+CRcNWoINm7bgbGfbxQA6PILAF8dnYKTJEVd23QAGNqdrHUASMomX9aAUFbJe5X62qwnZMRON90DWvKADgC1tBv6XCLiAX8AkHQTfKOvTexam/S5rKwMs2fPVgq2+/YVWTJBGSoA9K0VVImlWaDN69ECAYFaBYBwO3Fw2rNIy1sMm8EBrylKOmS7ofKEu2py+8kXmmXZv2FZ85UCEtU8KYHi1A7/wGerS5ArtDC0lGiLUpenUsiom/vu93Pw9eoCtDFLFE9VARHIeNBlQ3qcDRPGnXXEfeALAIO9SRhxPOfNuagoK5bUbnnVnOV6Uj6IAmMi7h3dBxcNbAPWE1722vfYVSF6yHJcjRSw2YnJd52BGNuRgFMHgMHuSNXxVNJhKlOLEUCmpvnCGAkAyMg1waQWybhD2zn9rJbiAR0AtpSd1NdR7YFQASDBH9MpbOpgZI/F0jR/3cK+AJDH19aCrWs7tJySY0opJcqB9jEueIXahaBO2n+PXIqAQNOehTDtnAuDowTu1n3h6jwKsCVKZM4p6dkSRQyud5s4hSuwtn0oKgSfbpcOYXNpdTqWxxwQ/sDO1iL8656rjziHERRK7jECGIqRumby8j0C7Eph8VQo3c6FhnhF7u/zsQOr6wfnbcjCQ98KJ6L7MA8gaREfHNURZw/2H8HRAWAoO3L0AECmZ6nIorWof2i7pp/VkjygA8CWtJv6WhQP+AOApJsgwCGflq+ppM8EcAR/TNcwvUt6l4SEKikwFQCyK0+VXQoVAPKLIFBaDkNZnqJR641Jq07BNuYWNxWQ2TD937hnWYro9RoRb6hqtqj0mpDntuHW5BW45BbRDq5l4QLAfIlK3vvNOmzYT4qaqgigTbqN7z+9M87sLf71sc0HSvG/+euwLacYbRPtOH9ob/RvV7csXFP5LZS912zEWRbDCCC77Blp15rxeUHf+UpHhjJHpoD5HFHVOUIZQz9H90BjeUAHgI3lWX3cZvNAsACQ0T4l+iWpmt69eyukz6RfUAGgv25hVVmEhKvBRAADAoBCQhy18hOJsi1W6tZIROzsMaZKTzcIhYpgN4BAJi4uTml8aUwzZi3ER998iy8qhqBSKu4g9X9GoZ0ZZNqC8cPssJ5wS8QBIAdkt/EcUf1YLxFKRiZH9EhB+6Qq2btgLVfk8DheulDSrJPSgvj4eKVmVGumA8DQdiRSAJDPDmYSduzY0eifq9BWqp91NHtAB4BH8+630LX7A4Cs6WEd2fDhw2usmhFAEq8S/JGmgZFAAsCBAwdWp4BVAMhzVZJWEktv2bJFYdwPFgDyGnXWA0lHbtTvT8G0ewm2mbugxBCLdp4sIVcuh2PIOLgza84/klvYVAAQwjtomfMC1q5eirmVXQUEioqIOQsnZxjgOfs1wJ7kFwAylda+fftILjnosXbklmH8tM1YsqtQObdtohWXdbModY5aBIDsOrdYLJpMP1KPljx1Wo0A8mWNn+9wjPXDLF3gWrV4f4SzNv3cP78HdAD4599DfQW1PFAXAKS4O9O4qqkSb2lpaQrgU5s4CAAHDBigUCvQ/HULq8oiTBEFAwDJ10WrCwAa961E7sxX8WHJSSKplgKHKHLEmx043bIa52c64D7jeZ/GichuPZtkSH7d2BHAKqd6YNrxO8zyA1c53BmD4BJpNkQd7hb2XR1TwM0NAFnfeO6/lqBI/td9SASlKpkMPDOqNcYM0V6Xpw4AQ/uMsGmMn9VwASCfRXy5JOk1G8t00z2gJQ/oAFBLu6HPJSIe8AcAyeu1fPnyagBI0Maav9LSUqXTj6lP1X777TdFoL42AGT9IJsGaOEAQAJKagr7M8/G6Xhu+kasc3dARlQ5rEY38l1RKHEaMDZ5NYZf8YCApCqN4kgbASDl7yhHpTXTAgCcuHA3Xpm5TQF8vkZV4r6tbfj0xuO15jZoGQAyLcrPX6AEyU3pXAJARvjZ5R+O8SWTdcUkdyYhtG66B7TkAR0Aamk39LlExAP+ACDpJpYuXaow5xP8UXQ9Ojpa0ebkW35tAEh1AqZuVKtNF6MqixA8BhMB5JcKU8p1AcA1yxfglVnbkG4TcmbT4U7U3aVGtLa78cTNV1TL0UXEWT6D6ACwfo8+8O16/LQup1q72Pdou1maiB44OdJbEvZ4OgAMzYV8LlD9J1wASGYBqnewaYyE0LrpHtCSB3QAqKXd0OcSEQ/UBwBJBE3wx1o+pnlnzZqlPOR9AeDvv/+ucJPVBoDkECRopDUWAPxtwz58+NN8dDHsEdkNifQZhIZF+PbyHUY4EzLxwlWnIlZk0BrDdABYv1dfnrkV/12YJTohjPn5mhdtY0346a5hjbEtYY2pA8DQ3EcAyM5dNoiFYyUlJcjIyFAyBowE6qZ7QEse0AGglnZDn0tEPOAPAJJugilfpjgpxcaaP9KxUOJt8ODBShenaiSCZlqKtTuqqXQxKgBUlUUoFs80T6A8gIwAklamLlWAtdnFeHn6OqRV7EC0U2hgpFYOQsq809RBOPA64olzekjH7OHIYEQcdmgQktVyfVpMAbNLm92UzdkEsn3lbJw31aPI36lqInSdQX5zT8YaXDf29khuR0TG0qT04KGVMQXMCBk777VmfMHbvn172ACQzx1yV/J54fs80dp69fkcnR7QAeDRue8tetV11QAuXLhQeQgT/KkC68EAQII9AkhaqACQaSV2BtYFAF2iRvGKRJpW7C5CKyFltkkNYJ7LCpfBjOtF8/aUbodBaaQ3kQCQNY6dOnWK9NBhj6cFAGidcT+mrMjGg87r4YRJAX4klL7E+BueivsGznErw15npAegmgW5KzWlPX1okQRY5eXlLRoAsvaY3b+klVFriiO9x/p4ugdC9YAOAEP1nH6eZj1QGwAScDH6R8qJUaNGVYM/LoApYF/OP/6OEUBGJVJTU6vXOGPGDEUYXgWAqrQcU8rBRAAJADm/nj171um/POGY+2JpNlZLNNAhXHOJIql2htCMnNGrVUByc6FujA4A6/ec7ce/w7x+MvI90ZjhPk7E4qw4ybgG3Y174LbEoezO9aG6vtHO0wFgaK5lBJARSmYHwjECP0bUCQRVXtFwxtPP1T0QSQ/oADCS3tTH0oQHfAEg061s/iAIZD3OGWecUWOOpHw59thjazyc58yZg169etUAgD///LOiCkCaFJovAGQTCC0QLWDWFfH4+gCgOsGc4kqUOtxoLWTDdlGtaGxTAWB6uw6YtzUfO/LKkRRtxildU5AaG9XYl693fEYA+QXanFxq5vXfwj5t3BHz9IqecWH702G65INm9ZG/i+sAMLQtYc0eufvCBYB8TjCizlSwb51xaLPSz9I9EFkP6AAwsv7UR9OAB1QASPC3bNkypeaOgI5RwNNPFzUNH6tN+sw/zZ07V0nR+hZt1waAqrQcG0OCBYCMGHI+WjOChWK3Cf9eWYGtB8uU6THJmWS34MHRXTG4Y5U2cnOYFgAg3E7YJ10M077lMLA2k/6RJh23yYbtoz5Eep+TmsM19V5T6wCwoqJCk58FAkBK1VESMhxjJJEawHz5VLMH4Yynn6t7IJIe0AFgJL2pj6UJDzDaRxBI3j+CM77FE3T98ccfR0QAa3P+1QcAfeli/kwAsKgwH6vWrIJLgHDvHj2R1jrD7z4RLHywsgxL9lYi1SIibd5KeESl44DLjrR4Oz66+hhERzV+JNLf5DQBADkxZxmilv4b5rVfwyD/dnUagdWJo2Br06tZo5N1ffC0DAAZDdfqyxClHrOyssIGgByHpO9sdlE5RDXxkNQnoXtAPKADQP02aHEeIOhj2pfRBYI/SmGRcDZQAMjj+NCmQohqM2fOrEEXo0rLkRw6mAggC9+bMuoxe86veH/BARyURhJ2r8YZHbikhwWXjhkDg3RB+9qiFWvx6G+5sFQWIN5bVP0nl8GCg5Y2ePK8vhjW5TA3YlPeOJoBgH4WreW56QAwtLs0UgBw7969SjaBQJfsA7rpHtCSB3QAqKXd0OcSEQ+Q548NHwR/6kOXb+Cs7Rs9enSNazACWJv02R8ArN0trAJAcgkSAJDcWTXfWsDa/yZY5LG+0YD6jq9vzIbOy8vJxhuLClHuNSPVWKZ0rRZ4rMJjZ8KNPYWMukcfZXh1nG378uX4PNjcpYg2uQ/RncgBok+8D8m4flBrnJCZENA6A/GF77Ub+veePXsUn/lSaTS0/ob+3tA1a6+hrvFI7cP6LhL+hnrNUM9raA1abuwJph42Ig+GIAYhcTPvOTaIhWMcg+Ue/NzzRVQ33QNa8oAOALW0G/pcIuIBvnWzWcP3jbsuAOiP9HnevHlK3Y4vc39tAMiuPtYX0kj0So46X6Pcm2q+/2ZkgdEA8tn5O6au80L5/fTff8NXu+PR1lQiwKRKs5a21xmDQfH5uOHsKl1kdey87O14948d2O5OQ5qxpJrqrkhAI8Hj04MqEZs52O+8fccJZa7+fOU7DgG92WxWCLwbY3x1zFDGZskBARx5JRtaR13jR+TGr2cQFWA2FtBULx3M+Pwc0B/qy5BW5sh58HnBrIFvFiCYtfEZNGXKFOWz/t133+Guu+5S2Ad4j3Ccyy+/vN6SgTESoad2OWsRSR9D9oIXXnhBedaoxhfPcePGKbXNJK2/5ZZb8Oijj9Z4Cfnmm2+U35F9gM+0Z555BhdccEFj3276+H8SD+gA8E+yUfo0A/cAv5DZ+OFr5Bsj2DvzzDNr/N4f6TMBIHnTGNFRrTZdDIu7CQAJ5HhsoETQTal/+tbHn2HKnhi0jyqtseYcpxUdbOV46+9X1fj91uVzsG/2f/BM+QWo8EbBbnSiUqKHtIst8zDunBPg6nFO4BsRwSPXrFmjkHU3ZxdwXcsJNwUcCugMFGhu3rxZ4QGs64XDF7gH++9w580oGz+nKqgJd7xAfRLIOtm0wR/1JTDYFwQ2kEyYMEGpRV6yZAnOOussZXqM/nOsxx57rN7ml9dee01hHaB+MKOI9913n3I+n000dhVTTvK0007Dww8/jE2bNuG6667D448/jnvvvVc5Zv78+SBN1VNPPaWAvsmTJyvXZZNbuBJ3Efxo60M1owd0ANiMztcv3Tge8AcAWXfHdC9TwL5v8v4AIB+cpG6oCwDyS4vHMELArmI+5GmB0MA0JQCc8sN3eGeVF+mWMqiywgxM7pEI4NkZJbjz2itrbMCG9evQY/GDWFVow+eu07DRkYZWEj08z7oUF9qWwXHJf+FN7Ng4m9bAqC0ZADamQ7WcAm6IFL0x/dLQ2Izg8YcUUeEYP+8sE+EzwjdCHOyYjCaef/75SkSRqeR3330XDz74IJhRIMCnPf/883jzzTexe/du5Vl02WWXKUDxxx9/rL4cX4AZUfz888+DnYJ+fAv0gA4AW+CmHu1LCgYA+uP8I7gjeSvfvlVT6WLIRcfuYkYUCSpHjBgRVBMIucUYWaDUXGNbQe4B3D/xZ+yojEW8ySGaFR4Uum1INFXi2fN6okuP/jWmsHHjRiTlLkGnde8o3a6w2EWHuIrj0NnnUjiG3d/YU65zfAJA1tl17Ng8ALS+hYcbAWxMp+oAMDTvEvwxQknVoHCMdY6kkiFwCxUAknHgtttuUyKBjN7RrrnmGhQWFirpZdX4XCJg5TX5Asto+d133638qMbI4j//+U+F41A33QM6ANTvgRbnAX8AkA9ggjgSQfs+iAkAScrsy/m3YMECBWjUBoB8k+cXA8ldqRTCGp1QACDr2fr27dskfs/avgn/mb4AiwuodexFr+hiXDesG/ode8IR1ycAZJ1SD2sOLKs+g/HgOnij0+DsdQFcvS8CjM1DAcOJ6gAwtNtFywCwIV3s0FYcmbOys7OV6Fq4AJBRTqZb+cIYLAB84IEH8NZbbyn1iKSgmjp1anUTFJ9jfEl9//33qxfMObdt21ZJEzN9zBpopqGvuOKK6mM+++wzjB07VgGkuuke0AGgfg+0OA8EAwD9kT4TAPLt2bfgmuljgkQWZfOBzmuw2zhYAMjaIKZlmgoAfr96Pz6an4W80kpp5ADaJUXjnpGdMbD94W5e9QZQAWDXrl01d0/oADC0LdE6AGRNHGvZtGaRAoCswaSEJMtFnnzySYwfP77epfKZopJPU2+c0T9G63gesw8EgUzvEgAyyvfee+9Vj8cIYbt27ZTyFAJGAsCJEycqDSeqffrpp7jhhhuU7IVuugd0AKjfAy3OA/4AIGkY2MjBmj1GuVTzBwAXLlyoFM37AkB2AbP2jw9WNiMwisfjRo4cGVQKmACQqZt+/fo1ut8XbM/Ho1M3wS1fsvE2MzxS/1dY7hJ5Nwv+dXlfpMfbasxBB4ChbYmWU8Br165VFCgYLdKaMQKoVQBIMMVGL0b9wzF+psgVyucFwRxBXX3GfWKne21jXR+fSWp0T08Bh7Mr+rmqB3QAqN8LLc4DwQBAf5x/BHaIWO89AAAgAElEQVR8k2Y6hcaUL9/MGalgxy8tVABIdQFSyDQFAHxoygb8IZq+aXFCQHuIloZshQdLnLjxpPa4+vh2NfaenYRMU+kRwOA+EjoADM5f6tGMjrEjVosRwEgBQBJx8yWRL33BpoB9vcrnBrMSLGMZPny40gTy0EMPKWlqle6KNDFvvPFGjSYQPqemTZtWPRS7kUlZpTeBhHbPtrSzdADY0nZUX4+Snq1NA8MuPEbxyKdFPjnV+EZNwOPL90VeLYI//qhAj2kXRgNUImI2cjDVwvGCUQJpSgB49cQV2Jtf8v/tnQuwXUW55zvJJQyvi0QvBhTBEmV4iIjiSCS8fBQwJQFFBxUrqFgiSIm3HHyQEikqIA8RLUuQh2BiUWgIEoULiCTEEqpGgwoIg6XIQ0BAHJiBcBFDMufX3s5d2ezHWnv3PqfPPr+uisTstXt969drr/Xvr7/v6zBr7f+J25bR1m28RXh07Zbh3btvE/7nO17zIgHIdbILSmkNTxa1HU0CaTYyJXsASxeAeOve8IY3NAPecjT8Wa5l0ldXAPL84c8+++wTM3ZJ6qB8C/HH9EfWL4KSHUYIQUEIwpIyMByXysDwbGOvcmr/zZs3LyaMLFiwwDIwA43oaH1ZATha4+nVjBFoJwD5N7ZzaycAW4s+4+0jAeRlL3tZFHksvRATROZuDgHILiLsPjLsdvKSVeGWPzwetg5Prt/2be3YOvBfps0KH9/vteFDe08uAVjqUqYewP7uZEQLrcQJB0uueP4HFYDcG4ccckjgN1+nTBQ8+A6Fo2+//fYYO8iziPItiLe0KpGOO/7446NYRCgee+yxUQBWz3PllVfG7yEiUyHo97znPf0NmN8aOQIKwJEbUi+omwBkOaa6JVO7mn8IQDyCeOtYLkH4kS1cFYBpb2FiCsnwI5apzgMeIcnLIGcZmE7nvePab4Uv3rVdeH7azPDP058bKwIzLfzftf8lvCz8v3DBgdPCVm8ay+ytNDIWabwo6rQ611unnzrHsJSGAGQZbDzP22pbOy+OArDOCL74mNIFIDF7g07UEHHs6oGYnMj7tr8R8lujTkABOOojPAWvr50AZEn4xhtvjEsm1S3iOglAsuQ23XTTWAaCl35rvcAkAOmP5eXqLgadkHMcpWMQl3V2tEgvjDp9tzvnFkv/R/i3x7YKF/7tXeGJFzYbewGtC9vPeDJ8fuaSsPNue4Rn9/3S+q9xDmzD60n8Y2ntjjvuiN7XqgekFBtZlmOiUKJtJCFwH+PF7rcNS7gw4aDvFFfbyb5hnb8bD2IAWbYdNFuf3YKOOOIIBWC/N5/fGyoBBeBQ8dr5RBBoIgBba/4hhCj5wkuHGJwUL9haLxABSAYxJR7S/p5ca7v9Qvk3+kXE0FhWqnqShvWCm/nDj4YZD/8y/Pumrwy/+/u/hJnTXgg7/dNjYcazj4Y1exwd/r7PP7aXorFEROHbvfbaa4Ms6fEYv14CF08MZWCobVb13taxrVffvT7vdQ7iP7mH3vSmN0UPZa826Pl69d/6Od5s4iardS6b9lH3+CbXxj1/zz33xH2A60yG6trQ6bgmttEHApByTTvvvPNAp16yZEk47rjjYlhK3RjAgU7olyXQgIACsAEsD50cBNoJQJZof/KTn8S9M9PWSVxNqwDEY0LdLRJDqp6J1nIxeAjZRo5+c7Vem833+hw70jH8d/YTPw873b8orJ0+M6yZMbarx1jbaM3TYwfNCHfsfFJ4evN/ZDRzDSxj4ylKJXKq/aTr6yRuu33ealM/fVF7Edsov1Ptr9Pfm3JqalO1f5b2SAiiJlvTfvq1v+44UOyX3SEQ9VXhnGtse3HuNbEh256yJ2m/3Vy/o079NPmtsoUb4zqoB5DwALafJGmjF49hX7/9S6CVgALQe2LkCHQTgJRQqNbZqtb8o0YfcUlkmxJ4XfVMVAUgLxKWlPEqtFumbd04nlINlFhhmyaETN2N5atei27faXccg7ruhTXhn39xbtjkj9eHaWvHtnQbqwO4dmx7t6d3/1hY/V/fF+3gWhC9FJnlmjv29R9lZLrZ1Ou70aYu/bT7PNVPY1kaD0rT8w/DpmQnfbNMyJgSVjDweP0Hm344Vb+T/s7Y8ieJ+l7sh/kgaCc6sY0x7eQNryt0B51ktDtPiuvlWdBE6KZjqXG4ePHi+JwgtILyK4wDn/PnpJNOijsQ2SQwkQQUgBNJ33MPhUA7AcjL74Ybbog1tNoJQB7OLNFShf++++6L8WbVkiOpXiBLaVXx12tWzzLSqlWrYt2/8ViGexFQROrjd4UZj6wK66aPFYPeYb+wbsv/jAdD8OLFestb3lLcEhWcE/fqtnxDuWn66BTPJOI5hQH00cVQv0L8Wet93O2EvQRizs/xoGMfu+r0EvbtxG2nf2sinrsdSzgEAjXdd02vnSzi66+/Pm7jxjLwiSeeGNGnSdf8+fM38BoP9Uawcwl0IKAA9NYYOQIIB0RgtSUBSFV+4o5So4QCAfws+5Lxx3IUL6ZZs2ZtsHsCQoRlYV6oyXPRS/wRH5aKSleXCEsBjvfqtttuiy9hPB2lNYQ4Igtx2ov1RNgOO+6TEseW3wCxrOxcUyc2cbz5UWMPr/icOXPG+9S1zkd8IsJ00CLV1O7jucFyfDX5rJYRHiSBIRNQAA4ZsN2PP4F2AhArmJG3CkBiAFlm5EGfPH7ETVFXq7p9FkVVedEjAKtJH52uDpGIQCDeEO9faQIGRmRAs7Ra4jZhiGeW3Sm+jcgqrREfhrifO3dukS92hDMCC+9kafceY0mMHXFxg9bZG9Z9QWY3KwV1SyJ1sgPvOqEkrARsscUWwzLXfiXQFwEFYF/Y/FLJBDoJQJaAeWETs0VjVr5y5cooMNIG7Pw7AhCvYPLs4D1ELLFMjPewNZ6pXYwQmav0zxJSuxinYcY31YlZIsuROCe8E3WuZ7ztJYYKfgTh17medD/2SnDIdd9Sl5D7bNAkgVz2tPZz9913x/uu1DiztKNFidsOwpLkDbzig3p3mSiwqsC+wpRYskmgJAIKwJJGQ1uyEKgjAFkiZvkXkcEsv5rwQdA2SRE8/FPMDokceAqrrVPQPw99lld58FNGpm78EH03TfboleTQ7nPqERKb1Brg3vTcvext93kve7PcAB066UdI0lU7Ucl9g3e3rrjv1E83wdrL3m59Iji4h7FxkH6q5+h1DU0+J+EKLzs2tor3Jv3UnZj0YtD6Od5TbJs9e3Y0r9fEovVzfmOMAc8iyhexgrDtttvGfrhnWJavhqIM8763bwl0IqAA9N4YOQKdBCBlYFgS48GLl4/jeCDzkK8WykUAUnKEMjAp4xdIdep4pbg6CkiPx9LlujXPh5tvXBau+99/DU/+/Z/CG2a9EA7f7y3hFa97Y9tx5cWUil8PUhx4mDcNY4NwqXqvcmf/9hKi3c5HggAeXmrE9dNPP8K4yXlIsGAXG+7fJExyT0J62dNtcsB3EUcIwCYTpF7nzJWFTT/8TlozlJtMkFjiTokf7X4rZ5xxRvj85z8/zJ+RfUugJwEFYE9EHjDZCHQSgOwEQlA8CR8INZIfyPwlO7fqAWT7JuJ18ACmZJI64o8XL3FhvHjHRVyNvai+ecnF4fI/zw5r100f2+htrKzL2P++dPrq8I1524cdX//fXjR0FFQmvg6BWmJsGNvkIQAR6tV6jaXcg4gAvDmMcYmZyXCiqDcxZ8RPltj4nVBYnV10Uoma0uykgDY7u+C1G6TxLOL5Qjwwex5z//CH625a1HwQO/yuBNoRUAB6X4wcgW4CkKQHPDgIQTyBPJjbCUCWR0kK4WGdand1A8U5eWngOcQzNB7i6r67bwvzlz5Eeb+w+fSxOn9jbe3Y/3lq7aZh/y3/HM789DEbmExiALFXLElVS+GUcgPAmmV5xqPX9mATZTPZqzAklrTOpGAi7IQhwqXELf3gQWIEWbaI/FJbriLV3NNMFEhoGnRf4VJZadfkJaAAnLxjp+UdCHRbAkaYIf5SRl67Wml4BRGHCMA6Gb885PGs4dlgS7DxEgbfX7okfO2uTcJLpv/7mOD8Txir184MYyWTw3X/emDYZLN/7J6B14+lX7KdS/VcIcxT5mqpniG8k9w7pSYvMM7sUMM2hiWKfO5FPPB4ekv1UGIjvxXGeNDanTwbeI5cd911cUcWmwRKIqAALGk0tCULgXYCEM8NBZl33XXXDZZnW0u+JDFH/a7WbdEwrl0wOMvE/OGFm8Rf7uD0dv39rzExctlDW4ctpz27gQB8dt3MMGNMAH71kO3CRjM3jkxZ8qYRd9U08aBuAHw7PnU5wP3ee++NL1xsrPbV6e91+26aANBpnBH4xIci8qvL0/1mUXc6Ty/e3X4k3LcILCY5pTYylFn+ZEm01IbHbpdddhk4jpf7muv8wQ9+EEW5TQIlEVAAljQa2pKFQKsAJB6KZTEexsT9pT1lOVlVAPI538WLQpZnat2Cz6llhnDBs5bKy/C9QYLu6wazP/74n8O//tufwwtj59tiGvZO+8cS8DqWgB8Pxx66f7wErh8BTJxj1TvZJKi9lUVdG+sG7pOVDPNqVmgvjuPBuGoD9watunNFp+vLciO36aSXmCVpiWOqHtSmQrnXOTCrziSiUz/8ZvCwVzOU6/RXPW87G3rZ3YQDRcjxlFczdZvYyDPkmmuuiZwWLVoU5s2bFyefaUWB+EIF4bB+JfZbl4ACsC4pj5s0BKoCkFp3FHtmGYaHOsswVQFYLfnC99ILtE4MH6KFWCGyVSdqWfWyq34cLr5rXVizDp8fEjCE2RutDl8/au+w/XbbxWVplrN4+Wy99dZFjiEZlylGikLbJTbuDZZWWbZMHspOdtYVvXWPqyuEuXfxchODSgxrHYGf24aqre3s5nws8zMZqXpR69jai0Ovz5tMGAhHIIufLOVe19Tuc54NX/jCF+IYpIxnaosyRvwb8Y9nn312ibe6Nk0hAgrAKTTYU+VSkwBMW7EhKngprlixIi7fVb1MSQAiEKsenl6sUh1BirsOul1Ur3N1+5yXyao77gw/ue2e8ORz68Ju22wW/vt+bwv/Mmur+KLBw8kWVKUWLOba2E939erVYc899xwExVC/y96ulFZhabXO5GCoxnTonLg6MtjZ7aZUG/HyIqRLzgAG70033ZRtGz22Mly4cGH0AtokUBIBBWBJo6EtWQgg5HjR4A0h1iiVPEEAIjJaBSAeQTwSCKY6CRwcx4uW2Xyp5VQAiWihJAhZv6WWnMBTgoeSl2SpW2Ux3niRKe1TamYt4/373/9+/e4pWX5IQ+iEDGB2USl5+ZPx/ulPfxptzFGsmX6o+ff+979/CETtUgL9E1AA9s/ObxZKAO8c5V1Y/kVYpHgoBCCCjaWY1BByPORTfFy7nR1aL5NtylgiIp6wZGGFaGGv1VKXVeFKxjXjwxJ1qQ3PGp7ifffdt9i6dbCjPiG72rADTamNHUAQgfwOS21MIJcvXx49qXjPB214Oz/1qU+Fo446atCu/L4EshJQAGbFaWclEKDGWFquqz7Ab7755iiIUgwXM31quuEp69Zal9OSp7C1PmDdIPQmwejJriYB6HyHxA+EVet2b/1mrNa1mXPXOQfH4aV95JFHYnwmsVZ1z1H3uCa2dLMZLyr3UbVYeDcbhnUfdOuXyQ4CENFS6qSE8cD7x1iXnAFMTCrPigMOOGB9DOAgz7WDDz44zJ8/P3z0ox/tqxt2Dbnqqqti7UQmq3PmzAlnnnlm2Gmnnfrqzy9JYP17ZexlRuy4TQIjQyBllFazcrm4qgBMGb94C1PiR2uQeGuAPHFqeKyI+SNAvFsmbN3g+rrZtNjfy740gGT8slUZxZSrGavVPur2N8h1dDsH/WIniQAs/da5tmHZ0o0L5ySRJmWs1k0kqHvcsH50TScM4yWq2U8blikBpO55BxHVdScC6Rx4AJlAshNQ3e+2O+773/9+fLbw3CF0YP/991+fBUzJqA9+8IO1hv+ggw4KRx55ZExg43l18sknhzvvvDNQToc9hW0S6JeAHsB+yfm9Ygl0KgS9cuXK8PrXvz56AFPGb51Cz1xoSiihfEOpu1Rg5zPPPBMzk4l17JWtOpEDyK4keIPIhkyZlhNpT6dzs9yPaBnWkmVdodhrsoEgILShGqNYR1SP90QA0YLHtxpbN6wM4H4nDIgsQjz4rfczaUrfWbBgQfRys+TNcybFGSMK8cz/8Ic/7OuWJ6uYjH6eZ4Ql2CTQLwEFYL/k/F6xBHoJQF6UTTJ+eWCTTYtQYTunUjMssZPt6BB+E5mZ3OvGwE4SPxACJSdVYCd71pJBXXIcJfcyXiYylEv2CDGJQrTkWlrtdZ/1+zmCnwQy7MzR8PSxbHvSSSfl6C4wKWEJHdFfcnZ/lou1k6ESUAAOFa+dTwQBXtzE8bQ2yk9Q3T9lAdfJ+KUPypSwpMoSTMneKgpSP/bYYzE5pdSt1OBJIgBxlwiWumMwEfcRu2oQ/8fLu1TRDxc8QtyjeFNLtpPfUNpHeSLGs+45KVRN0g/xlDna0UcfHWOPWbodtOHVpJwMiUlMTmwSGISAAnAQen63SALdBCBFm9N2aHVelg8//HAsr4GoylESYljASPrA+9da6HpY5+u3X4T5LbfcErN+B91ntV8b6n6P3WNmz569QfJH3e+O53EspXMvc2+X3IirQ6yWXO8Rfogr9vaeO3duFpyf+MQnwg477BBOO+20gfs7/vjjw7XXXhsLp5fsPR/4Qu1gXAgoAMcFsycZTwLtBCAzZ4QHAf3VuL9uweX0w/EEbFc9f00zQJsGujc9nmsjpo6kl2qNw7rZuHWO65ZUwNjW6YPj8FCSpEMcZZ0s6n6TGZoybL0GBDUJP9RQ7JWh3Otcw7z3GXs8QXi2KUpeciOLFValZ6+SnMRuJXh+czRKwDDZIXO338bqBZnEeM95LhE/eNhhh/Xbnd+TQCSgAPRGGDkCrQKQlyT/RhYvHiheQr2C6olX4oWFB4iHd91s3V79JthNj+sWKM/SGmVAqtvR9RsA32pfjgD91AexasRXEaeWlqhL4TrMH0EdEdtvlmuapKTYvzrnqivYewnbuqI/HYf3DztJgEit6WSqqe39cEX8M6GqxtH2w5UJBM+RpUuXxufOZz7zmfjsSRNQdieqs6rAb+TQQw+NcZ6UhDnhhBMUgMP8wU6hvhWAU2iwp8qlVgUgD8+mGb8cTyFpXlZ4VuosFU8U26eeeirayhJ19cU6UfZ0Oy/LaowHmdgltiRGeWnjVaOIeBJWTbN1hyVsW/slW5WJDR7V8RT9/ZzrgQceiNmreNTrZCg3Zdj0eO7BduNK5i73QOvYV49v993W85P0QRxp2pkolTvi+ZQSjBCBvdpxxx0XLr/88rBs2bLoPWWi953vfCeWhqkjIHv17+dTl4ACcOqO/cheeRKAyfOX6vzVEXJ8h0B1linZN7jkZArKVbDbB7FAxBiV3FKMIstqpb+07rvvvpj0w/iX3oj7RBCUHg+WMoCphVdyoWrGm7hfhHWu8T/llFMCE7WLLrqor9up03Pr0ksvDSSY2CTQLwEFYL/k/F6xBJIA5L9Nyr1wQcTYIADwqOGpKLkR/E/dvze/+c1FeykR1b/61a8Cey6XvAMEY809Q6wonha8VSU3RBWxYew1W/q9SmIFZUsmQ906klWIA8xV+3HhwoWxsPSiRYuy3E4IQmMAs6Cc8p0oAKf8LTB6AHiJ83LEQ0arW2qEgq2Uf0BQVZMpSiSErexjTCmV1h1PSrOX2C+8qpQpKd37Q5IKCQDYWve+mSjeLC+yrMo9UHqj7A9sc3nVhnm9999/f9xKkZqfOdo555wTd+244oorcnQXJ3sKwCwop3wnCsApfwuMHgACronjwfPUmmnaerVpeYV6bxRYpTxJ2gGgVDJkJlOihLiv0pf+EONpmbq6l26pbCkATNHntA1YqXZiFx41ltN33HHHks2MtlGnkFZ6BjA28iwgBCRXkeWvf/3r8ffa784f1cH91re+FSgFk4rSn3feednK1RR/E2lgdgIKwOxI7XCiCbzrXe+KS44p26763/T3JAzTXrnE6DDjx0uRMvWSB6hdP9VsPj5vPabaf+uxvT7rZS9eSmq+kfRRPXdrv8Qvpn+rXlM7e6rnZPzaXVMnDt36Q1Dh9UvL1HX7bWpDdVy7jVe7cUo24fnjRf2hD30o7lXba9yHeZ/3ildlkkM9OGLq2Nmm9Eai0stf/vLiJyxwpO4nqwd1EjTqcD///PPD8uXL43gN0thb+MMf/nDMKP7GN74RKPx+8cUXR+/iZJhcDXLtfnc4BBSAw+FqrxNIgPItLOGkJJB2/63+G9uSXX311eHLX/5yfOnjtaomkHTrp/VYLjtl+VU/a+2j3Wfpu+lY4hdbv0eA+pIlS8IxxxwTRUrVznRe/i39aXeebnbVsbMbz9Q3x/CiIvOXrN+qba1/H8TeKu8649TttkRQI6ZYrqzTqoK7l1isc2y7iUE30Y2nipjKuuK+rvBv0l+dY2F54403hgMPPDDGKqbEql7Muk1uuk3u6kzcup0bjzUeNmpAVpl1m7h16w/PH7Gag+zcQawvS/2I0iuvvDKce+65cau6I444Irzvfe+L5WFsEmhKQAHYlJjHjyQBREnpMV+AR+QQUD4ZZvwswyNW8aj18mhVb6pqOY1+b7ZOfXQTiUwA3v3ud0dPMMel8kF1hGU7UZvEcDshX2cC0G0icMMNN0RP1bHHHltrwpJEdtNrap1ItLuWKp92EwhqVF5yySUxY5VJSzdWOScsrROqupMbMsARgCyvd5tIdeqv9TvEI1MChljYfhsCmpWN1oYgpE4peyzbJNCUgAKwKTGPl4AEJFAAgRTjWoApXU1ANLK8nmtJddjXu2LFiphYRSWA1HJMSppMglqv8ZFHHomxyWSoV3coOf3008N3v/vd9TGWw2Zj/6NFQAE4WuPp1UhAAhKQwIgRSALw1ltvjUvTqVFiZvHixXHXIpsEmhJQADYl5vESkIAEJCCBcSTAMjJeSUIqDj/88PVnxhtInC1JKzNnzowFp20SqEtAAViXlMdJQAISkIAEJogAS9LUUaQUTGrE/xGzuscee8Q4SwXgBA3OJD2tAnCSDpxmS0ACEpDA1CGQysBccMEFcRn4wgsvjNvLUWSduMUTTzxRATh1bocsV6oAzILRTiQgAQlIQALDJYD376yzzgrsAkOh6q997Wtxe73LLrtMAThc9CPZuwJwJIfVi5KABCQggalCQAE4VUY673UqAPPytDcJSEACEpBA3wSoR3nqqad2/f4vf/nLuLtOagrAvnFP6S8qAKf08HvxEpCABCRQEoEnnngi8Kdb22GHHeKuKvfff3847bTTwrJly8Jf//rXuD/4UUcdFU4++eSYFWyTQDcCCkDvDwlIQAISkMAkJHD99dcHkkNe+tKXxqSQ733ve+HjH/943DP4nHPOmYRXpMnjSUABOJ60PZcEJCABCUggE4EHH3wwsHXdj370o3D22WfH/YbZGYT9h/EO2iSgB9B7QAISkIAEJDBiBNhfGcHX2l73ute5PdyIjfUwLkcP4DCo2qcEJCABCUhgnAnce++9Yc899wxf/epXwzHHHDPOZ/d0k42AAnCyjZj2SkACEpDASBPoJxOY/YL322+/+Ofiiy8eaT5eXB4CCsA8HO1FAhKQgAQkkIVAk0xgToj4O+CAAwLbxVESZvr06VnssJPRJqAAHO3x9eokIAEJSGCECTz88MNR/LFPMFnAM2bMGOGr9dJyElAA5qRpXxKQgAQkIIFxIpCWfV/1qleFRYsWbSD+Zs+ePU5WeJrJSkABOFlHTruzEzj00EPDb37zm/D444+HrbbaKrzjHe8IZ555Zth2222zn2uQDlPx1+XLl4dHH3002ld68deFCxeGa6+9NvKlQO1TTz01CIKs32V/VUposL/qrrvuGs4777wwd+7crOewMwkMgwDLvR/5yEfadr1u3bphnNI+R4iAAnCEBtNLGYwAG6vvvffeYZtttgksq3z2s5+NHd56662DdZz526n46wc+8IGw4447ht/+9rfFF3895ZRTwkte8pLw0EMPhUsuuaQYAUgRXYrmIgLf9ra3hW9/+9sxgP7uu+8OeFVKaz/72c+iWL3tttuiYKXe22GHHVaamdGeM844I1x11VXhnnvuCZtsskmYM2dOnFDttNNOxdl7/vnnB/6k2nlMBL70pS+Fgw8+uDhbNUgCuQgoAHORtJ+RI0BxVV6uf/vb38JGG21U9PUhCniB/fGPfyzaztL2LCVonrIZsEtt5513juOOgCmtXXfddeGWW26JNr/3ve8tWgAedNBB4cgjjwx77bVXWLNmTdye7M4774zierPNNisK7Y9//OO4fMqEikZtPX5Tv/71r6NX2CaBUSSgABzFUfWaBiZAdf1PfvKT0RP485//fOD+ht3BggULAp7BVatWDftUA/VfkgB8/vnnw6abbhqWLFkSDj/88PXX9elPfzouVa9cuXKgax32l6dNm1a0AGy9/r/85S9h6623jlz33XffYeMZuP9Zs2ZFEfixj31s4L7sQAIlElAAljgq2jRhBD73uc+Fb37zm+HZZ58Nb33rW8M111wT99ksuU2m4q8lCUAC6F/xildEjxrLk6mdfvrp0QP0u9/9ruRhD5NNAP7hD38Ir33ta6MXcLfddiuW7QsvvBAnBfPnz48ewF122aVYWzVMAoMQUAAOQs/vFk+gaUFV6m/h/XvggQfCqaeeGrbccssoAnnZDrs1tRV7JrL4az/2ligAifEk9jM1ElYWL14cY9dKbpNJAJKQMG/evPDkk0/G/WpLbAhT7oPnnnsubL755uHyyy8PhxxySImmapMEshBQAGbBaCelEmhaULV6HSQsbLfddjEJpCoQhnWtTW2d6OKvTRYM6lUAAAhcSURBVO2FW0kC0CXgYd3JL+73+OOPj1nghFO88pWvHL8TNzgT98ODDz4YE5SWLl0ak4FYrtYD2ACih04qAgrASTVcGjueBP70pz/FTNAVK1aE/ffffzxP3fNck7X4a0kCEMgkgVBAlyzg1Hjh460qMQmkemNMFg/gCSecEK6++upABvOrX/3qnvd2KQdQBuo1r3lNzAy3SWAUCSgAR3FUvabGBH7xi18E/uyzzz6xBiDZtJSBoNTGXXfdFTbeeOPGfQ7rC5Ox+CueFZbWyawmsD4tA5J1yXLbRLVUBuaCCy6IXt4LL7wwXHTRRXHMt99++4kyq9Z5SxeALPsi/ihVc/PNN8f4v8nU3v72t8cVACYtNgmMIgEF4CiOqtfUmADxP2R/3n777WH16tWxFiBlLMiuJVGgpDYZi78effTRMbGitZXgXcX7d9ZZZ0WxT3IC9SBLzVJ95plnAskUtDe+8Y3h3HPPjduAkbFaWt3C4447LsbRLVu2bIPaf8TVUhewpPbFL34x1vxD8D399NPhiiuuCF/5yldiZv073/nOkkzVFglkI6AAzIbSjiQgAQkMlwCeNARfayNjtTRPVafEqUsvvTQwISipUerlpptuipMABOruu+8eqAig+CtplLQlNwEFYG6i9icBCUhAAhKQgAQKJ6AALHyANE8CEpCABCQgAQnkJqAAzE3U/iQgAQlIQAISkEDhBBSAhQ+Q5klAAhKQgAQkIIHcBBSAuYnanwQkIAEJSEACEiicgAKw8AHSPAlIQAISkIAEJJCbgAIwN1H7k4AEJCABCUhAAoUTUAAWPkCaJwEJSEACEpCABHITUADmJmp/EpCABCQgAQlIoHACCsDCB0jzJCABCUhAAhKQQG4CCsDcRO1PAhKQgAQkIAEJFE5AAVj4AGmeBCQgAQlIQAISyE1AAZibqP1JQAISkIAEJCCBwgkoAAsfIM2TgAQkIAEJSEACuQkoAHMTtT8JSEACEpCABCRQOAEFYOEDpHkSkIAEJCABCUggNwEFYG6i9icBCUhAAhKQgAQKJ6AALHyANE8CEpCABCQgAQnkJqAAzE3U/iQgAQlIQAISkEDhBBSAhQ+Q5klAAhKQgAQkIIHcBBSAuYnanwQkIAEJSEACEiicgAKw8AHSPAlIQAISkIAEJJCbgAIwN1H7k4AEJCABCUhAAoUTUAAWPkCaJwEJSEACEpCABHITUADmJmp/EpCABCQgAQlIoHACCsDCB0jzJCABCUhAAhKQQG4CCsDcRO1PAhKQgAQkIAEJFE5AAVj4AGmeBCQgAQlIQAISyE1AAZibqP1JQAISkIAEJCCBwgkoAAsfIM2TgAQkIAEJSEACuQkoAHMTtT8JSEACEpCABCRQOAEFYOEDpHkSkIAEJCABCUggNwEFYG6i9icBCUhAAhKQgAQKJ6AALHyANE8CEpCABCQgAQnkJqAAzE3U/iQgAQlIQAISkEDhBBSAhQ+Q5klAAhKQgAQkIIHcBBSAuYnanwQkIAEJSEACEiicgAKw8AHSPAlIQAISkIAEJJCbgAIwN1H7k4AEJCABCUhAAoUTUAAWPkCaJwEJSEACEpCABHITUADmJmp/EpCABCQgAQlIoHACCsDCB0jzJCABCUhAAhKQQG4CCsDcRO1PAhKQgAQkIAEJFE5AAVj4AGmeBCQgAQlIQAISyE1AAZibqP1JQAISkIAEJCCBwgkoAAsfIM2TgAQkIAEJSEACuQkoAHMTtT8JSEACEpCABCRQOAEFYOEDpHkSkIAEJCABCUggNwEFYG6i9icBCUhAAhKQgAQKJ6AALHyANE8CEpCABCQgAQnkJqAAzE3U/iQgAQlIQAISkEDhBBSAhQ+Q5klAAhKQgAQkIIHcBBSAuYnanwQkIAEJSEACEiicgAKw8AHSPAlIQAISkIAEJJCbgAIwN1H7k4AEJCABCUhAAoUTUAAWPkCaJwEJSEACEpCABHITUADmJmp/EpCABCQgAQlIoHACCsDCB0jzJCABCUhAAhKQQG4CCsDcRO1PAhKQgAQkIAEJFE5AAVj4AGmeBCQgAQlIQAISyE1AAZibqP1JQAISkIAEJCCBwgkoAAsfIM2TgAQkIAEJSEACuQkoAHMTtT8JSEACEpCABCRQOAEFYOEDpHkSkIAEJCABCUggNwEFYG6i9icBCUhAAhKQgAQKJ6AALHyANE8CEpCABCQgAQnkJqAAzE3U/iQgAQlIQAISkEDhBBSAhQ+Q5klAAhKQgAQkIIHcBBSAuYnanwQkIAEJSEACEiicgAKw8AHSPAlIQAISkIAEJJCbgAIwN1H7k4AEJCABCUhAAoUTUAAWPkCaJwEJSEACEpCABHITUADmJmp/EpCABCQgAQlIoHACCsDCB0jzJCABCUhAAhKQQG4CCsDcRO1PAhKQgAQkIAEJFE5AAVj4AGmeBCQgAQlIQAISyE1AAZibqP1JQAISkIAEJCCBwgkoAAsfIM2TgAQkIAEJSEACuQkoAHMTtT8JSEACEpCABCRQOAEFYOEDpHkSkIAEJCABCUggNwEFYG6i9icBCUhAAhKQgAQKJ6AALHyANE8CEpCABCQgAQnkJqAAzE3U/iQgAQlIQAISkEDhBBSAhQ+Q5klAAhKQgAQkIIHcBBSAuYnanwQkIAEJSEACEiicgAKw8AHSPAlIQAISkIAEJJCbgAIwN1H7k4AEJCABCUhAAoUTUAAWPkCaJwEJSEACEpCABHITUADmJmp/EpCABCQgAQlIoHACCsDCB0jzJCABCUhAAhKQQG4CCsDcRO1PAhKQgAQkIAEJFE5AAVj4AGmeBCQgAQlIQAISyE1AAZibqP1JQAISkIAEJCCBwgn8f2q6ddKcJEeIAAAAAElFTkSuQmCC\" width=\"640\">"
      ],
      "text/plain": [
       "<IPython.core.display.HTML object>"
      ]
     },
     "metadata": {},
     "output_type": "display_data"
    },
    {
     "data": {
      "text/plain": [
       "<mpl_toolkits.mplot3d.art3d.Path3DCollection at 0xc4251f0>"
      ]
     },
     "execution_count": 24,
     "metadata": {},
     "output_type": "execute_result"
    }
   ],
   "source": [
    "%matplotlib notebook\n",
    "fig=plt.figure()\n",
    "ax=fig.add_subplot(111,projection='3d')\n",
    "\n",
    "ax.scatter(x[:,0],x[:,1],y)\n",
    "ax.scatter(x[:,0],x[:,1],predictions)"
   ]
  },
  {
   "cell_type": "markdown",
   "metadata": {},
   "source": [
    "# FIN"
   ]
  },
  {
   "cell_type": "code",
   "execution_count": null,
   "metadata": {},
   "outputs": [],
   "source": []
  }
 ],
 "metadata": {
  "kernelspec": {
   "display_name": "Python 3",
   "language": "python",
   "name": "python3"
  },
  "language_info": {
   "codemirror_mode": {
    "name": "ipython",
    "version": 3
   },
   "file_extension": ".py",
   "mimetype": "text/x-python",
   "name": "python",
   "nbconvert_exporter": "python",
   "pygments_lexer": "ipython3",
   "version": "3.7.0"
  }
 },
 "nbformat": 4,
 "nbformat_minor": 2
}
